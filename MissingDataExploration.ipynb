{
  "nbformat": 4,
  "nbformat_minor": 0,
  "metadata": {
    "colab": {
      "name": "MissingDataExploration.ipynb",
      "provenance": [],
      "authorship_tag": "ABX9TyN7gtuYuZqbTnRLG4q37SGJ",
      "include_colab_link": true
    },
    "kernelspec": {
      "name": "python3",
      "display_name": "Python 3"
    }
  },
  "cells": [
    {
      "cell_type": "markdown",
      "metadata": {
        "id": "view-in-github",
        "colab_type": "text"
      },
      "source": [
        "<a href=\"https://colab.research.google.com/github/YolandaMDavis/cs109a-fall2020/blob/socio-economic/MissingDataExploration.ipynb\" target=\"_parent\"><img src=\"https://colab.research.google.com/assets/colab-badge.svg\" alt=\"Open In Colab\"/></a>"
      ]
    },
    {
      "cell_type": "code",
      "metadata": {
        "id": "6odxPuWieXHK"
      },
      "source": [
        "import pandas as pd\n",
        "import xlrd\n",
        "import seaborn as sns\n",
        "import matplotlib.pyplot as plt\n",
        "data_path = \"/content/drive/My Drive/Final-Project-for-CS109a/\""
      ],
      "execution_count": 1,
      "outputs": []
    },
    {
      "cell_type": "code",
      "metadata": {
        "id": "1-tlBVPFed82",
        "outputId": "53e54fb2-4af3-46e5-cdb1-571ed099bf6b",
        "colab": {
          "base_uri": "https://localhost:8080/"
        }
      },
      "source": [
        "from google.colab import drive\n",
        "drive.mount('/content/drive')"
      ],
      "execution_count": 2,
      "outputs": [
        {
          "output_type": "stream",
          "text": [
            "Mounted at /content/drive\n"
          ],
          "name": "stdout"
        }
      ]
    },
    {
      "cell_type": "code",
      "metadata": {
        "id": "aGJ2cfVjemlz",
        "outputId": "ff485022-3eb7-4c96-caf4-300affd8d7cc",
        "colab": {
          "base_uri": "https://localhost:8080/"
        }
      },
      "source": [
        "crime = pd.read_csv(data_path + '2020_10_31_boston_crime.csv')"
      ],
      "execution_count": 3,
      "outputs": [
        {
          "output_type": "stream",
          "text": [
            "/usr/local/lib/python3.6/dist-packages/IPython/core/interactiveshell.py:2718: DtypeWarning: Columns (0,2,6,12) have mixed types.Specify dtype option on import or set low_memory=False.\n",
            "  interactivity=interactivity, compiler=compiler, result=result)\n"
          ],
          "name": "stderr"
        }
      ]
    },
    {
      "cell_type": "code",
      "metadata": {
        "id": "2_w_EH8oe7jf",
        "outputId": "888db7b6-6083-4d17-e536-3abc7e6cb758",
        "colab": {
          "base_uri": "https://localhost:8080/"
        }
      },
      "source": [
        "crime.shape"
      ],
      "execution_count": 6,
      "outputs": [
        {
          "output_type": "execute_result",
          "data": {
            "text/plain": [
              "(526090, 17)"
            ]
          },
          "metadata": {
            "tags": []
          },
          "execution_count": 6
        }
      ]
    },
    {
      "cell_type": "markdown",
      "metadata": {
        "id": "i3MtaCiKgVgi"
      },
      "source": [
        "**Print out fraction of each column that is NA value**"
      ]
    },
    {
      "cell_type": "code",
      "metadata": {
        "id": "TuWSFvq5e-bw",
        "outputId": "4af04837-76ac-4347-c866-0a01d5274745",
        "colab": {
          "base_uri": "https://localhost:8080/"
        }
      },
      "source": [
        "for column in crime.columns:\n",
        "  perc_na = sum(pd.isna(crime[column]))/len(crime)\n",
        "  if perc_na:\n",
        "    print(f'{column} has {perc_na:.2f} fraction N/As')"
      ],
      "execution_count": 17,
      "outputs": [
        {
          "output_type": "stream",
          "text": [
            "OFFENSE_CODE_GROUP has 0.19 fraction N/As\n",
            "DISTRICT has 0.00 fraction N/As\n",
            "SHOOTING has 0.81 fraction N/As\n",
            "UCR_PART has 0.19 fraction N/As\n",
            "STREET has 0.04 fraction N/As\n",
            "Lat has 0.06 fraction N/As\n",
            "Long has 0.06 fraction N/As\n"
          ],
          "name": "stdout"
        }
      ]
    },
    {
      "cell_type": "markdown",
      "metadata": {
        "id": "yBldMcnNiG6X"
      },
      "source": [
        "**Seems like UCR_PART is not interesting, and we can drop that column. If we do use location, do we drop all rows that have Lat Long Street as Nas? If we don't use specific location, we can drop these anyway.**"
      ]
    },
    {
      "cell_type": "code",
      "metadata": {
        "id": "D24k2iO7gz9a",
        "outputId": "d4476068-1a31-489f-e3a6-2ac2a63b59f4",
        "colab": {
          "base_uri": "https://localhost:8080/"
        }
      },
      "source": [
        "crime.SHOOTING.value_counts()"
      ],
      "execution_count": 22,
      "outputs": [
        {
          "output_type": "execute_result",
          "data": {
            "text/plain": [
              "0.0    98021\n",
              "Y       1746\n",
              "1.0     1176\n",
              "0         54\n",
              "Name: SHOOTING, dtype: int64"
            ]
          },
          "metadata": {
            "tags": []
          },
          "execution_count": 22
        }
      ]
    },
    {
      "cell_type": "markdown",
      "metadata": {
        "id": "KchAD7r8hNBZ"
      },
      "source": [
        "**Looks like shooting uses both Y and 1.0 to mean there was a shooting, and 0.0, 0, and NA and None to mean not - make all nones be 0, and all y and 1 = 1?**"
      ]
    },
    {
      "cell_type": "code",
      "metadata": {
        "id": "aqb2nDfJhEu5",
        "outputId": "69aa019b-48d7-435b-9821-70dbb9cdfe5f",
        "colab": {
          "base_uri": "https://localhost:8080/"
        }
      },
      "source": [
        "crime.OFFENSE_CODE_GROUP.unique()"
      ],
      "execution_count": 27,
      "outputs": [
        {
          "output_type": "execute_result",
          "data": {
            "text/plain": [
              "array([nan, 'Auto Theft', 'Investigate Property', 'Investigate Person',\n",
              "       'Verbal Disputes', 'Vandalism', 'Motor Vehicle Accident Response',\n",
              "       'Aggravated Assault', 'Residential Burglary', 'Larceny',\n",
              "       'Firearm Violations', 'Medical Assistance', 'Simple Assault',\n",
              "       'Missing Person Reported', 'Robbery', 'Property Lost',\n",
              "       'Violations', 'Firearm Discovery', 'Warrant Arrests', 'Other',\n",
              "       'Ballistics', 'Towed', 'Drug Violation', 'Fire Related Reports',\n",
              "       'Fraud', 'Disorderly Conduct', 'Larceny From Motor Vehicle',\n",
              "       'Police Service Incidents', 'Missing Person Located', 'Harassment',\n",
              "       'Property Found', 'Liquor Violation', 'Property Related Damage',\n",
              "       'Confidence Games', 'Commercial Burglary',\n",
              "       'Recovered Stolen Property', 'Homicide', 'Other Burglary',\n",
              "       'Assembly or Gathering Violations', 'Counterfeiting',\n",
              "       'Prisoner Related Incidents', 'License Plate Related Incidents',\n",
              "       'Restraining Order Violations', 'Search Warrants',\n",
              "       'License Violation', 'Landlord/Tenant Disputes',\n",
              "       'Auto Theft Recovery', 'Operating Under the Influence',\n",
              "       'Evading Fare', 'Embezzlement', 'Criminal Harassment',\n",
              "       'Harbor Related Incidents', 'Service',\n",
              "       'Offenses Against Child / Family', 'Prostitution',\n",
              "       'Biological Threat', 'Explosives', 'Arson', 'Aircraft',\n",
              "       'HUMAN TRAFFICKING - INVOLUNTARY SERVITUDE', 'HOME INVASION',\n",
              "       'Phone Call Complaints', 'Bomb Hoax', 'Manslaughter',\n",
              "       'HUMAN TRAFFICKING', 'Gambling', 'INVESTIGATE PERSON',\n",
              "       'Burglary - No Property Taken'], dtype=object)"
            ]
          },
          "metadata": {
            "tags": []
          },
          "execution_count": 27
        }
      ]
    },
    {
      "cell_type": "markdown",
      "metadata": {
        "id": "2MCyXQTRhlcA"
      },
      "source": [
        "**OFFENSE_CODE_GROUP seems unneccesary to use since there are so many varied names, and the same information should be included in OFFENSE_CODE or OFFENSE_DESCRIPTION, both of which do not have any Nas**"
      ]
    },
    {
      "cell_type": "code",
      "metadata": {
        "id": "83QOgYnti08P",
        "outputId": "9d30b680-037b-4619-a356-8f937879b4ff",
        "colab": {
          "base_uri": "https://localhost:8080/"
        }
      },
      "source": [
        ""
      ],
      "execution_count": 33,
      "outputs": [
        {
          "output_type": "execute_result",
          "data": {
            "text/plain": [
              "0"
            ]
          },
          "metadata": {
            "tags": []
          },
          "execution_count": 33
        }
      ]
    },
    {
      "cell_type": "code",
      "metadata": {
        "id": "gBHB0ao7i2rU"
      },
      "source": [
        ""
      ],
      "execution_count": null,
      "outputs": []
    }
  ]
}
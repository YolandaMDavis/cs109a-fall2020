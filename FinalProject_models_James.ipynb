{
  "nbformat": 4,
  "nbformat_minor": 0,
  "metadata": {
    "colab": {
      "name": "FinalProject_models_James.ipynb",
      "provenance": [],
      "collapsed_sections": [],
      "authorship_tag": "ABX9TyM0KHOf9crLX7l82bljO4Zt",
      "include_colab_link": true
    },
    "kernelspec": {
      "name": "python3",
      "display_name": "Python 3"
    },
    "accelerator": "GPU"
  },
  "cells": [
    {
      "cell_type": "markdown",
      "metadata": {
        "id": "view-in-github",
        "colab_type": "text"
      },
      "source": [
        "<a href=\"https://colab.research.google.com/github/YolandaMDavis/cs109a-fall2020/blob/main/FinalProject_models_James.ipynb\" target=\"_parent\"><img src=\"https://colab.research.google.com/assets/colab-badge.svg\" alt=\"Open In Colab\"/></a>"
      ]
    },
    {
      "cell_type": "code",
      "metadata": {
        "colab": {
          "base_uri": "https://localhost:8080/"
        },
        "id": "9ZHQkn5HyCTR",
        "outputId": "1f0abd3f-d48f-42ce-df37-2b939daf4963"
      },
      "source": [
        "from google.colab import drive\n",
        "drive.mount('/content/drive')"
      ],
      "execution_count": 1,
      "outputs": [
        {
          "output_type": "stream",
          "text": [
            "Mounted at /content/drive\n"
          ],
          "name": "stdout"
        }
      ]
    },
    {
      "cell_type": "code",
      "metadata": {
        "id": "U4F39yyDxvOj"
      },
      "source": [
        "%matplotlib inline\n",
        "import math\n",
        "import numpy as np\n",
        "import pandas as pd\n",
        "import seaborn as sns\n",
        "import matplotlib.pyplot as plt\n",
        "from sklearn.ensemble import RandomForestClassifier\n",
        "from sklearn.preprocessing import MinMaxScaler\n",
        "import tensorflow as tf\n",
        "from sklearn.neighbors import KNeighborsClassifier\n",
        "from sklearn.model_selection import cross_validate\n",
        "\n",
        "from sklearn.metrics import accuracy_score, roc_auc_score\n",
        "from sklearn.model_selection import train_test_split\n",
        "from sklearn.preprocessing import label_binarize\n",
        "\n",
        "DATA_ROOT = '/content/drive/My Drive/Final-Project-for-CS109a/Milestone3/'\n",
        "random_state = 109"
      ],
      "execution_count": 2,
      "outputs": []
    },
    {
      "cell_type": "markdown",
      "metadata": {
        "id": "HhZqxV3o0BUY"
      },
      "source": [
        "## Data importing and preparing predictors and Response"
      ]
    },
    {
      "cell_type": "code",
      "metadata": {
        "id": "0MrlowGXyGeI"
      },
      "source": [
        "new_york_crime_data_df = pd.read_csv(DATA_ROOT + 'nyc_crime_analysis_data_final.csv').drop(columns=[\"Unnamed: 0\"])\n",
        "boston_crime_data_df = pd.read_csv(DATA_ROOT + 'boston_crime_analysis_data_final.csv').drop(columns=[\"Unnamed: 0\"])"
      ],
      "execution_count": 3,
      "outputs": []
    },
    {
      "cell_type": "code",
      "metadata": {
        "colab": {
          "base_uri": "https://localhost:8080/"
        },
        "id": "_jTZhsh_zA3I",
        "outputId": "c80f227d-d846-4866-b2a9-288a2b3bedd5"
      },
      "source": [
        "boston_crime_data_df.columns"
      ],
      "execution_count": 4,
      "outputs": [
        {
          "output_type": "execute_result",
          "data": {
            "text/plain": [
              "Index(['AREA', 'YEAR', 'MONTH', 'DAY_OF_WEEK', 'HOUR', 'LATITUDE', 'LONGITUDE',\n",
              "       'GEOHASH', 'COVID_PERIOD', 'WHITE', 'BLACK', 'ASIAN', 'HISPANIC',\n",
              "       'MEDIAN_INCOME', 'LOCAL_PROP_VALUES', 'STREETLIGHT_DISTANCE',\n",
              "       'POLICE_STATION_DISTANCE', 'HOSPITAL_DISTANCE', 'COLLEGE_UNIV_DISTANCE',\n",
              "       'ELECTION', 'PRCP', 'SNOW', 'NIGHT', 'OFFENSE_TYPE', 'VIOLENT_CRIME'],\n",
              "      dtype='object')"
            ]
          },
          "metadata": {
            "tags": []
          },
          "execution_count": 4
        }
      ]
    },
    {
      "cell_type": "markdown",
      "metadata": {
        "id": "N-e0XxL1dc67"
      },
      "source": [
        "Renaming STREETLIGHT_DISTANCE to STREETLIGHT_DENSITY, to reflect what it is actually measuring"
      ]
    },
    {
      "cell_type": "code",
      "metadata": {
        "id": "9t8Oy4RoDvaH"
      },
      "source": [
        "# creating new interaction of night and streetlight, dropping streetlight_distance\n",
        "# boston_crime_data_df['NIGHT_STREETLIGHT_DENSITY'] = boston_crime_data_df['STREETLIGHT_DISTANCE']*boston_crime_data_df['NIGHT']\n",
        "# boston_crime_data_df.drop(columns=['STREETLIGHT_DISTANCE'], inplace=True)\n",
        "# new_york_crime_data_df['NIGHT_STREETLIGHT_DENSITY'] = new_york_crime_data_df['STREETLIGHT_DISTANCE']*new_york_crime_data_df['NIGHT']\n",
        "# new_york_crime_data_df.drop(columns=['STREETLIGHT_DISTANCE'], inplace=True)\n",
        "\n",
        "boston_crime_data_df.rename(columns = {'STREETLIGHT_DISTANCE':'STREETLIGHT_DENSITY'}, inplace = True) \n",
        "new_york_crime_data_df.rename(columns = {'STREETLIGHT_DISTANCE':'STREETLIGHT_DENSITY'}, inplace = True) "
      ],
      "execution_count": 5,
      "outputs": []
    },
    {
      "cell_type": "markdown",
      "metadata": {
        "id": "9Na0jdzHlcBz"
      },
      "source": [
        "For Boston predictors, dropping outcomes, and geohash. For Generalized/Full, dropping also Lat/Long and Area. Using random_state to create same split for each team member"
      ]
    },
    {
      "cell_type": "code",
      "metadata": {
        "id": "Fs2JAZ-xyj5o"
      },
      "source": [
        "boston_X = boston_crime_data_df.drop(columns=['OFFENSE_TYPE', 'VIOLENT_CRIME', 'GEOHASH'])\n",
        "boston_y = boston_crime_data_df['VIOLENT_CRIME']\n",
        "boston_multi_y = boston_crime_data_df['OFFENSE_TYPE']\n",
        "\n",
        "# Create Train/Test splits for Boston\n",
        "boston_X_train, boston_X_test, boston_y_train, boston_y_test = train_test_split(boston_X, boston_y, train_size=.8, random_state = random_state)\n",
        "\n",
        "# Train/Test splits for Multi-class\n",
        "boston_X_train, boston_X_test, boston_multi_y_train, boston_multi_y_test = train_test_split(boston_X, boston_multi_y, train_size=.8, random_state = random_state)\n",
        "\n",
        "# Combine Data Sets and split for Generalized Analysis\n",
        "combined_crime_data_df = pd.concat([boston_crime_data_df, new_york_crime_data_df])\n",
        "combined_crime_X = combined_crime_data_df.drop(columns=['OFFENSE_TYPE', 'VIOLENT_CRIME', 'GEOHASH', 'LATITUDE', 'LONGITUDE', 'AREA'])\n",
        "combined_crime_y = combined_crime_data_df['VIOLENT_CRIME']\n",
        "combined_crime_multi_y = combined_crime_data_df['OFFENSE_TYPE']\n",
        "\n",
        "# Train/Test splits for full dataset\n",
        "full_X_train, full_X_test, full_y_train, full_y_test = train_test_split(combined_crime_X, combined_crime_y, train_size=.8, random_state = random_state)\n",
        "# Train/Test splits for full dataset, multi-class\n",
        "full_X_train, full_X_test, full_multi_y_train, full_multi_y_test = train_test_split(combined_crime_X, combined_crime_multi_y, train_size=.8, random_state = random_state)"
      ],
      "execution_count": 6,
      "outputs": []
    },
    {
      "cell_type": "markdown",
      "metadata": {
        "id": "HqG9I0FEdTJh"
      },
      "source": [
        "Take a look at the data, Make sure the columns look correct"
      ]
    },
    {
      "cell_type": "code",
      "metadata": {
        "colab": {
          "base_uri": "https://localhost:8080/",
          "height": 224
        },
        "id": "ZfMOZ3sU0SKx",
        "outputId": "eaaf56b9-5e97-4397-a92d-4c4b5086cefa"
      },
      "source": [
        "boston_X_train.head()"
      ],
      "execution_count": 7,
      "outputs": [
        {
          "output_type": "execute_result",
          "data": {
            "text/html": [
              "<div>\n",
              "<style scoped>\n",
              "    .dataframe tbody tr th:only-of-type {\n",
              "        vertical-align: middle;\n",
              "    }\n",
              "\n",
              "    .dataframe tbody tr th {\n",
              "        vertical-align: top;\n",
              "    }\n",
              "\n",
              "    .dataframe thead th {\n",
              "        text-align: right;\n",
              "    }\n",
              "</style>\n",
              "<table border=\"1\" class=\"dataframe\">\n",
              "  <thead>\n",
              "    <tr style=\"text-align: right;\">\n",
              "      <th></th>\n",
              "      <th>AREA</th>\n",
              "      <th>YEAR</th>\n",
              "      <th>MONTH</th>\n",
              "      <th>DAY_OF_WEEK</th>\n",
              "      <th>HOUR</th>\n",
              "      <th>LATITUDE</th>\n",
              "      <th>LONGITUDE</th>\n",
              "      <th>COVID_PERIOD</th>\n",
              "      <th>WHITE</th>\n",
              "      <th>BLACK</th>\n",
              "      <th>ASIAN</th>\n",
              "      <th>HISPANIC</th>\n",
              "      <th>MEDIAN_INCOME</th>\n",
              "      <th>LOCAL_PROP_VALUES</th>\n",
              "      <th>STREETLIGHT_DENSITY</th>\n",
              "      <th>POLICE_STATION_DISTANCE</th>\n",
              "      <th>HOSPITAL_DISTANCE</th>\n",
              "      <th>COLLEGE_UNIV_DISTANCE</th>\n",
              "      <th>ELECTION</th>\n",
              "      <th>PRCP</th>\n",
              "      <th>SNOW</th>\n",
              "      <th>NIGHT</th>\n",
              "    </tr>\n",
              "  </thead>\n",
              "  <tbody>\n",
              "    <tr>\n",
              "      <th>2742</th>\n",
              "      <td>E13</td>\n",
              "      <td>2019</td>\n",
              "      <td>10</td>\n",
              "      <td>Thursday</td>\n",
              "      <td>2</td>\n",
              "      <td>42.352341</td>\n",
              "      <td>-71.062969</td>\n",
              "      <td>0</td>\n",
              "      <td>0.550542</td>\n",
              "      <td>0.111894</td>\n",
              "      <td>0.061581</td>\n",
              "      <td>0.237167</td>\n",
              "      <td>84445.9000</td>\n",
              "      <td>9.305048e+06</td>\n",
              "      <td>32.0</td>\n",
              "      <td>652.050031</td>\n",
              "      <td>251.777302</td>\n",
              "      <td>109.854794</td>\n",
              "      <td>0.0600</td>\n",
              "      <td>0.02</td>\n",
              "      <td>0.0</td>\n",
              "      <td>1.0</td>\n",
              "    </tr>\n",
              "    <tr>\n",
              "      <th>26647</th>\n",
              "      <td>A1</td>\n",
              "      <td>2020</td>\n",
              "      <td>1</td>\n",
              "      <td>Monday</td>\n",
              "      <td>16</td>\n",
              "      <td>42.366435</td>\n",
              "      <td>-71.061354</td>\n",
              "      <td>0</td>\n",
              "      <td>0.727176</td>\n",
              "      <td>0.030437</td>\n",
              "      <td>0.140236</td>\n",
              "      <td>0.080069</td>\n",
              "      <td>89833.4675</td>\n",
              "      <td>7.404941e+07</td>\n",
              "      <td>12.0</td>\n",
              "      <td>520.414789</td>\n",
              "      <td>197.460227</td>\n",
              "      <td>543.641269</td>\n",
              "      <td>0.2775</td>\n",
              "      <td>0.01</td>\n",
              "      <td>0.0</td>\n",
              "      <td>0.0</td>\n",
              "    </tr>\n",
              "    <tr>\n",
              "      <th>198235</th>\n",
              "      <td>A1</td>\n",
              "      <td>2016</td>\n",
              "      <td>7</td>\n",
              "      <td>Monday</td>\n",
              "      <td>20</td>\n",
              "      <td>42.361110</td>\n",
              "      <td>-71.067414</td>\n",
              "      <td>0</td>\n",
              "      <td>0.727176</td>\n",
              "      <td>0.030437</td>\n",
              "      <td>0.140236</td>\n",
              "      <td>0.080069</td>\n",
              "      <td>89833.4675</td>\n",
              "      <td>3.901778e+07</td>\n",
              "      <td>49.0</td>\n",
              "      <td>590.590051</td>\n",
              "      <td>233.028485</td>\n",
              "      <td>278.147512</td>\n",
              "      <td>0.2775</td>\n",
              "      <td>0.01</td>\n",
              "      <td>0.0</td>\n",
              "      <td>1.0</td>\n",
              "    </tr>\n",
              "    <tr>\n",
              "      <th>51448</th>\n",
              "      <td>B3</td>\n",
              "      <td>2020</td>\n",
              "      <td>5</td>\n",
              "      <td>Friday</td>\n",
              "      <td>23</td>\n",
              "      <td>42.277963</td>\n",
              "      <td>-71.092463</td>\n",
              "      <td>1</td>\n",
              "      <td>0.067967</td>\n",
              "      <td>0.730087</td>\n",
              "      <td>0.017705</td>\n",
              "      <td>0.153209</td>\n",
              "      <td>48196.9000</td>\n",
              "      <td>4.666762e+06</td>\n",
              "      <td>18.0</td>\n",
              "      <td>748.546146</td>\n",
              "      <td>2203.859460</td>\n",
              "      <td>2248.707217</td>\n",
              "      <td>0.0400</td>\n",
              "      <td>0.79</td>\n",
              "      <td>0.0</td>\n",
              "      <td>1.0</td>\n",
              "    </tr>\n",
              "    <tr>\n",
              "      <th>68679</th>\n",
              "      <td>B3</td>\n",
              "      <td>2020</td>\n",
              "      <td>7</td>\n",
              "      <td>Tuesday</td>\n",
              "      <td>16</td>\n",
              "      <td>42.280727</td>\n",
              "      <td>-71.077136</td>\n",
              "      <td>1</td>\n",
              "      <td>0.067967</td>\n",
              "      <td>0.730087</td>\n",
              "      <td>0.017705</td>\n",
              "      <td>0.153209</td>\n",
              "      <td>48196.9000</td>\n",
              "      <td>7.851202e+06</td>\n",
              "      <td>0.0</td>\n",
              "      <td>1276.128447</td>\n",
              "      <td>1010.720978</td>\n",
              "      <td>1053.834615</td>\n",
              "      <td>0.0400</td>\n",
              "      <td>0.62</td>\n",
              "      <td>0.0</td>\n",
              "      <td>0.0</td>\n",
              "    </tr>\n",
              "  </tbody>\n",
              "</table>\n",
              "</div>"
            ],
            "text/plain": [
              "       AREA  YEAR  MONTH DAY_OF_WEEK  ...  ELECTION  PRCP  SNOW  NIGHT\n",
              "2742    E13  2019     10    Thursday  ...    0.0600  0.02   0.0    1.0\n",
              "26647    A1  2020      1      Monday  ...    0.2775  0.01   0.0    0.0\n",
              "198235   A1  2016      7      Monday  ...    0.2775  0.01   0.0    1.0\n",
              "51448    B3  2020      5      Friday  ...    0.0400  0.79   0.0    1.0\n",
              "68679    B3  2020      7     Tuesday  ...    0.0400  0.62   0.0    0.0\n",
              "\n",
              "[5 rows x 22 columns]"
            ]
          },
          "metadata": {
            "tags": []
          },
          "execution_count": 7
        }
      ]
    },
    {
      "cell_type": "code",
      "metadata": {
        "colab": {
          "base_uri": "https://localhost:8080/",
          "height": 224
        },
        "id": "2ItBzQKEuU6U",
        "outputId": "a6a6b685-e622-4259-b1ce-322e3e469a25"
      },
      "source": [
        "full_X_train.head()"
      ],
      "execution_count": 8,
      "outputs": [
        {
          "output_type": "execute_result",
          "data": {
            "text/html": [
              "<div>\n",
              "<style scoped>\n",
              "    .dataframe tbody tr th:only-of-type {\n",
              "        vertical-align: middle;\n",
              "    }\n",
              "\n",
              "    .dataframe tbody tr th {\n",
              "        vertical-align: top;\n",
              "    }\n",
              "\n",
              "    .dataframe thead th {\n",
              "        text-align: right;\n",
              "    }\n",
              "</style>\n",
              "<table border=\"1\" class=\"dataframe\">\n",
              "  <thead>\n",
              "    <tr style=\"text-align: right;\">\n",
              "      <th></th>\n",
              "      <th>YEAR</th>\n",
              "      <th>MONTH</th>\n",
              "      <th>DAY_OF_WEEK</th>\n",
              "      <th>HOUR</th>\n",
              "      <th>COVID_PERIOD</th>\n",
              "      <th>WHITE</th>\n",
              "      <th>BLACK</th>\n",
              "      <th>ASIAN</th>\n",
              "      <th>HISPANIC</th>\n",
              "      <th>MEDIAN_INCOME</th>\n",
              "      <th>LOCAL_PROP_VALUES</th>\n",
              "      <th>STREETLIGHT_DENSITY</th>\n",
              "      <th>POLICE_STATION_DISTANCE</th>\n",
              "      <th>HOSPITAL_DISTANCE</th>\n",
              "      <th>COLLEGE_UNIV_DISTANCE</th>\n",
              "      <th>ELECTION</th>\n",
              "      <th>PRCP</th>\n",
              "      <th>SNOW</th>\n",
              "      <th>NIGHT</th>\n",
              "    </tr>\n",
              "  </thead>\n",
              "  <tbody>\n",
              "    <tr>\n",
              "      <th>242278</th>\n",
              "      <td>2020</td>\n",
              "      <td>2</td>\n",
              "      <td>Thursday</td>\n",
              "      <td>19</td>\n",
              "      <td>0</td>\n",
              "      <td>0.090989</td>\n",
              "      <td>0.290291</td>\n",
              "      <td>0.038122</td>\n",
              "      <td>0.561581</td>\n",
              "      <td>38740.127767</td>\n",
              "      <td>4.455077e+05</td>\n",
              "      <td>0.0</td>\n",
              "      <td>703.963608</td>\n",
              "      <td>355.539466</td>\n",
              "      <td>2071.643885</td>\n",
              "      <td>0.11</td>\n",
              "      <td>0.40</td>\n",
              "      <td>0.0</td>\n",
              "      <td>0.0</td>\n",
              "    </tr>\n",
              "    <tr>\n",
              "      <th>229277</th>\n",
              "      <td>2016</td>\n",
              "      <td>11</td>\n",
              "      <td>Thursday</td>\n",
              "      <td>19</td>\n",
              "      <td>0</td>\n",
              "      <td>0.215249</td>\n",
              "      <td>0.453834</td>\n",
              "      <td>0.094452</td>\n",
              "      <td>0.180933</td>\n",
              "      <td>49662.360000</td>\n",
              "      <td>1.050727e+06</td>\n",
              "      <td>6.0</td>\n",
              "      <td>1509.431329</td>\n",
              "      <td>2638.058680</td>\n",
              "      <td>1828.886949</td>\n",
              "      <td>0.20</td>\n",
              "      <td>0.00</td>\n",
              "      <td>0.0</td>\n",
              "      <td>0.0</td>\n",
              "    </tr>\n",
              "    <tr>\n",
              "      <th>240914</th>\n",
              "      <td>2017</td>\n",
              "      <td>1</td>\n",
              "      <td>Friday</td>\n",
              "      <td>13</td>\n",
              "      <td>0</td>\n",
              "      <td>0.550542</td>\n",
              "      <td>0.111894</td>\n",
              "      <td>0.061581</td>\n",
              "      <td>0.237167</td>\n",
              "      <td>84445.900000</td>\n",
              "      <td>2.479460e+06</td>\n",
              "      <td>30.0</td>\n",
              "      <td>838.491817</td>\n",
              "      <td>568.757936</td>\n",
              "      <td>1583.991917</td>\n",
              "      <td>0.06</td>\n",
              "      <td>0.06</td>\n",
              "      <td>1.1</td>\n",
              "      <td>0.0</td>\n",
              "    </tr>\n",
              "    <tr>\n",
              "      <th>377031</th>\n",
              "      <td>2018</td>\n",
              "      <td>6</td>\n",
              "      <td>Friday</td>\n",
              "      <td>20</td>\n",
              "      <td>0</td>\n",
              "      <td>0.731972</td>\n",
              "      <td>0.058357</td>\n",
              "      <td>0.071636</td>\n",
              "      <td>0.118406</td>\n",
              "      <td>103243.160000</td>\n",
              "      <td>7.567873e+05</td>\n",
              "      <td>60.0</td>\n",
              "      <td>764.090021</td>\n",
              "      <td>458.477056</td>\n",
              "      <td>716.029361</td>\n",
              "      <td>0.28</td>\n",
              "      <td>0.00</td>\n",
              "      <td>0.0</td>\n",
              "      <td>1.0</td>\n",
              "    </tr>\n",
              "    <tr>\n",
              "      <th>80815</th>\n",
              "      <td>2020</td>\n",
              "      <td>8</td>\n",
              "      <td>Sunday</td>\n",
              "      <td>21</td>\n",
              "      <td>1</td>\n",
              "      <td>0.325667</td>\n",
              "      <td>0.025571</td>\n",
              "      <td>0.038067</td>\n",
              "      <td>0.574151</td>\n",
              "      <td>52935.360000</td>\n",
              "      <td>1.173795e+06</td>\n",
              "      <td>8.0</td>\n",
              "      <td>915.779139</td>\n",
              "      <td>1566.465488</td>\n",
              "      <td>1731.148782</td>\n",
              "      <td>0.31</td>\n",
              "      <td>0.00</td>\n",
              "      <td>0.0</td>\n",
              "      <td>1.0</td>\n",
              "    </tr>\n",
              "  </tbody>\n",
              "</table>\n",
              "</div>"
            ],
            "text/plain": [
              "        YEAR  MONTH DAY_OF_WEEK  HOUR  ...  ELECTION  PRCP  SNOW  NIGHT\n",
              "242278  2020      2    Thursday    19  ...      0.11  0.40   0.0    0.0\n",
              "229277  2016     11    Thursday    19  ...      0.20  0.00   0.0    0.0\n",
              "240914  2017      1      Friday    13  ...      0.06  0.06   1.1    0.0\n",
              "377031  2018      6      Friday    20  ...      0.28  0.00   0.0    1.0\n",
              "80815   2020      8      Sunday    21  ...      0.31  0.00   0.0    1.0\n",
              "\n",
              "[5 rows x 19 columns]"
            ]
          },
          "metadata": {
            "tags": []
          },
          "execution_count": 8
        }
      ]
    },
    {
      "cell_type": "markdown",
      "metadata": {
        "id": "dmsn6cWHeJ_8"
      },
      "source": [
        "## One hot encoding for categorical. \n",
        "### Different set for Boston and Generalized (full), since Area and Lat/Long were dropped from the larger dataset"
      ]
    },
    {
      "cell_type": "code",
      "metadata": {
        "id": "o9m7moSU1NPN"
      },
      "source": [
        "# prep data -- one hot encoding for categoricals, different for boston and full\n",
        "categoricals_boston = ['AREA', 'DAY_OF_WEEK']\n",
        "categoricals_full = ['DAY_OF_WEEK']\n",
        "\n",
        "boston_X_train, boston_X_test = pd.get_dummies(boston_X_train, columns=categoricals_boston), pd.get_dummies(boston_X_test, columns=categoricals_boston)\n",
        "full_X_train, full_X_test = pd.get_dummies(full_X_train, columns=categoricals_full), pd.get_dummies(full_X_test, columns=categoricals_full)\n"
      ],
      "execution_count": 9,
      "outputs": []
    },
    {
      "cell_type": "markdown",
      "metadata": {
        "id": "x3JBdATXebXi"
      },
      "source": [
        "## Creating scaled data sets (for kNN and Neural Network)"
      ]
    },
    {
      "cell_type": "code",
      "metadata": {
        "id": "sSotM4utvJJE"
      },
      "source": [
        "\n",
        "boston_scaler = MinMaxScaler().fit(boston_X_train)\n",
        "boston_X_train_scaled = boston_scaler.transform(boston_X_train)\n",
        "boston_X_test_scaled = boston_scaler.transform(boston_X_test)\n",
        "\n",
        "full_scaler = MinMaxScaler().fit(full_X_train)\n",
        "full_X_train_scaled = full_scaler.transform(full_X_train)\n",
        "full_X_test_scaled = full_scaler.transform(full_X_test)"
      ],
      "execution_count": 10,
      "outputs": []
    },
    {
      "cell_type": "markdown",
      "metadata": {
        "id": "fBTLQajUeh6g"
      },
      "source": [
        "## Factorizing multiclass Y for models"
      ]
    },
    {
      "cell_type": "code",
      "metadata": {
        "id": "A7lLzF7vQcGk"
      },
      "source": [
        "boston_multi_y_train, categories = pd.factorize(boston_multi_y_train, sort=True)\n",
        "boston_multi_y_test, categories = pd.factorize(boston_multi_y_test, sort=True)"
      ],
      "execution_count": 11,
      "outputs": []
    },
    {
      "cell_type": "markdown",
      "metadata": {
        "id": "yzBdOaDIepwF"
      },
      "source": [
        "## Smaller datasets for use in developing NN models"
      ]
    },
    {
      "cell_type": "code",
      "metadata": {
        "id": "skgCyDYPKXE0"
      },
      "source": [
        "# reduce the number of rows by 10 for NN to work a bit faster, for tuning...\n",
        "# index = np.random.choice(boston_X_train.shape[0], int(boston_X_train.shape[0]/10), replace=False)\n",
        "# boston_X_train_sample = boston_X_train[index,:]\n",
        "# boston_y_train_sample = boston_y_train.iloc[index]"
      ],
      "execution_count": 23,
      "outputs": []
    },
    {
      "cell_type": "code",
      "metadata": {
        "id": "-oHySFDiTwu4"
      },
      "source": [
        "# from sklearn.utils import class_weight\n",
        "\n",
        "# class_weights = class_weight.compute_class_weight('balanced',\n",
        "#                                                  np.unique(boston_y_train),\n",
        "#                                                  boston_y_train)\n",
        "# class_weights = dict(enumerate(class_weights))      "
      ],
      "execution_count": 47,
      "outputs": []
    },
    {
      "cell_type": "markdown",
      "metadata": {
        "id": "L6HmldImJLI3"
      },
      "source": [
        "##  Neural Network Definition and Summary - Violent Crime"
      ]
    },
    {
      "cell_type": "code",
      "metadata": {
        "id": "_r7tCszbJKRp"
      },
      "source": [
        "nn_boston_VC = tf.keras.models.Sequential(name='Boston_Violent')\n",
        "\n",
        "regularizer = tf.keras.regularizers.l2(0.01)\n",
        "\n",
        "nn_boston_VC.add(tf.keras.layers.Dense(30, activation=\"tanh\", input_shape=(boston_X_train.shape[1],), name=\"hidden1\"))\n",
        "nn_boston_VC.add(tf.keras.layers.Dense(1000, activation=\"relu\", name=\"hidden2\"))\n",
        "nn_boston_VC.add(tf.keras.layers.Dense(1, activation=\"sigmoid\"))"
      ],
      "execution_count": null,
      "outputs": []
    },
    {
      "cell_type": "code",
      "metadata": {
        "id": "oqHUCvqUJb8o"
      },
      "source": [
        "loss_fn = tf.keras.losses.BinaryCrossentropy()\n",
        "optimizer = tf.keras.optimizers.Adam(0.001)\n",
        "callback = tf.keras.callbacks.EarlyStopping(monitor='val_loss', patience=10)\n",
        "\n",
        "nn_boston_VC.compile(optimizer=optimizer,\n",
        "              loss=loss_fn,\n",
        "              metrics=['accuracy'])"
      ],
      "execution_count": null,
      "outputs": []
    },
    {
      "cell_type": "code",
      "metadata": {
        "id": "z1a3fyhSJzsh"
      },
      "source": [
        "nn_boston_VC.summary()"
      ],
      "execution_count": null,
      "outputs": []
    },
    {
      "cell_type": "code",
      "metadata": {
        "id": "PS0WJPH1J8o5"
      },
      "source": [
        "%%time\n",
        "# Naive model classification = 0.918\n",
        "\n",
        "history = nn_boston_VC.fit(boston_X_train_scaled, boston_y_train, validation_split=0.2, epochs=500, batch_size=256, callbacks=[callback], verbose=2)"
      ],
      "execution_count": null,
      "outputs": []
    },
    {
      "cell_type": "markdown",
      "metadata": {
        "id": "Pcn8oCgwexNb"
      },
      "source": [
        "## Neural Network Definition and Summary - Offense Type"
      ]
    },
    {
      "cell_type": "code",
      "metadata": {
        "id": "DLRk-2ncJrlx"
      },
      "source": [
        "# define nn\n",
        "nn_boston = tf.keras.models.Sequential(name='Boston')\n",
        "\n",
        "regularizer = tf.keras.regularizers.l2(0.01)\n",
        "\n",
        "nn_boston.add(tf.keras.layers.Dense(30, activation=\"tanh\", input_shape=(boston_X_train.shape[1],), name=\"hidden1\"))\n",
        "nn_boston.add(tf.keras.layers.Dense(1000, activation=\"relu\", name=\"hidden2\"))\n",
        "nn_boston.add(tf.keras.layers.Dropout(0.3))\n",
        "nn_boston.add(tf.keras.layers.Dense(1000, activation=\"relu\", name=\"hidden3\"))\n",
        "nn_boston.add(tf.keras.layers.Dropout(0.4))\n",
        "nn_boston.add(tf.keras.layers.Dense(19, activation=\"softmax\"))"
      ],
      "execution_count": 107,
      "outputs": []
    },
    {
      "cell_type": "code",
      "metadata": {
        "id": "7AqmOMlVK_Lp"
      },
      "source": [
        "loss_fn = tf.keras.losses.SparseCategoricalCrossentropy()\n",
        "optimizer = tf.keras.optimizers.Adam(0.0001)\n",
        "callback = tf.keras.callbacks.EarlyStopping(monitor='val_loss', patience=10)\n",
        "\n",
        "nn_boston.compile(optimizer=optimizer,\n",
        "              loss=loss_fn,\n",
        "              metrics=['accuracy'])"
      ],
      "execution_count": 108,
      "outputs": []
    },
    {
      "cell_type": "code",
      "metadata": {
        "colab": {
          "base_uri": "https://localhost:8080/"
        },
        "id": "HXYIBnA5LbYS",
        "outputId": "4f928c0f-785d-4449-e8b5-ba3e568953fd"
      },
      "source": [
        "nn_boston.summary()"
      ],
      "execution_count": 109,
      "outputs": [
        {
          "output_type": "stream",
          "text": [
            "Model: \"Boston\"\n",
            "_________________________________________________________________\n",
            "Layer (type)                 Output Shape              Param #   \n",
            "=================================================================\n",
            "hidden1 (Dense)              (None, 30)                1200      \n",
            "_________________________________________________________________\n",
            "hidden2 (Dense)              (None, 1000)              31000     \n",
            "_________________________________________________________________\n",
            "dropout_13 (Dropout)         (None, 1000)              0         \n",
            "_________________________________________________________________\n",
            "hidden3 (Dense)              (None, 1000)              1001000   \n",
            "_________________________________________________________________\n",
            "dropout_14 (Dropout)         (None, 1000)              0         \n",
            "_________________________________________________________________\n",
            "dense_19 (Dense)             (None, 19)                19019     \n",
            "=================================================================\n",
            "Total params: 1,052,219\n",
            "Trainable params: 1,052,219\n",
            "Non-trainable params: 0\n",
            "_________________________________________________________________\n"
          ],
          "name": "stdout"
        }
      ]
    },
    {
      "cell_type": "markdown",
      "metadata": {
        "id": "s44z3Ox_e4jW"
      },
      "source": [
        "## Neural Network for Offense Type in Boston"
      ]
    },
    {
      "cell_type": "code",
      "metadata": {
        "colab": {
          "base_uri": "https://localhost:8080/"
        },
        "id": "v70BXW2FLqy7",
        "outputId": "af3edf2f-ef79-4b48-9b29-55204c0b3397"
      },
      "source": [
        "%%time\n",
        "# Naive model classification = 0.45/0.451\n",
        "\n",
        "history = nn_boston.fit(boston_X_train_scaled, boston_multi_y_train, validation_split=0.2, epochs=500, batch_size=256, callbacks=[callback], verbose=2)"
      ],
      "execution_count": 110,
      "outputs": [
        {
          "output_type": "stream",
          "text": [
            "Epoch 1/500\n",
            "1230/1230 - 3s - loss: 1.8376 - accuracy: 0.4486 - val_loss: 1.7928 - val_accuracy: 0.4515\n",
            "Epoch 2/500\n",
            "1230/1230 - 3s - loss: 1.8014 - accuracy: 0.4500 - val_loss: 1.7874 - val_accuracy: 0.4523\n",
            "Epoch 3/500\n",
            "1230/1230 - 3s - loss: 1.7941 - accuracy: 0.4503 - val_loss: 1.7846 - val_accuracy: 0.4515\n",
            "Epoch 4/500\n",
            "1230/1230 - 3s - loss: 1.7895 - accuracy: 0.4508 - val_loss: 1.7801 - val_accuracy: 0.4523\n",
            "Epoch 5/500\n",
            "1230/1230 - 3s - loss: 1.7859 - accuracy: 0.4510 - val_loss: 1.7786 - val_accuracy: 0.4525\n",
            "Epoch 6/500\n",
            "1230/1230 - 3s - loss: 1.7821 - accuracy: 0.4513 - val_loss: 1.7747 - val_accuracy: 0.4524\n",
            "Epoch 7/500\n",
            "1230/1230 - 3s - loss: 1.7799 - accuracy: 0.4511 - val_loss: 1.7735 - val_accuracy: 0.4528\n",
            "Epoch 8/500\n",
            "1230/1230 - 3s - loss: 1.7774 - accuracy: 0.4518 - val_loss: 1.7718 - val_accuracy: 0.4532\n",
            "Epoch 9/500\n",
            "1230/1230 - 3s - loss: 1.7749 - accuracy: 0.4519 - val_loss: 1.7692 - val_accuracy: 0.4529\n",
            "Epoch 10/500\n",
            "1230/1230 - 3s - loss: 1.7727 - accuracy: 0.4523 - val_loss: 1.7676 - val_accuracy: 0.4537\n",
            "Epoch 11/500\n",
            "1230/1230 - 3s - loss: 1.7703 - accuracy: 0.4527 - val_loss: 1.7657 - val_accuracy: 0.4549\n",
            "Epoch 12/500\n",
            "1230/1230 - 3s - loss: 1.7687 - accuracy: 0.4532 - val_loss: 1.7660 - val_accuracy: 0.4553\n",
            "Epoch 13/500\n",
            "1230/1230 - 3s - loss: 1.7666 - accuracy: 0.4536 - val_loss: 1.7646 - val_accuracy: 0.4557\n",
            "Epoch 14/500\n",
            "1230/1230 - 3s - loss: 1.7647 - accuracy: 0.4538 - val_loss: 1.7613 - val_accuracy: 0.4558\n",
            "Epoch 15/500\n",
            "1230/1230 - 3s - loss: 1.7630 - accuracy: 0.4540 - val_loss: 1.7593 - val_accuracy: 0.4564\n",
            "Epoch 16/500\n",
            "1230/1230 - 3s - loss: 1.7612 - accuracy: 0.4542 - val_loss: 1.7588 - val_accuracy: 0.4560\n",
            "Epoch 17/500\n",
            "1230/1230 - 3s - loss: 1.7595 - accuracy: 0.4544 - val_loss: 1.7568 - val_accuracy: 0.4563\n",
            "Epoch 18/500\n",
            "1230/1230 - 3s - loss: 1.7579 - accuracy: 0.4546 - val_loss: 1.7561 - val_accuracy: 0.4567\n",
            "Epoch 19/500\n",
            "1230/1230 - 3s - loss: 1.7562 - accuracy: 0.4552 - val_loss: 1.7554 - val_accuracy: 0.4568\n",
            "Epoch 20/500\n",
            "1230/1230 - 3s - loss: 1.7547 - accuracy: 0.4551 - val_loss: 1.7542 - val_accuracy: 0.4568\n",
            "Epoch 21/500\n",
            "1230/1230 - 3s - loss: 1.7533 - accuracy: 0.4553 - val_loss: 1.7525 - val_accuracy: 0.4572\n",
            "Epoch 22/500\n",
            "1230/1230 - 3s - loss: 1.7524 - accuracy: 0.4557 - val_loss: 1.7505 - val_accuracy: 0.4575\n",
            "Epoch 23/500\n",
            "1230/1230 - 3s - loss: 1.7507 - accuracy: 0.4558 - val_loss: 1.7499 - val_accuracy: 0.4574\n",
            "Epoch 24/500\n",
            "1230/1230 - 3s - loss: 1.7492 - accuracy: 0.4558 - val_loss: 1.7494 - val_accuracy: 0.4574\n",
            "Epoch 25/500\n",
            "1230/1230 - 3s - loss: 1.7482 - accuracy: 0.4562 - val_loss: 1.7479 - val_accuracy: 0.4578\n",
            "Epoch 26/500\n",
            "1230/1230 - 3s - loss: 1.7468 - accuracy: 0.4560 - val_loss: 1.7474 - val_accuracy: 0.4574\n",
            "Epoch 27/500\n",
            "1230/1230 - 3s - loss: 1.7455 - accuracy: 0.4564 - val_loss: 1.7468 - val_accuracy: 0.4577\n",
            "Epoch 28/500\n",
            "1230/1230 - 3s - loss: 1.7446 - accuracy: 0.4565 - val_loss: 1.7455 - val_accuracy: 0.4587\n",
            "Epoch 29/500\n",
            "1230/1230 - 3s - loss: 1.7432 - accuracy: 0.4565 - val_loss: 1.7448 - val_accuracy: 0.4582\n",
            "Epoch 30/500\n",
            "1230/1230 - 3s - loss: 1.7420 - accuracy: 0.4569 - val_loss: 1.7441 - val_accuracy: 0.4591\n",
            "Epoch 31/500\n",
            "1230/1230 - 3s - loss: 1.7407 - accuracy: 0.4573 - val_loss: 1.7433 - val_accuracy: 0.4579\n",
            "Epoch 32/500\n",
            "1230/1230 - 3s - loss: 1.7400 - accuracy: 0.4576 - val_loss: 1.7425 - val_accuracy: 0.4589\n",
            "Epoch 33/500\n",
            "1230/1230 - 3s - loss: 1.7390 - accuracy: 0.4573 - val_loss: 1.7421 - val_accuracy: 0.4594\n",
            "Epoch 34/500\n",
            "1230/1230 - 3s - loss: 1.7378 - accuracy: 0.4573 - val_loss: 1.7409 - val_accuracy: 0.4599\n",
            "Epoch 35/500\n",
            "1230/1230 - 3s - loss: 1.7366 - accuracy: 0.4577 - val_loss: 1.7408 - val_accuracy: 0.4599\n",
            "Epoch 36/500\n",
            "1230/1230 - 3s - loss: 1.7360 - accuracy: 0.4576 - val_loss: 1.7400 - val_accuracy: 0.4600\n",
            "Epoch 37/500\n",
            "1230/1230 - 3s - loss: 1.7347 - accuracy: 0.4581 - val_loss: 1.7387 - val_accuracy: 0.4602\n",
            "Epoch 38/500\n",
            "1230/1230 - 3s - loss: 1.7339 - accuracy: 0.4579 - val_loss: 1.7382 - val_accuracy: 0.4598\n",
            "Epoch 39/500\n",
            "1230/1230 - 3s - loss: 1.7327 - accuracy: 0.4585 - val_loss: 1.7380 - val_accuracy: 0.4599\n",
            "Epoch 40/500\n",
            "1230/1230 - 3s - loss: 1.7323 - accuracy: 0.4586 - val_loss: 1.7370 - val_accuracy: 0.4599\n",
            "Epoch 41/500\n",
            "1230/1230 - 3s - loss: 1.7309 - accuracy: 0.4584 - val_loss: 1.7366 - val_accuracy: 0.4598\n",
            "Epoch 42/500\n",
            "1230/1230 - 3s - loss: 1.7300 - accuracy: 0.4585 - val_loss: 1.7355 - val_accuracy: 0.4603\n",
            "Epoch 43/500\n",
            "1230/1230 - 3s - loss: 1.7285 - accuracy: 0.4587 - val_loss: 1.7350 - val_accuracy: 0.4602\n",
            "Epoch 44/500\n",
            "1230/1230 - 3s - loss: 1.7281 - accuracy: 0.4590 - val_loss: 1.7342 - val_accuracy: 0.4608\n",
            "Epoch 45/500\n",
            "1230/1230 - 3s - loss: 1.7269 - accuracy: 0.4590 - val_loss: 1.7338 - val_accuracy: 0.4609\n",
            "Epoch 46/500\n",
            "1230/1230 - 3s - loss: 1.7255 - accuracy: 0.4594 - val_loss: 1.7340 - val_accuracy: 0.4611\n",
            "Epoch 47/500\n",
            "1230/1230 - 3s - loss: 1.7254 - accuracy: 0.4594 - val_loss: 1.7325 - val_accuracy: 0.4610\n",
            "Epoch 48/500\n",
            "1230/1230 - 3s - loss: 1.7243 - accuracy: 0.4598 - val_loss: 1.7327 - val_accuracy: 0.4609\n",
            "Epoch 49/500\n",
            "1230/1230 - 3s - loss: 1.7232 - accuracy: 0.4598 - val_loss: 1.7313 - val_accuracy: 0.4612\n",
            "Epoch 50/500\n",
            "1230/1230 - 3s - loss: 1.7226 - accuracy: 0.4600 - val_loss: 1.7316 - val_accuracy: 0.4617\n",
            "Epoch 51/500\n",
            "1230/1230 - 3s - loss: 1.7216 - accuracy: 0.4602 - val_loss: 1.7320 - val_accuracy: 0.4605\n",
            "Epoch 52/500\n",
            "1230/1230 - 3s - loss: 1.7212 - accuracy: 0.4599 - val_loss: 1.7294 - val_accuracy: 0.4621\n",
            "Epoch 53/500\n",
            "1230/1230 - 3s - loss: 1.7196 - accuracy: 0.4605 - val_loss: 1.7293 - val_accuracy: 0.4621\n",
            "Epoch 54/500\n",
            "1230/1230 - 3s - loss: 1.7195 - accuracy: 0.4604 - val_loss: 1.7287 - val_accuracy: 0.4624\n",
            "Epoch 55/500\n",
            "1230/1230 - 3s - loss: 1.7182 - accuracy: 0.4605 - val_loss: 1.7282 - val_accuracy: 0.4621\n",
            "Epoch 56/500\n",
            "1230/1230 - 3s - loss: 1.7170 - accuracy: 0.4606 - val_loss: 1.7275 - val_accuracy: 0.4616\n",
            "Epoch 57/500\n",
            "1230/1230 - 3s - loss: 1.7169 - accuracy: 0.4608 - val_loss: 1.7270 - val_accuracy: 0.4617\n",
            "Epoch 58/500\n",
            "1230/1230 - 3s - loss: 1.7160 - accuracy: 0.4607 - val_loss: 1.7262 - val_accuracy: 0.4630\n",
            "Epoch 59/500\n",
            "1230/1230 - 3s - loss: 1.7157 - accuracy: 0.4612 - val_loss: 1.7261 - val_accuracy: 0.4631\n",
            "Epoch 60/500\n",
            "1230/1230 - 3s - loss: 1.7144 - accuracy: 0.4617 - val_loss: 1.7258 - val_accuracy: 0.4631\n",
            "Epoch 61/500\n",
            "1230/1230 - 3s - loss: 1.7137 - accuracy: 0.4613 - val_loss: 1.7261 - val_accuracy: 0.4631\n",
            "Epoch 62/500\n",
            "1230/1230 - 3s - loss: 1.7124 - accuracy: 0.4614 - val_loss: 1.7254 - val_accuracy: 0.4632\n",
            "Epoch 63/500\n",
            "1230/1230 - 3s - loss: 1.7123 - accuracy: 0.4617 - val_loss: 1.7245 - val_accuracy: 0.4633\n",
            "Epoch 64/500\n",
            "1230/1230 - 3s - loss: 1.7109 - accuracy: 0.4618 - val_loss: 1.7241 - val_accuracy: 0.4641\n",
            "Epoch 65/500\n",
            "1230/1230 - 3s - loss: 1.7102 - accuracy: 0.4618 - val_loss: 1.7248 - val_accuracy: 0.4638\n",
            "Epoch 66/500\n",
            "1230/1230 - 3s - loss: 1.7095 - accuracy: 0.4621 - val_loss: 1.7234 - val_accuracy: 0.4638\n",
            "Epoch 67/500\n",
            "1230/1230 - 3s - loss: 1.7091 - accuracy: 0.4623 - val_loss: 1.7234 - val_accuracy: 0.4641\n",
            "Epoch 68/500\n",
            "1230/1230 - 3s - loss: 1.7084 - accuracy: 0.4623 - val_loss: 1.7225 - val_accuracy: 0.4641\n",
            "Epoch 69/500\n",
            "1230/1230 - 3s - loss: 1.7071 - accuracy: 0.4628 - val_loss: 1.7222 - val_accuracy: 0.4641\n",
            "Epoch 70/500\n",
            "1230/1230 - 3s - loss: 1.7066 - accuracy: 0.4625 - val_loss: 1.7218 - val_accuracy: 0.4642\n",
            "Epoch 71/500\n",
            "1230/1230 - 3s - loss: 1.7055 - accuracy: 0.4628 - val_loss: 1.7216 - val_accuracy: 0.4646\n",
            "Epoch 72/500\n",
            "1230/1230 - 3s - loss: 1.7043 - accuracy: 0.4629 - val_loss: 1.7205 - val_accuracy: 0.4647\n",
            "Epoch 73/500\n",
            "1230/1230 - 3s - loss: 1.7036 - accuracy: 0.4628 - val_loss: 1.7205 - val_accuracy: 0.4647\n",
            "Epoch 74/500\n",
            "1230/1230 - 3s - loss: 1.7036 - accuracy: 0.4632 - val_loss: 1.7197 - val_accuracy: 0.4651\n",
            "Epoch 75/500\n",
            "1230/1230 - 3s - loss: 1.7027 - accuracy: 0.4632 - val_loss: 1.7195 - val_accuracy: 0.4647\n",
            "Epoch 76/500\n",
            "1230/1230 - 3s - loss: 1.7021 - accuracy: 0.4631 - val_loss: 1.7192 - val_accuracy: 0.4646\n",
            "Epoch 77/500\n",
            "1230/1230 - 3s - loss: 1.7010 - accuracy: 0.4627 - val_loss: 1.7198 - val_accuracy: 0.4647\n",
            "Epoch 78/500\n",
            "1230/1230 - 3s - loss: 1.7005 - accuracy: 0.4635 - val_loss: 1.7186 - val_accuracy: 0.4650\n",
            "Epoch 79/500\n",
            "1230/1230 - 3s - loss: 1.7000 - accuracy: 0.4638 - val_loss: 1.7183 - val_accuracy: 0.4653\n",
            "Epoch 80/500\n",
            "1230/1230 - 3s - loss: 1.6992 - accuracy: 0.4639 - val_loss: 1.7182 - val_accuracy: 0.4652\n",
            "Epoch 81/500\n",
            "1230/1230 - 3s - loss: 1.6985 - accuracy: 0.4638 - val_loss: 1.7181 - val_accuracy: 0.4648\n",
            "Epoch 82/500\n",
            "1230/1230 - 3s - loss: 1.6978 - accuracy: 0.4639 - val_loss: 1.7173 - val_accuracy: 0.4649\n",
            "Epoch 83/500\n",
            "1230/1230 - 3s - loss: 1.6972 - accuracy: 0.4638 - val_loss: 1.7175 - val_accuracy: 0.4657\n",
            "Epoch 84/500\n",
            "1230/1230 - 3s - loss: 1.6964 - accuracy: 0.4642 - val_loss: 1.7172 - val_accuracy: 0.4653\n",
            "Epoch 85/500\n",
            "1230/1230 - 3s - loss: 1.6957 - accuracy: 0.4645 - val_loss: 1.7163 - val_accuracy: 0.4656\n",
            "Epoch 86/500\n",
            "1230/1230 - 3s - loss: 1.6949 - accuracy: 0.4643 - val_loss: 1.7162 - val_accuracy: 0.4657\n",
            "Epoch 87/500\n",
            "1230/1230 - 3s - loss: 1.6953 - accuracy: 0.4644 - val_loss: 1.7165 - val_accuracy: 0.4661\n",
            "Epoch 88/500\n",
            "1230/1230 - 3s - loss: 1.6941 - accuracy: 0.4644 - val_loss: 1.7164 - val_accuracy: 0.4656\n",
            "Epoch 89/500\n",
            "1230/1230 - 3s - loss: 1.6932 - accuracy: 0.4646 - val_loss: 1.7155 - val_accuracy: 0.4661\n",
            "Epoch 90/500\n",
            "1230/1230 - 3s - loss: 1.6927 - accuracy: 0.4647 - val_loss: 1.7163 - val_accuracy: 0.4658\n",
            "Epoch 91/500\n",
            "1230/1230 - 3s - loss: 1.6917 - accuracy: 0.4643 - val_loss: 1.7157 - val_accuracy: 0.4660\n",
            "Epoch 92/500\n",
            "1230/1230 - 3s - loss: 1.6917 - accuracy: 0.4649 - val_loss: 1.7148 - val_accuracy: 0.4659\n",
            "Epoch 93/500\n",
            "1230/1230 - 4s - loss: 1.6904 - accuracy: 0.4653 - val_loss: 1.7159 - val_accuracy: 0.4662\n",
            "Epoch 94/500\n",
            "1230/1230 - 4s - loss: 1.6904 - accuracy: 0.4649 - val_loss: 1.7146 - val_accuracy: 0.4660\n",
            "Epoch 95/500\n",
            "1230/1230 - 4s - loss: 1.6898 - accuracy: 0.4644 - val_loss: 1.7139 - val_accuracy: 0.4663\n",
            "Epoch 96/500\n",
            "1230/1230 - 3s - loss: 1.6891 - accuracy: 0.4648 - val_loss: 1.7146 - val_accuracy: 0.4658\n",
            "Epoch 97/500\n",
            "1230/1230 - 3s - loss: 1.6882 - accuracy: 0.4651 - val_loss: 1.7135 - val_accuracy: 0.4662\n",
            "Epoch 98/500\n",
            "1230/1230 - 3s - loss: 1.6872 - accuracy: 0.4656 - val_loss: 1.7132 - val_accuracy: 0.4661\n",
            "Epoch 99/500\n",
            "1230/1230 - 3s - loss: 1.6868 - accuracy: 0.4655 - val_loss: 1.7137 - val_accuracy: 0.4659\n",
            "Epoch 100/500\n",
            "1230/1230 - 3s - loss: 1.6867 - accuracy: 0.4652 - val_loss: 1.7132 - val_accuracy: 0.4655\n",
            "Epoch 101/500\n",
            "1230/1230 - 3s - loss: 1.6857 - accuracy: 0.4656 - val_loss: 1.7131 - val_accuracy: 0.4662\n",
            "Epoch 102/500\n",
            "1230/1230 - 3s - loss: 1.6845 - accuracy: 0.4654 - val_loss: 1.7130 - val_accuracy: 0.4662\n",
            "Epoch 103/500\n",
            "1230/1230 - 3s - loss: 1.6846 - accuracy: 0.4661 - val_loss: 1.7124 - val_accuracy: 0.4666\n",
            "Epoch 104/500\n",
            "1230/1230 - 3s - loss: 1.6836 - accuracy: 0.4659 - val_loss: 1.7123 - val_accuracy: 0.4662\n",
            "Epoch 105/500\n",
            "1230/1230 - 3s - loss: 1.6834 - accuracy: 0.4657 - val_loss: 1.7116 - val_accuracy: 0.4664\n",
            "Epoch 106/500\n",
            "1230/1230 - 3s - loss: 1.6829 - accuracy: 0.4656 - val_loss: 1.7122 - val_accuracy: 0.4661\n",
            "Epoch 107/500\n",
            "1230/1230 - 3s - loss: 1.6824 - accuracy: 0.4658 - val_loss: 1.7102 - val_accuracy: 0.4664\n",
            "Epoch 108/500\n",
            "1230/1230 - 3s - loss: 1.6821 - accuracy: 0.4655 - val_loss: 1.7115 - val_accuracy: 0.4665\n",
            "Epoch 109/500\n",
            "1230/1230 - 3s - loss: 1.6809 - accuracy: 0.4659 - val_loss: 1.7107 - val_accuracy: 0.4667\n",
            "Epoch 110/500\n",
            "1230/1230 - 3s - loss: 1.6802 - accuracy: 0.4665 - val_loss: 1.7115 - val_accuracy: 0.4664\n",
            "Epoch 111/500\n",
            "1230/1230 - 3s - loss: 1.6799 - accuracy: 0.4660 - val_loss: 1.7111 - val_accuracy: 0.4663\n",
            "Epoch 112/500\n",
            "1230/1230 - 3s - loss: 1.6785 - accuracy: 0.4664 - val_loss: 1.7107 - val_accuracy: 0.4667\n",
            "Epoch 113/500\n",
            "1230/1230 - 3s - loss: 1.6793 - accuracy: 0.4666 - val_loss: 1.7105 - val_accuracy: 0.4666\n",
            "Epoch 114/500\n",
            "1230/1230 - 3s - loss: 1.6786 - accuracy: 0.4661 - val_loss: 1.7100 - val_accuracy: 0.4666\n",
            "Epoch 115/500\n",
            "1230/1230 - 3s - loss: 1.6777 - accuracy: 0.4669 - val_loss: 1.7101 - val_accuracy: 0.4673\n",
            "Epoch 116/500\n",
            "1230/1230 - 3s - loss: 1.6766 - accuracy: 0.4666 - val_loss: 1.7102 - val_accuracy: 0.4665\n",
            "Epoch 117/500\n",
            "1230/1230 - 3s - loss: 1.6760 - accuracy: 0.4670 - val_loss: 1.7098 - val_accuracy: 0.4669\n",
            "Epoch 118/500\n",
            "1230/1230 - 3s - loss: 1.6754 - accuracy: 0.4666 - val_loss: 1.7108 - val_accuracy: 0.4665\n",
            "Epoch 119/500\n",
            "1230/1230 - 3s - loss: 1.6752 - accuracy: 0.4666 - val_loss: 1.7102 - val_accuracy: 0.4670\n",
            "Epoch 120/500\n",
            "1230/1230 - 3s - loss: 1.6752 - accuracy: 0.4669 - val_loss: 1.7087 - val_accuracy: 0.4675\n",
            "Epoch 121/500\n",
            "1230/1230 - 3s - loss: 1.6747 - accuracy: 0.4669 - val_loss: 1.7091 - val_accuracy: 0.4665\n",
            "Epoch 122/500\n",
            "1230/1230 - 3s - loss: 1.6735 - accuracy: 0.4668 - val_loss: 1.7093 - val_accuracy: 0.4674\n",
            "Epoch 123/500\n",
            "1230/1230 - 3s - loss: 1.6728 - accuracy: 0.4676 - val_loss: 1.7093 - val_accuracy: 0.4673\n",
            "Epoch 124/500\n",
            "1230/1230 - 3s - loss: 1.6720 - accuracy: 0.4670 - val_loss: 1.7087 - val_accuracy: 0.4675\n",
            "Epoch 125/500\n",
            "1230/1230 - 3s - loss: 1.6720 - accuracy: 0.4669 - val_loss: 1.7083 - val_accuracy: 0.4672\n",
            "Epoch 126/500\n",
            "1230/1230 - 3s - loss: 1.6711 - accuracy: 0.4675 - val_loss: 1.7086 - val_accuracy: 0.4672\n",
            "Epoch 127/500\n",
            "1230/1230 - 3s - loss: 1.6703 - accuracy: 0.4677 - val_loss: 1.7085 - val_accuracy: 0.4673\n",
            "Epoch 128/500\n",
            "1230/1230 - 3s - loss: 1.6704 - accuracy: 0.4672 - val_loss: 1.7079 - val_accuracy: 0.4669\n",
            "Epoch 129/500\n",
            "1230/1230 - 3s - loss: 1.6697 - accuracy: 0.4678 - val_loss: 1.7082 - val_accuracy: 0.4671\n",
            "Epoch 130/500\n",
            "1230/1230 - 3s - loss: 1.6694 - accuracy: 0.4670 - val_loss: 1.7086 - val_accuracy: 0.4673\n",
            "Epoch 131/500\n",
            "1230/1230 - 3s - loss: 1.6690 - accuracy: 0.4673 - val_loss: 1.7084 - val_accuracy: 0.4676\n",
            "Epoch 132/500\n",
            "1230/1230 - 3s - loss: 1.6678 - accuracy: 0.4676 - val_loss: 1.7082 - val_accuracy: 0.4671\n",
            "Epoch 133/500\n",
            "1230/1230 - 3s - loss: 1.6678 - accuracy: 0.4683 - val_loss: 1.7085 - val_accuracy: 0.4674\n",
            "Epoch 134/500\n",
            "1230/1230 - 3s - loss: 1.6669 - accuracy: 0.4680 - val_loss: 1.7076 - val_accuracy: 0.4671\n",
            "Epoch 135/500\n",
            "1230/1230 - 3s - loss: 1.6668 - accuracy: 0.4681 - val_loss: 1.7075 - val_accuracy: 0.4675\n",
            "Epoch 136/500\n",
            "1230/1230 - 3s - loss: 1.6658 - accuracy: 0.4680 - val_loss: 1.7076 - val_accuracy: 0.4670\n",
            "Epoch 137/500\n",
            "1230/1230 - 3s - loss: 1.6658 - accuracy: 0.4678 - val_loss: 1.7071 - val_accuracy: 0.4674\n",
            "Epoch 138/500\n",
            "1230/1230 - 3s - loss: 1.6648 - accuracy: 0.4677 - val_loss: 1.7076 - val_accuracy: 0.4679\n",
            "Epoch 139/500\n",
            "1230/1230 - 3s - loss: 1.6643 - accuracy: 0.4679 - val_loss: 1.7068 - val_accuracy: 0.4675\n",
            "Epoch 140/500\n",
            "1230/1230 - 3s - loss: 1.6650 - accuracy: 0.4680 - val_loss: 1.7071 - val_accuracy: 0.4677\n",
            "Epoch 141/500\n",
            "1230/1230 - 3s - loss: 1.6635 - accuracy: 0.4681 - val_loss: 1.7057 - val_accuracy: 0.4675\n",
            "Epoch 142/500\n",
            "1230/1230 - 3s - loss: 1.6628 - accuracy: 0.4684 - val_loss: 1.7065 - val_accuracy: 0.4679\n",
            "Epoch 143/500\n",
            "1230/1230 - 3s - loss: 1.6616 - accuracy: 0.4685 - val_loss: 1.7062 - val_accuracy: 0.4675\n",
            "Epoch 144/500\n",
            "1230/1230 - 3s - loss: 1.6617 - accuracy: 0.4686 - val_loss: 1.7066 - val_accuracy: 0.4674\n",
            "Epoch 145/500\n",
            "1230/1230 - 3s - loss: 1.6612 - accuracy: 0.4684 - val_loss: 1.7071 - val_accuracy: 0.4676\n",
            "Epoch 146/500\n",
            "1230/1230 - 3s - loss: 1.6610 - accuracy: 0.4681 - val_loss: 1.7067 - val_accuracy: 0.4678\n",
            "Epoch 147/500\n",
            "1230/1230 - 3s - loss: 1.6610 - accuracy: 0.4688 - val_loss: 1.7057 - val_accuracy: 0.4680\n",
            "Epoch 148/500\n",
            "1230/1230 - 3s - loss: 1.6597 - accuracy: 0.4687 - val_loss: 1.7062 - val_accuracy: 0.4681\n",
            "Epoch 149/500\n",
            "1230/1230 - 3s - loss: 1.6597 - accuracy: 0.4691 - val_loss: 1.7067 - val_accuracy: 0.4682\n",
            "Epoch 150/500\n",
            "1230/1230 - 3s - loss: 1.6589 - accuracy: 0.4691 - val_loss: 1.7061 - val_accuracy: 0.4681\n",
            "Epoch 151/500\n",
            "1230/1230 - 3s - loss: 1.6579 - accuracy: 0.4689 - val_loss: 1.7063 - val_accuracy: 0.4681\n",
            "CPU times: user 9min 7s, sys: 1min 7s, total: 10min 14s\n",
            "Wall time: 7min 54s\n"
          ],
          "name": "stdout"
        }
      ]
    },
    {
      "cell_type": "code",
      "metadata": {
        "colab": {
          "base_uri": "https://localhost:8080/",
          "height": 325
        },
        "id": "3kT-Ps37SLAE",
        "outputId": "12196fce-1d6d-4acd-ce1a-dded68f642a5"
      },
      "source": [
        "fig, ax = plt.subplots(1,2,figsize = (16,4))\n",
        "ax[0].plot(history.history['loss'],'r',label = 'Training Loss')\n",
        "ax[0].plot(history.history['val_loss'],'b',label = 'Validation Loss')\n",
        "ax[1].plot(history.history['accuracy'],'r',label = 'Training Accuracy')\n",
        "ax[1].plot(history.history['val_accuracy'],'b',label = 'Validation Accuracy')\n",
        "ax[0].legend()\n",
        "ax[1].legend()\n",
        "ax[0].set_xlabel('Epochs')\n",
        "ax[1].set_xlabel('Epochs');\n",
        "ax[0].set_ylabel('Loss')\n",
        "ax[1].set_ylabel('Accuracy %');\n",
        "fig.suptitle('NN Training', fontsize = 24)"
      ],
      "execution_count": 111,
      "outputs": [
        {
          "output_type": "execute_result",
          "data": {
            "text/plain": [
              "Text(0.5, 0.98, 'NN Training')"
            ]
          },
          "metadata": {
            "tags": []
          },
          "execution_count": 111
        },
        {
          "output_type": "display_data",
          "data": {
            "image/png": "[encoded data removed]",
            "text/plain": [
              "<Figure size 1152x288 with 2 Axes>"
            ]
          },
          "metadata": {
            "tags": [],
            "needs_background": "light"
          }
        }
      ]
    },
    {
      "cell_type": "code",
      "metadata": {
        "colab": {
          "base_uri": "https://localhost:8080/"
        },
        "id": "mci6SGLcHKLM",
        "outputId": "73a5029e-5f0c-413f-d0c1-bd924fa21d98"
      },
      "source": [
        "predict_proba_train = nn_boston.predict(boston_X_train_scaled)\n",
        "y_pred_train_nn_boston = np.apply_along_axis(np.argmax, 1, predict_proba_train)\n",
        "\n",
        "predict_proba_test = nn_boston.predict(boston_X_test_scaled)\n",
        "y_pred_test_nn_boston = np.apply_along_axis(np.argmax, 1, predict_proba_test)\n",
        "\n",
        "nn_train_score_boston = accuracy_score(boston_multi_y_train, y_pred_train_nn_boston)\n",
        "nn_test_score_boston = accuracy_score(boston_multi_y_test, y_pred_test_nn_boston)\n",
        "\n",
        "print(f\"\"\"Neural Network: \n",
        "train accuracy is {nn_train_score_boston:.4f} and\n",
        "test accuracy is {nn_test_score_boston:.4f}\"\"\")"
      ],
      "execution_count": 112,
      "outputs": [
        {
          "output_type": "stream",
          "text": [
            "Neural Network: \n",
            "train accuracy is 0.4732 and\n",
            "test accuracy is 0.4676\n"
          ],
          "name": "stdout"
        }
      ]
    },
    {
      "cell_type": "markdown",
      "metadata": {
        "id": "hsnFYXjMfAH6"
      },
      "source": [
        "## Binarizing Y to get AUC score for NN"
      ]
    },
    {
      "cell_type": "code",
      "metadata": {
        "id": "HoWzRepqKsQB"
      },
      "source": [
        "\n",
        "# binarizing to get AUC score\n",
        "labels = [0,1,2,3,4,5,6,7,8,9,10,11,12,13,14,15,16,17,18]\n",
        "y_test_bin = label_binarize(boston_multi_y_test, classes=labels)\n",
        "y_pred_test_bin = label_binarize(y_pred_test_nn_boston, classes=labels)"
      ],
      "execution_count": 18,
      "outputs": []
    },
    {
      "cell_type": "code",
      "metadata": {
        "colab": {
          "base_uri": "https://localhost:8080/"
        },
        "id": "4mCiN_9wJrAU",
        "outputId": "839ce638-497d-4f28-c310-685b874e8992"
      },
      "source": [
        "roc_auc_score(y_test_bin, y_pred_test_bin,average='macro',multi_class='ovo')"
      ],
      "execution_count": 19,
      "outputs": [
        {
          "output_type": "execute_result",
          "data": {
            "text/plain": [
              "0.5171396020787601"
            ]
          },
          "metadata": {
            "tags": []
          },
          "execution_count": 19
        }
      ]
    },
    {
      "cell_type": "markdown",
      "metadata": {
        "id": "J2-wzpGIdFOY"
      },
      "source": [
        "# Random Forest Classifier"
      ]
    },
    {
      "cell_type": "code",
      "metadata": {
        "colab": {
          "base_uri": "https://localhost:8080/"
        },
        "id": "_Kp0LEpj0fZL",
        "outputId": "109dbd3e-21c8-4d54-987c-abfa600d8383"
      },
      "source": [
        "%%time\n",
        "#BOSTON Random Forest\n",
        "# Naive model = 0.918\n",
        "\n",
        "\n",
        "n_trees = 210\n",
        "tree_depth = 20\n",
        "\n",
        "rf_boston = RandomForestClassifier(max_depth=tree_depth, n_estimators=n_trees, max_features='sqrt', random_state=random_state)\n",
        "rf_boston.fit(boston_X_train, boston_y_train)\n",
        "\n",
        "y_pred_train_rf_boston = rf_boston.predict(boston_X_train)\n",
        "y_pred_test_rf_boston = rf_boston.predict(boston_X_test)\n",
        "\n",
        "rf_train_score_boston = accuracy_score(boston_y_train, y_pred_train_rf_boston)\n",
        "rf_test_score_boston = accuracy_score(boston_y_test, y_pred_test_rf_boston)\n",
        "\n",
        "print(f\"\"\"Random Forest with {tree_depth} max_depth and {n_trees} trees, \n",
        "train accuracy is {rf_train_score_boston:.4f} and\n",
        "test accuracy is {rf_test_score_boston:.4f}\"\"\")"
      ],
      "execution_count": 13,
      "outputs": [
        {
          "output_type": "stream",
          "text": [
            "Random Forest with 20 max_depth and 210 trees, \n",
            "train accuracy is 0.9335 and\n",
            "test accuracy is 0.9274\n",
            "CPU times: user 2min 44s, sys: 358 ms, total: 2min 44s\n",
            "Wall time: 2min 44s\n"
          ],
          "name": "stdout"
        }
      ]
    },
    {
      "cell_type": "code",
      "metadata": {
        "id": "1DoKYDpPykKB"
      },
      "source": [
        "# helper code to plot feature importances for tree-based models\n",
        "def plot_importances(model, X, num):\n",
        "    model_importances = model.feature_importances_\n",
        "    model_importances = pd.Series(model_importances).fillna(0)\n",
        "    order = np.flip(np.argsort(model_importances))[0:num]\n",
        "    plt.barh(range(num),model_importances[order],tick_label=X.columns[order]);\n",
        "    plt.title(f\"Relative Variable Importances for {type(model).__name__}\")"
      ],
      "execution_count": 13,
      "outputs": []
    },
    {
      "cell_type": "markdown",
      "metadata": {
        "id": "Ujt5Q0f3uiX2"
      },
      "source": [
        "RF with n_trees = 200, max_depth = 10. Test accuracy = 0.9227\n",
        "n_trees = 210, max_depth = 20. Test accuracy = 0.9273"
      ]
    },
    {
      "cell_type": "code",
      "metadata": {
        "colab": {
          "base_uri": "https://localhost:8080/",
          "height": 281
        },
        "id": "4UYpagpRU3XW",
        "outputId": "7937027d-7beb-4536-8da5-4331962fccec"
      },
      "source": [
        "plot_importances(rf_boston, boston_X_train, 10)"
      ],
      "execution_count": 15,
      "outputs": [
        {
          "output_type": "display_data",
          "data": {
            "image/png": "[encoded data removed]",
            "text/plain": [
              "<Figure size 432x288 with 1 Axes>"
            ]
          },
          "metadata": {
            "tags": [],
            "needs_background": "light"
          }
        }
      ]
    },
    {
      "cell_type": "code",
      "metadata": {
        "id": "TC9wYj_kyfjy"
      },
      "source": [
        "def plot_permute_importance(importances,X,y):\n",
        "  plt.figure(figsize=(10,10))\n",
        "\n",
        "  tree_importance_sorted_idx = np.argsort(importances.importances_mean)\n",
        "  tree_indices = np.arange(0, len(importances.importances_mean)) +0.5\n",
        "\n",
        "  plt.barh(tree_indices, importances.importances_mean[tree_importance_sorted_idx], height=0.7, color='#EFAEA4')\n",
        "  plt.yticks(tree_indices, labels=X.columns[tree_importance_sorted_idx], fontsize=12)\n",
        "  plt.ylim((0, len(importances.importances_mean)))\n",
        "  plt.xlabel(\"Permutation Feature Importance\", fontsize=16)\n",
        "  maxlim = max(importances.importances_mean)\n",
        "  plt.xlim(0,maxlim+0.015)\n",
        "  plt.title(\"Permutation Importance\", fontsize=18)\n",
        "  plt.show()"
      ],
      "execution_count": 17,
      "outputs": []
    },
    {
      "cell_type": "code",
      "metadata": {
        "id": "tjAtmC7kwFog"
      },
      "source": [
        "# from sklearn.inspection import permutation_importance\n",
        "\n",
        "# rf_importances = permutation_importance(rf_boston, boston_X_train, boston_y_train, random_state=random_state)\n",
        "\n",
        "# plot_permute_importance(rf_importances, boston_X_train, boston_y_train)"
      ],
      "execution_count": null,
      "outputs": []
    },
    {
      "cell_type": "code",
      "metadata": {
        "colab": {
          "base_uri": "https://localhost:8080/"
        },
        "id": "i25MjPXQ1F1M",
        "outputId": "f6e9b7a4-17fd-45ca-ed71-fedf90f0517b"
      },
      "source": [
        "%%time\n",
        "#Full Random Forest\n",
        "n_trees = 210\n",
        "tree_depth = 20\n",
        "\n",
        "rf_full = RandomForestClassifier(max_depth=tree_depth, n_estimators=n_trees, max_features='sqrt', random_state=51)\n",
        "rf_full.fit(full_X_train, full_y_train)\n",
        "\n",
        "y_pred_train_rf_full = rf_full.predict(full_X_train)\n",
        "y_pred_test_rf_full = rf_full.predict(full_X_test)\n",
        "\n",
        "rf_train_score_full = accuracy_score(full_y_train, y_pred_train_rf_full)\n",
        "rf_test_score_full = accuracy_score(full_y_test, y_pred_test_rf_full)\n",
        "\n",
        "print(f\"\"\"Random Forest with {tree_depth} max_depth and {n_trees} trees, \n",
        "train accuracy is {rf_train_score_full:.3f} and\n",
        "test accuracy is {rf_test_score_full:.3f}\"\"\")"
      ],
      "execution_count": 11,
      "outputs": [
        {
          "output_type": "stream",
          "text": [
            "Random Forest with 20 max_depth and 210 trees, \n",
            "train accuracy is 0.901 and\n",
            "test accuracy is 0.894\n",
            "CPU times: user 7min 55s, sys: 976 ms, total: 7min 56s\n",
            "Wall time: 7min 57s\n"
          ],
          "name": "stdout"
        }
      ]
    },
    {
      "cell_type": "code",
      "metadata": {
        "colab": {
          "base_uri": "https://localhost:8080/",
          "height": 281
        },
        "id": "VqA2rNhj6xjc",
        "outputId": "7a566e99-168b-44ba-a2fc-3dddbf3b61bf"
      },
      "source": [
        "plot_importances(rf_full, full_X_train, 10)"
      ],
      "execution_count": 19,
      "outputs": [
        {
          "output_type": "display_data",
          "data": {
            "image/png": "[encoded data removed]",
            "text/plain": [
              "<Figure size 432x288 with 1 Axes>"
            ]
          },
          "metadata": {
            "tags": [],
            "needs_background": "light"
          }
        }
      ]
    },
    {
      "cell_type": "code",
      "metadata": {
        "colab": {
          "base_uri": "https://localhost:8080/"
        },
        "id": "aR_JMwul4C_K",
        "outputId": "0a89164c-234c-4a26-a044-459b3e96e49e"
      },
      "source": [
        "# BOSTON multifactor RF\n",
        "n_trees = 300\n",
        "tree_depth = 20\n",
        "\n",
        "rf_boston = RandomForestClassifier(max_depth=tree_depth, n_estimators=n_trees, max_features='sqrt', random_state=51)\n",
        "rf_boston.fit(boston_X_train, boston_multi_y_train)\n",
        "\n",
        "y_pred_rf_boston_multi_train = rf_boston.predict(boston_X_train)\n",
        "y_pred_rf_boston_multi_test = rf_boston.predict(boston_X_test)\n",
        "\n",
        "rf_boston_multi_train = accuracy_score(boston_multi_y_train, y_pred_rf_boston_multi_train)\n",
        "rf_boston_multi_test = accuracy_score(boston_multi_y_test, y_pred_rf_boston_multi_test)\n",
        "\n",
        "print(f\"\"\"Random Forest with {tree_depth} max_depth and {n_trees} trees, \n",
        "train accuracy is {rf_boston_multi_train:.4f} and\n",
        "test accuracy is {rf_boston_multi_test:.4f}\"\"\")"
      ],
      "execution_count": 18,
      "outputs": [
        {
          "output_type": "stream",
          "text": [
            "Random Forest with 20 max_depth and 300 trees, \n",
            "train accuracy is 0.6447 and\n",
            "test accuracy is 0.4902\n"
          ],
          "name": "stdout"
        }
      ]
    },
    {
      "cell_type": "markdown",
      "metadata": {
        "id": "PdmWXpZeC7bi"
      },
      "source": [
        "This train accuracy is quite good, but the test accuracy isn't so good. These seem possibly to be overfitting. With just 10 depth, we're not getting very good numbers. So we could set a min_samples_leaf to \"prune back\" the trees."
      ]
    },
    {
      "cell_type": "code",
      "metadata": {
        "colab": {
          "base_uri": "https://localhost:8080/",
          "height": 281
        },
        "id": "zLty2AzN8wol",
        "outputId": "15a59bd3-a8f9-4215-d6f1-7c5a5bc918d3"
      },
      "source": [
        "plot_importances(rf_boston, boston_X_train, 10)"
      ],
      "execution_count": 19,
      "outputs": [
        {
          "output_type": "display_data",
          "data": {
            "image/png": "[encoded data removed]",
            "text/plain": [
              "<Figure size 432x288 with 1 Axes>"
            ]
          },
          "metadata": {
            "tags": [],
            "needs_background": "light"
          }
        }
      ]
    },
    {
      "cell_type": "code",
      "metadata": {
        "colab": {
          "base_uri": "https://localhost:8080/"
        },
        "id": "8jlsPXiHAHy5",
        "outputId": "65b7636e-3197-4a04-85aa-ac720c89ba26"
      },
      "source": [
        "# Boston multifactor with pruning\n",
        "n_trees = 300\n",
        "tree_depth = 20\n",
        "min_samples = 50\n",
        "\n",
        "rf_multi_pruned = RandomForestClassifier(max_depth=tree_depth, n_estimators=n_trees, max_features='sqrt', random_state=51, min_samples_leaf=min_samples)\n",
        "rf_multi_pruned.fit(boston_X_train, boston_multi_y_train)\n",
        "\n",
        "y_pred_rf_multi_pruned_train = rf_multi_pruned.predict(boston_X_train)\n",
        "y_pred_rf_multi_pruned_test = rf_multi_pruned.predict(boston_X_test)\n",
        "\n",
        "rf_multi_pruned_train = accuracy_score(boston_multi_y_train, y_pred_rf_multi_pruned_train)\n",
        "rf_multi_pruned_test = accuracy_score(boston_multi_y_test, y_pred_rf_multi_pruned_test)\n",
        "\n",
        "print(f\"\"\"Random Forest with {tree_depth} max_depth and {n_trees} trees, \n",
        "train accuracy is {rf_multi_pruned_train:.4f} and\n",
        "test accuracy is {rf_multi_pruned_test:.4f}\"\"\")"
      ],
      "execution_count": 20,
      "outputs": [
        {
          "output_type": "stream",
          "text": [
            "Random Forest with 20 max_depth and 300 trees, \n",
            "train accuracy is 0.4818 and\n",
            "test accuracy is 0.4777\n"
          ],
          "name": "stdout"
        }
      ]
    },
    {
      "cell_type": "markdown",
      "metadata": {
        "id": "ossPIag7Cz7u"
      },
      "source": [
        "This model doesn't really overfit, but we're not getting as good test accuracy as the deep model without min_samples_leaf set. Maybe a slightly lower setting for min_samples_leaf would work. (We could do all of this via cv and grid search, but each tree takes so long to run that this seems a better course)."
      ]
    },
    {
      "cell_type": "code",
      "metadata": {
        "colab": {
          "base_uri": "https://localhost:8080/",
          "height": 281
        },
        "id": "G1_xZ4KP8wzm",
        "outputId": "f27c9e80-2fb7-436a-ce6c-0984e5bd305c"
      },
      "source": [
        "plot_importances(rf_multi_pruned, boston_X_train, 10)"
      ],
      "execution_count": 21,
      "outputs": [
        {
          "output_type": "display_data",
          "data": {
            "image/png": "[encoded data removed]",
            "text/plain": [
              "<Figure size 432x288 with 1 Axes>"
            ]
          },
          "metadata": {
            "tags": [],
            "needs_background": "light"
          }
        }
      ]
    },
    {
      "cell_type": "code",
      "metadata": {
        "colab": {
          "base_uri": "https://localhost:8080/"
        },
        "id": "lP-namH7CoOY",
        "outputId": "c1a96dae-6cc7-4d7e-da82-fcd8a43d8956"
      },
      "source": [
        "# Boston multifactor with pruning\n",
        "n_trees = 300\n",
        "tree_depth = 20\n",
        "min_samples = 25\n",
        "\n",
        "rf_multi_pruned2 = RandomForestClassifier(max_depth=tree_depth, n_estimators=n_trees, max_features='sqrt', random_state=51, min_samples_leaf=min_samples)\n",
        "rf_multi_pruned2.fit(boston_X_train, boston_multi_y_train)\n",
        "\n",
        "y_pred_rf_multi_pruned_train2 = rf_multi_pruned2.predict(boston_X_train)\n",
        "y_pred_rf_multi_pruned_test2 = rf_multi_pruned2.predict(boston_X_test)\n",
        "\n",
        "rf_multi_pruned_train2 = accuracy_score(boston_multi_y_train, y_pred_rf_multi_pruned_train2)\n",
        "rf_multi_pruned_test2 = accuracy_score(boston_multi_y_test, y_pred_rf_multi_pruned_test2)\n",
        "\n",
        "print(f\"\"\"Random Forest with {tree_depth} max_depth and {n_trees} trees, \n",
        "train accuracy is {rf_multi_pruned_train2:.4f} and\n",
        "test accuracy is {rf_multi_pruned_test2:.4f}\"\"\")"
      ],
      "execution_count": 22,
      "outputs": [
        {
          "output_type": "stream",
          "text": [
            "Random Forest with 20 max_depth and 300 trees, \n",
            "train accuracy is 0.4895 and\n",
            "test accuracy is 0.4817\n"
          ],
          "name": "stdout"
        }
      ]
    },
    {
      "cell_type": "code",
      "metadata": {
        "colab": {
          "base_uri": "https://localhost:8080/",
          "height": 281
        },
        "id": "EWEYn5VvEEb_",
        "outputId": "e74cb7e6-870e-4de7-afca-f5e901296cd6"
      },
      "source": [
        "plot_importances(rf_multi_pruned2, boston_X_train, 10)"
      ],
      "execution_count": 23,
      "outputs": [
        {
          "output_type": "display_data",
          "data": {
            "image/png": "[encoded data removed]",
            "text/plain": [
              "<Figure size 432x288 with 1 Axes>"
            ]
          },
          "metadata": {
            "tags": [],
            "needs_background": "light"
          }
        }
      ]
    },
    {
      "cell_type": "code",
      "metadata": {
        "colab": {
          "base_uri": "https://localhost:8080/"
        },
        "id": "Jq1aVMdAEJVk",
        "outputId": "1d28e70a-7cc4-4b15-9793-b22c696a4cb6"
      },
      "source": [
        "# Boston multifactor with pruning, 3rd time a charm?\n",
        "n_trees = 300\n",
        "tree_depth = 20\n",
        "min_samples = 10\n",
        "\n",
        "rf_multi_pruned3 = RandomForestClassifier(max_depth=tree_depth, n_estimators=n_trees, max_features='sqrt', random_state=51, min_samples_leaf=min_samples)\n",
        "rf_multi_pruned3.fit(boston_X_train, boston_multi_y_train)\n",
        "\n",
        "y_pred_rf_multi_pruned_train3 = rf_multi_pruned3.predict(boston_X_train)\n",
        "y_pred_rf_multi_pruned_test3 = rf_multi_pruned3.predict(boston_X_test)\n",
        "\n",
        "rf_multi_pruned_train3 = accuracy_score(boston_multi_y_train, y_pred_rf_multi_pruned_train3)\n",
        "rf_multi_pruned_test3 = accuracy_score(boston_multi_y_test, y_pred_rf_multi_pruned_test3)\n",
        "\n",
        "print(f\"\"\"Random Forest with {tree_depth} max_depth and {n_trees} trees, \n",
        "train accuracy is {rf_multi_pruned_train3:.4f} and\n",
        "test accuracy is {rf_multi_pruned_test3:.4f}\"\"\")"
      ],
      "execution_count": 24,
      "outputs": [
        {
          "output_type": "stream",
          "text": [
            "Random Forest with 20 max_depth and 300 trees, \n",
            "train accuracy is 0.5054 and\n",
            "test accuracy is 0.4858\n"
          ],
          "name": "stdout"
        }
      ]
    },
    {
      "cell_type": "code",
      "metadata": {
        "colab": {
          "base_uri": "https://localhost:8080/",
          "height": 281
        },
        "id": "KA8QEsK_Ggd9",
        "outputId": "28802eb9-9b31-4adb-ce82-73cf039cc942"
      },
      "source": [
        "plot_importances(rf_multi_pruned3, boston_X_train, 10)"
      ],
      "execution_count": 25,
      "outputs": [
        {
          "output_type": "display_data",
          "data": {
            "image/png": "[encoded data removed]",
            "text/plain": [
              "<Figure size 432x288 with 1 Axes>"
            ]
          },
          "metadata": {
            "tags": [],
            "needs_background": "light"
          }
        }
      ]
    },
    {
      "cell_type": "code",
      "metadata": {
        "colab": {
          "base_uri": "https://localhost:8080/"
        },
        "id": "UnIm1GBgMeWP",
        "outputId": "859b5399-805c-42f7-fc6b-8f551830aa29"
      },
      "source": [
        "%%time\n",
        "# Generalized multifactor with pruning\n",
        "n_trees = 300\n",
        "tree_depth = 20\n",
        "min_samples = 10\n",
        "\n",
        "rf_multi_full_pruned = RandomForestClassifier(max_depth=tree_depth, n_estimators=n_trees, max_features='sqrt', random_state=51, min_samples_leaf=min_samples)\n",
        "rf_multi_full_pruned.fit(full_X_train, full_multi_y_train)\n",
        "\n",
        "y_pred_rf_multi_full_pruned_train = rf_multi_full_pruned.predict(full_X_train)\n",
        "y_pred_rf_multi_full_pruned_test = rf_multi_full_pruned.predict(full_X_test)\n",
        "\n",
        "rf_multi_full_pruned_train = accuracy_score(full_multi_y_train, y_pred_rf_multi_full_pruned_train)\n",
        "rf_multi_full_pruned_test = accuracy_score(full_multi_y_test, y_pred_rf_multi_full_pruned_test)\n",
        "\n",
        "print(f\"\"\"Random Forest with {tree_depth} max_depth and {n_trees} trees and {min_samples} minimum samples per leaf, \n",
        "train accuracy is {rf_multi_full_pruned_train:.4f} and\n",
        "test accuracy is {rf_multi_full_pruned_test:.4f}\"\"\")"
      ],
      "execution_count": 15,
      "outputs": [
        {
          "output_type": "stream",
          "text": [
            "Random Forest with 20 max_depth and 300 trees and 10 minimum samples per leaf, \n",
            "train accuracy is 0.4919 and\n",
            "test accuracy is 0.4551\n",
            "CPU times: user 10min 40s, sys: 1.95 s, total: 10min 42s\n",
            "Wall time: 10min 43s\n"
          ],
          "name": "stdout"
        }
      ]
    },
    {
      "cell_type": "code",
      "metadata": {
        "colab": {
          "base_uri": "https://localhost:8080/",
          "height": 281
        },
        "id": "a7uQsTCqNPK7",
        "outputId": "1e5ae32d-de35-46a3-e810-5a96ca557403"
      },
      "source": [
        "plot_importances(rf_multi_full_pruned, full_X_train, 10)"
      ],
      "execution_count": 18,
      "outputs": [
        {
          "output_type": "display_data",
          "data": {
            "image/png": "[encoded data removed]",
            "text/plain": [
              "<Figure size 432x288 with 1 Axes>"
            ]
          },
          "metadata": {
            "tags": [],
            "needs_background": "light"
          }
        }
      ]
    },
    {
      "cell_type": "code",
      "metadata": {
        "colab": {
          "base_uri": "https://localhost:8080/"
        },
        "id": "ynWNeGwgX3Lr",
        "outputId": "296ad85e-dd41-47bd-e049-856f2fdc7153"
      },
      "source": [
        "%%time\n",
        "# Generalized multifactor with pruning\n",
        "n_trees = 300\n",
        "tree_depth = 20\n",
        "min_samples = 20\n",
        "\n",
        "rf_multi_full_pruned2 = RandomForestClassifier(max_depth=tree_depth, n_estimators=n_trees, max_features='sqrt', random_state=51, min_samples_leaf=min_samples)\n",
        "rf_multi_full_pruned2.fit(full_X_train, full_multi_y_train)\n",
        "\n",
        "y_pred_rf_multi_full_pruned_train2 = rf_multi_full_pruned2.predict(full_X_train)\n",
        "y_pred_rf_multi_full_pruned_test2 = rf_multi_full_pruned2.predict(full_X_test)\n",
        "\n",
        "rf_multi_full_pruned_train2 = accuracy_score(full_multi_y_train, y_pred_rf_multi_full_pruned_train2)\n",
        "rf_multi_full_pruned_test2 = accuracy_score(full_multi_y_test, y_pred_rf_multi_full_pruned_test2)\n",
        "\n",
        "print(f\"\"\"Random Forest with {tree_depth} max_depth and {n_trees} trees and {min_samples} minimum samples per leaf, \n",
        "train accuracy is {rf_multi_full_pruned_train2:.4f} and\n",
        "test accuracy is {rf_multi_full_pruned_test2:.4f}\"\"\")"
      ],
      "execution_count": 20,
      "outputs": [
        {
          "output_type": "stream",
          "text": [
            "Random Forest with 20 max_depth and 300 trees and 20 minimum samples per leaf, \n",
            "train accuracy is 0.4738 and\n",
            "test accuracy is 0.4520\n",
            "CPU times: user 8min 55s, sys: 1.95 s, total: 8min 57s\n",
            "Wall time: 8min 58s\n"
          ],
          "name": "stdout"
        }
      ]
    },
    {
      "cell_type": "code",
      "metadata": {
        "colab": {
          "base_uri": "https://localhost:8080/",
          "height": 281
        },
        "id": "dpHFoKurYGR_",
        "outputId": "2238c305-07c8-4923-9395-6ed23711ad73"
      },
      "source": [
        "plot_importances(rf_multi_full_pruned2, full_X_train, 10)"
      ],
      "execution_count": 21,
      "outputs": [
        {
          "output_type": "display_data",
          "data": {
            "image/png": "[encoded data removed]",
            "text/plain": [
              "<Figure size 432x288 with 1 Axes>"
            ]
          },
          "metadata": {
            "tags": [],
            "needs_background": "light"
          }
        }
      ]
    },
    {
      "cell_type": "markdown",
      "metadata": {
        "id": "AGrmJxPia2H4"
      },
      "source": [
        "# K Nearest Neighbors\n",
        "Yikes, this was time-instensive to run."
      ]
    },
    {
      "cell_type": "code",
      "metadata": {
        "colab": {
          "base_uri": "https://localhost:8080/",
          "height": 346
        },
        "id": "JOO34O45a3-B",
        "outputId": "e6c38e1b-5228-43d0-9e94-8b80378f31da"
      },
      "source": [
        "training_error, validation_error = [],[]\n",
        "\n",
        "ks = [1,3,5,9,15]\n",
        "\n",
        "for k in ks:\n",
        "    \n",
        "    knn = KNeighborsClassifier(n_neighbors=k)\n",
        "\n",
        "    knn_cv = cross_validate(knn,boston_X_train_scaled,boston_y_train, scoring=\"accuracy\", return_train_score=True, cv=3)\n",
        "    \n",
        "    acc_train = knn_cv['train_score'].mean()\n",
        "    acc_val = knn_cv['test_score'].mean()\n",
        "        \n",
        "    training_error.append(acc_train)\n",
        "    validation_error.append(acc_val)\n",
        "    \n",
        "plt.plot(ks, training_error, 's-', color=\"blue\", label=\"Training\")\n",
        "plt.plot(ks, validation_error, 's-', color=\"red\", label=\"Validation\")\n",
        "plt.xlabel(\"Value of K\")\n",
        "plt.ylabel(\"Accuracy\")\n",
        "plt.title(\"K-value vs. Accuracy for train and val in kNN Boston crime models\")\n",
        "plt.legend()\n",
        "plt.show()\n",
        "\n",
        "best_acc  = max(validation_error)\n",
        "best_k = ks[validation_error.index(best_acc)]\n",
        "\n",
        "print(f'Best value of K is {best_k}')\n",
        "\n",
        "knn_model = KNeighborsClassifier(n_neighbors=best_k).fit(boston_X_train_scaled,boston_y_train)\n",
        "\n",
        "knn_model_train_accuracy = knn_model.score(boston_X_train_scaled, boston_y_train)\n",
        "knn_model_test_accuracy = knn_model.score(boston_X_test_scaled, boston_y_test)\n",
        "\n",
        "print(f'Train accuracy of best (k={best_k}) model: {knn_model_train_accuracy:.4f}')\n",
        "print(f'Test accuracy of best (k={best_k}) model: {knn_model_test_accuracy:.4f}')"
      ],
      "execution_count": 10,
      "outputs": [
        {
          "output_type": "display_data",
          "data": {
            "image/png": "[encoded data removed]",
            "text/plain": [
              "<Figure size 432x288 with 1 Axes>"
            ]
          },
          "metadata": {
            "tags": [],
            "needs_background": "light"
          }
        },
        {
          "output_type": "stream",
          "text": [
            "Best value of K is 9\n",
            "Train accuracy of best (k=9) model: 0.9272\n",
            "Test accuracy of best (k=9) model: 0.9252\n"
          ],
          "name": "stdout"
        }
      ]
    },
    {
      "cell_type": "code",
      "metadata": {
        "colab": {
          "base_uri": "https://localhost:8080/"
        },
        "id": "dX7wEKdA-kOA",
        "outputId": "ffac19e1-f97a-4e85-e48c-bdc66734a03c"
      },
      "source": [
        "# knn with same best K, coding so don't have to redo analysis\n",
        "best_k = 9\n",
        "\n",
        "# knn on full data for violent/non-violent\n",
        "knn_model_full = KNeighborsClassifier(n_neighbors=best_k).fit(full_X_train_scaled, full_y_train)\n",
        "\n",
        "knn_model_full_train_accuracy = knn_model_full.score(full_X_train_scaled, full_y_train)\n",
        "knn_model_full_test_accuracy = knn_model_full.score(full_X_test_scaled, full_y_test)\n",
        "\n",
        "print(f'Train accuracy of best (k={best_k}) model: {knn_model_full_train_accuracy:.4f}')\n",
        "print(f'Test accuracy of best (k={best_k}) model: {knn_model_full_test_accuracy:.4f}')"
      ],
      "execution_count": 26,
      "outputs": [
        {
          "output_type": "stream",
          "text": [
            "Train accuracy of best (k=9) model: 0.8894\n",
            "Test accuracy of best (k=9) model: 0.8828\n"
          ],
          "name": "stdout"
        }
      ]
    },
    {
      "cell_type": "markdown",
      "metadata": {
        "id": "3brEkP0jmH-u"
      },
      "source": [
        "kNN with the same best k from Boston only did not do any better than naive model on the full dataset. Since even this one run took quite a long time, and kNN is not very interpretable, it makes sense that this is not a good model to pursue"
      ]
    },
    {
      "cell_type": "code",
      "metadata": {
        "id": "o78OKGO0bLU4"
      },
      "source": [
        ""
      ],
      "execution_count": null,
      "outputs": []
    }
  ]
}
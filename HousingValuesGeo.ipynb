{
  "nbformat": 4,
  "nbformat_minor": 0,
  "metadata": {
    "colab": {
      "name": "HousingValuesGeo.ipynb",
      "provenance": [],
      "authorship_tag": "ABX9TyPnSP7tDp4a9MvlGLtAZKLt",
      "include_colab_link": true
    },
    "kernelspec": {
      "name": "python3",
      "display_name": "Python 3"
    }
  },
  "cells": [
    {
      "cell_type": "markdown",
      "metadata": {
        "id": "view-in-github",
        "colab_type": "text"
      },
      "source": [
        "<a href=\"https://colab.research.google.com/github/YolandaMDavis/cs109a-fall2020/blob/socio-economic/HousingValuesGeo.ipynb\" target=\"_parent\"><img src=\"https://colab.research.google.com/assets/colab-badge.svg\" alt=\"Open In Colab\"/></a>"
      ]
    },
    {
      "cell_type": "code",
      "metadata": {
        "id": "2f5dgQTAcImD",
        "outputId": "3055bbca-fd94-4857-b4bd-251e900656fd",
        "colab": {
          "base_uri": "https://localhost:8080/"
        }
      },
      "source": [
        "from google.colab import drive\n",
        "drive.mount('/content/drive')"
      ],
      "execution_count": 3,
      "outputs": [
        {
          "output_type": "stream",
          "text": [
            "Mounted at /content/drive\n"
          ],
          "name": "stdout"
        }
      ]
    },
    {
      "cell_type": "code",
      "metadata": {
        "id": "0MRzS9X2cR3j",
        "outputId": "0a78e427-e9bc-4721-d567-476a493576f4",
        "colab": {
          "base_uri": "https://localhost:8080/"
        }
      },
      "source": [
        "!pip install pygeohash"
      ],
      "execution_count": 5,
      "outputs": [
        {
          "output_type": "stream",
          "text": [
            "Collecting pygeohash\n",
            "  Downloading https://files.pythonhosted.org/packages/2c/33/c912fa4476cedcd3ed9cd25c44c163583b92d319860438e6b632f7f42d0c/pygeohash-1.2.0.tar.gz\n",
            "Building wheels for collected packages: pygeohash\n",
            "  Building wheel for pygeohash (setup.py) ... \u001b[?25l\u001b[?25hdone\n",
            "  Created wheel for pygeohash: filename=pygeohash-1.2.0-py2.py3-none-any.whl size=6162 sha256=19315b6cdcfe750de3df48b4e0388bc47f09e41f7e54407ad78c4a6de436d0c0\n",
            "  Stored in directory: /root/.cache/pip/wheels/3f/5f/14/989d83a271207dda28232746d63e737a2dbd88ea7f7a9db807\n",
            "Successfully built pygeohash\n",
            "Installing collected packages: pygeohash\n",
            "Successfully installed pygeohash-1.2.0\n"
          ],
          "name": "stdout"
        }
      ]
    },
    {
      "cell_type": "code",
      "metadata": {
        "id": "K2uFI210cUFa"
      },
      "source": [
        "%matplotlib inline\n",
        "import math\n",
        "import numpy as np\n",
        "import pandas as pd\n",
        "import seaborn as sns\n",
        "import matplotlib.pyplot as plt\n",
        "import pygeohash as pgh\n",
        "DATA_ROOT = '/content/drive/My Drive/Final-Project-for-CS109a/'"
      ],
      "execution_count": 6,
      "outputs": []
    },
    {
      "cell_type": "code",
      "metadata": {
        "id": "MeypBxPocaFq",
        "outputId": "980fe252-b639-44d6-ce02-a619e5678a07",
        "colab": {
          "base_uri": "https://localhost:8080/"
        }
      },
      "source": [
        "SAM_addresses = pd.read_csv(DATA_ROOT + 'Live_Street_Address_Management__SAM__Addresses.csv')\n",
        "assessment = pd.read_csv(DATA_ROOT + '2020-property-assessment.csv')"
      ],
      "execution_count": 7,
      "outputs": [
        {
          "output_type": "stream",
          "text": [
            "/usr/local/lib/python3.6/dist-packages/IPython/core/interactiveshell.py:2718: DtypeWarning: Columns (8,9,25) have mixed types.Specify dtype option on import or set low_memory=False.\n",
            "  interactivity=interactivity, compiler=compiler, result=result)\n",
            "/usr/local/lib/python3.6/dist-packages/IPython/core/interactiveshell.py:2718: DtypeWarning: Columns (6,15,27,28,29,34,35,36,37,38,39,40,41,42,44,45,46,47,48,58,59,64,65,66,67,68,69,70,72,73,74) have mixed types.Specify dtype option on import or set low_memory=False.\n",
            "  interactivity=interactivity, compiler=compiler, result=result)\n"
          ],
          "name": "stderr"
        }
      ]
    },
    {
      "cell_type": "code",
      "metadata": {
        "id": "jqboXO36fjwR",
        "outputId": "68054299-02f2-4306-a3bd-2615f7714d0a",
        "colab": {
          "base_uri": "https://localhost:8080/"
        }
      },
      "source": [
        "SAM_addresses.shape"
      ],
      "execution_count": 8,
      "outputs": [
        {
          "output_type": "execute_result",
          "data": {
            "text/plain": [
              "(399248, 27)"
            ]
          },
          "metadata": {
            "tags": []
          },
          "execution_count": 8
        }
      ]
    },
    {
      "cell_type": "code",
      "metadata": {
        "id": "UlTHZU2nfnSH",
        "outputId": "2fa12ded-238f-43b9-8246-dade89f9ffc7",
        "colab": {
          "base_uri": "https://localhost:8080/"
        }
      },
      "source": [
        "assessment.shape"
      ],
      "execution_count": 9,
      "outputs": [
        {
          "output_type": "execute_result",
          "data": {
            "text/plain": [
              "(175052, 75)"
            ]
          },
          "metadata": {
            "tags": []
          },
          "execution_count": 9
        }
      ]
    },
    {
      "cell_type": "code",
      "metadata": {
        "id": "7gmRhJFMfyW_",
        "outputId": "8f3712bb-3d87-446d-d457-5e343e6d7e4b",
        "colab": {
          "base_uri": "https://localhost:8080/",
          "height": 100
        }
      },
      "source": [
        "SAM_addresses[SAM_addresses['PARCEL']==2200078000]"
      ],
      "execution_count": 10,
      "outputs": [
        {
          "output_type": "execute_result",
          "data": {
            "text/html": [
              "<div>\n",
              "<style scoped>\n",
              "    .dataframe tbody tr th:only-of-type {\n",
              "        vertical-align: middle;\n",
              "    }\n",
              "\n",
              "    .dataframe tbody tr th {\n",
              "        vertical-align: top;\n",
              "    }\n",
              "\n",
              "    .dataframe thead th {\n",
              "        text-align: right;\n",
              "    }\n",
              "</style>\n",
              "<table border=\"1\" class=\"dataframe\">\n",
              "  <thead>\n",
              "    <tr style=\"text-align: right;\">\n",
              "      <th></th>\n",
              "      <th>X</th>\n",
              "      <th>Y</th>\n",
              "      <th>SAM_ADDRESS_ID</th>\n",
              "      <th>RELATIONSHIP_TYPE</th>\n",
              "      <th>BUILDING_ID</th>\n",
              "      <th>FULL_ADDRESS</th>\n",
              "      <th>STREET_NUMBER</th>\n",
              "      <th>IS_RANGE</th>\n",
              "      <th>RANGE_FROM</th>\n",
              "      <th>RANGE_TO</th>\n",
              "      <th>UNIT</th>\n",
              "      <th>FULL_STREET_NAME</th>\n",
              "      <th>STREET_ID</th>\n",
              "      <th>STREET_PREFIX</th>\n",
              "      <th>STREET_BODY</th>\n",
              "      <th>STREET_SUFFIX_ABBR</th>\n",
              "      <th>STREET_FULL_SUFFIX</th>\n",
              "      <th>STREET_SUFFIX_DIR</th>\n",
              "      <th>STREET_NUMBER_SORT</th>\n",
              "      <th>MAILING_NEIGHBORHOOD</th>\n",
              "      <th>ZIP_CODE</th>\n",
              "      <th>X_COORD</th>\n",
              "      <th>Y_COORD</th>\n",
              "      <th>SAM_STREET_ID</th>\n",
              "      <th>WARD</th>\n",
              "      <th>PRECINCT_WARD</th>\n",
              "      <th>PARCEL</th>\n",
              "    </tr>\n",
              "  </thead>\n",
              "  <tbody>\n",
              "    <tr>\n",
              "      <th>132036</th>\n",
              "      <td>-71.124341</td>\n",
              "      <td>42.360299</td>\n",
              "      <td>150718</td>\n",
              "      <td>1</td>\n",
              "      <td>143177</td>\n",
              "      <td>30 Windom St</td>\n",
              "      <td>30</td>\n",
              "      <td>0</td>\n",
              "      <td>NaN</td>\n",
              "      <td>NaN</td>\n",
              "      <td>NaN</td>\n",
              "      <td>Windom St</td>\n",
              "      <td>4535</td>\n",
              "      <td></td>\n",
              "      <td>Windom</td>\n",
              "      <td>St</td>\n",
              "      <td>Street</td>\n",
              "      <td></td>\n",
              "      <td>30.0</td>\n",
              "      <td>Allston</td>\n",
              "      <td>2134.0</td>\n",
              "      <td>757696.825869</td>\n",
              "      <td>2.956542e+06</td>\n",
              "      <td>4535</td>\n",
              "      <td>22</td>\n",
              "      <td>2201</td>\n",
              "      <td>2.200078e+09</td>\n",
              "    </tr>\n",
              "  </tbody>\n",
              "</table>\n",
              "</div>"
            ],
            "text/plain": [
              "                X          Y  SAM_ADDRESS_ID  ...  WARD  PRECINCT_WARD        PARCEL\n",
              "132036 -71.124341  42.360299          150718  ...    22           2201  2.200078e+09\n",
              "\n",
              "[1 rows x 27 columns]"
            ]
          },
          "metadata": {
            "tags": []
          },
          "execution_count": 10
        }
      ]
    },
    {
      "cell_type": "code",
      "metadata": {
        "id": "-OEsHs5xf-Nv",
        "outputId": "c2cb8b67-e6d7-457f-8a2d-9a9efb51941c",
        "colab": {
          "base_uri": "https://localhost:8080/",
          "height": 134
        }
      },
      "source": [
        "assessment[assessment['PID']==2200078000]"
      ],
      "execution_count": 11,
      "outputs": [
        {
          "output_type": "execute_result",
          "data": {
            "text/html": [
              "<div>\n",
              "<style scoped>\n",
              "    .dataframe tbody tr th:only-of-type {\n",
              "        vertical-align: middle;\n",
              "    }\n",
              "\n",
              "    .dataframe tbody tr th {\n",
              "        vertical-align: top;\n",
              "    }\n",
              "\n",
              "    .dataframe thead th {\n",
              "        text-align: right;\n",
              "    }\n",
              "</style>\n",
              "<table border=\"1\" class=\"dataframe\">\n",
              "  <thead>\n",
              "    <tr style=\"text-align: right;\">\n",
              "      <th></th>\n",
              "      <th>PID</th>\n",
              "      <th>CM_ID</th>\n",
              "      <th>GIS_ID</th>\n",
              "      <th>ST_NUM</th>\n",
              "      <th>ST_NAME</th>\n",
              "      <th>ST_NAME_SUF</th>\n",
              "      <th>UNIT_NUM</th>\n",
              "      <th>ZIPCODE</th>\n",
              "      <th>PTYPE</th>\n",
              "      <th>LU</th>\n",
              "      <th>OWN_OCC</th>\n",
              "      <th>OWNER</th>\n",
              "      <th>MAIL_ADDRESSEE</th>\n",
              "      <th>MAIL_ADDRESS</th>\n",
              "      <th>MAIL CS</th>\n",
              "      <th>MAIL_ZIPCODE</th>\n",
              "      <th>AV_LAND</th>\n",
              "      <th>AV_BLDG</th>\n",
              "      <th>AV_TOTAL</th>\n",
              "      <th>GROSS_TAX</th>\n",
              "      <th>LAND_SF</th>\n",
              "      <th>YR_BUILT</th>\n",
              "      <th>YR_REMOD</th>\n",
              "      <th>GROSS_AREA</th>\n",
              "      <th>LIVING_AREA</th>\n",
              "      <th>NUM_FLOORS</th>\n",
              "      <th>STRUCTURE_CLASS</th>\n",
              "      <th>R_BLDG_STYL</th>\n",
              "      <th>R_ROOF_TYP</th>\n",
              "      <th>R_EXT_FIN</th>\n",
              "      <th>R_TOTAL_RMS</th>\n",
              "      <th>R_BDRMS</th>\n",
              "      <th>R_FULL_BTH</th>\n",
              "      <th>R_HALF_BTH</th>\n",
              "      <th>R_BTH_STYLE</th>\n",
              "      <th>R_BTH_STYLE2</th>\n",
              "      <th>R_BTH_STYLE3</th>\n",
              "      <th>R_KITCH</th>\n",
              "      <th>R_KITCH_STYLE</th>\n",
              "      <th>R_KITCH_STYLE2</th>\n",
              "      <th>R_KITCH_STYLE3</th>\n",
              "      <th>R_HEAT_TYP</th>\n",
              "      <th>R_AC</th>\n",
              "      <th>R_FPLACE</th>\n",
              "      <th>R_EXT_CND</th>\n",
              "      <th>R_OVRALL_CND</th>\n",
              "      <th>R_INT_CND</th>\n",
              "      <th>R_INT_FIN</th>\n",
              "      <th>R_VIEW</th>\n",
              "      <th>S_NUM_BLDG</th>\n",
              "      <th>S_BLDG_STYL</th>\n",
              "      <th>S_UNIT_RES</th>\n",
              "      <th>S_UNIT_COM</th>\n",
              "      <th>S_UNIT_RC</th>\n",
              "      <th>S_EXT_FIN</th>\n",
              "      <th>S_EXT_CND</th>\n",
              "      <th>U_BASE_FLOOR</th>\n",
              "      <th>U_NUM_PARK</th>\n",
              "      <th>U_CORNER</th>\n",
              "      <th>U_ORIENT</th>\n",
              "      <th>U_TOT_RMS</th>\n",
              "      <th>U_BDRMS</th>\n",
              "      <th>U_FULL_BTH</th>\n",
              "      <th>U_HALF_BTH</th>\n",
              "      <th>U_BTH_STYLE</th>\n",
              "      <th>U_BTH_STYLE2</th>\n",
              "      <th>U_BTH_STYLE3</th>\n",
              "      <th>U_KITCH_TYPE</th>\n",
              "      <th>U_KITCH_STYLE</th>\n",
              "      <th>U_HEAT_TYP</th>\n",
              "      <th>U_AC</th>\n",
              "      <th>U_FPLACE</th>\n",
              "      <th>U_INT_FIN</th>\n",
              "      <th>U_INT_CND</th>\n",
              "      <th>U_VIEW</th>\n",
              "    </tr>\n",
              "  </thead>\n",
              "  <tbody>\n",
              "    <tr>\n",
              "      <th>163062</th>\n",
              "      <td>2200078000</td>\n",
              "      <td>NaN</td>\n",
              "      <td>2200078000</td>\n",
              "      <td>30</td>\n",
              "      <td>WINDOM</td>\n",
              "      <td>ST</td>\n",
              "      <td>NaN</td>\n",
              "      <td>2134.0</td>\n",
              "      <td>101</td>\n",
              "      <td>R1</td>\n",
              "      <td>Y</td>\n",
              "      <td>ANDERSON PRISCILLA R</td>\n",
              "      <td>C/O PRISCILLA ANDERSON</td>\n",
              "      <td>30 WINDOM</td>\n",
              "      <td>ALLSTON MA</td>\n",
              "      <td>2134</td>\n",
              "      <td>189400</td>\n",
              "      <td>350700</td>\n",
              "      <td>540100</td>\n",
              "      <td>5703.45</td>\n",
              "      <td>3400</td>\n",
              "      <td>1900.0</td>\n",
              "      <td>2013.0</td>\n",
              "      <td>1940.0</td>\n",
              "      <td>1128.0</td>\n",
              "      <td>2.0</td>\n",
              "      <td>NaN</td>\n",
              "      <td>CL - Colonial</td>\n",
              "      <td>L - Gambrel</td>\n",
              "      <td>M - Vinyl</td>\n",
              "      <td>6.0</td>\n",
              "      <td>3.0</td>\n",
              "      <td>1.0</td>\n",
              "      <td>1.0</td>\n",
              "      <td>M - Modern</td>\n",
              "      <td>M - Modern</td>\n",
              "      <td>NaN</td>\n",
              "      <td>1F - 1 Full Eat In K</td>\n",
              "      <td>M - Modern</td>\n",
              "      <td>NaN</td>\n",
              "      <td>NaN</td>\n",
              "      <td>F - Forced Hot Air</td>\n",
              "      <td>N - None</td>\n",
              "      <td>0.0</td>\n",
              "      <td>A - Average</td>\n",
              "      <td>A - Average</td>\n",
              "      <td>G - Good</td>\n",
              "      <td>N - Normal</td>\n",
              "      <td>A - Average</td>\n",
              "      <td>NaN</td>\n",
              "      <td>NaN</td>\n",
              "      <td>NaN</td>\n",
              "      <td>NaN</td>\n",
              "      <td>NaN</td>\n",
              "      <td>NaN</td>\n",
              "      <td>NaN</td>\n",
              "      <td>NaN</td>\n",
              "      <td>NaN</td>\n",
              "      <td>NaN</td>\n",
              "      <td>NaN</td>\n",
              "      <td>NaN</td>\n",
              "      <td>NaN</td>\n",
              "      <td>NaN</td>\n",
              "      <td>NaN</td>\n",
              "      <td>NaN</td>\n",
              "      <td>NaN</td>\n",
              "      <td>NaN</td>\n",
              "      <td>NaN</td>\n",
              "      <td>NaN</td>\n",
              "      <td>NaN</td>\n",
              "      <td>NaN</td>\n",
              "      <td>NaN</td>\n",
              "      <td>NaN</td>\n",
              "      <td>NaN</td>\n",
              "      <td>NaN</td>\n",
              "    </tr>\n",
              "  </tbody>\n",
              "</table>\n",
              "</div>"
            ],
            "text/plain": [
              "               PID  CM_ID      GIS_ID  ... U_INT_FIN U_INT_CND U_VIEW\n",
              "163062  2200078000    NaN  2200078000  ...       NaN       NaN    NaN\n",
              "\n",
              "[1 rows x 75 columns]"
            ]
          },
          "metadata": {
            "tags": []
          },
          "execution_count": 11
        }
      ]
    },
    {
      "cell_type": "code",
      "metadata": {
        "id": "PridmZA7eTwH"
      },
      "source": [
        "assessment_SAM = pd.merge(assessment, SAM_addresses, left_on='PID',right_on=\"PARCEL\")"
      ],
      "execution_count": 12,
      "outputs": []
    },
    {
      "cell_type": "code",
      "metadata": {
        "id": "MEAXw2-Temd6",
        "outputId": "2f763e94-9e02-41db-e7e8-a89e6a7dc8f4",
        "colab": {
          "base_uri": "https://localhost:8080/"
        }
      },
      "source": [
        "assessment_SAM.shape"
      ],
      "execution_count": 13,
      "outputs": [
        {
          "output_type": "execute_result",
          "data": {
            "text/plain": [
              "(406162, 102)"
            ]
          },
          "metadata": {
            "tags": []
          },
          "execution_count": 13
        }
      ]
    },
    {
      "cell_type": "code",
      "metadata": {
        "id": "fdetGScZhCXo"
      },
      "source": [
        "assessment_SAM_reduced = assessment_SAM[['PID', 'AV_LAND', 'AV_BLDG', 'AV_TOTAL', 'X', 'Y']]"
      ],
      "execution_count": 14,
      "outputs": []
    },
    {
      "cell_type": "code",
      "metadata": {
        "id": "0YxX_J71h_Rg",
        "outputId": "aaf0346f-ba99-4cb1-a3e5-707413c0ae73",
        "colab": {
          "base_uri": "https://localhost:8080/"
        }
      },
      "source": [
        "assessment_SAM_reduced.shape"
      ],
      "execution_count": 15,
      "outputs": [
        {
          "output_type": "execute_result",
          "data": {
            "text/plain": [
              "(406162, 6)"
            ]
          },
          "metadata": {
            "tags": []
          },
          "execution_count": 15
        }
      ]
    },
    {
      "cell_type": "code",
      "metadata": {
        "id": "u6PdQxJ-iBYX",
        "outputId": "4e1788bd-569c-4f42-c069-9869bc7faeca",
        "colab": {
          "base_uri": "https://localhost:8080/"
        }
      },
      "source": [
        "assessment_SAM_reduced[\"GEOHASH\"] = [pgh.encode(row[\"Y\"],row[\"X\"]) for idx, row in assessment_SAM_reduced.iterrows()]"
      ],
      "execution_count": 16,
      "outputs": [
        {
          "output_type": "stream",
          "text": [
            "/usr/local/lib/python3.6/dist-packages/ipykernel_launcher.py:1: SettingWithCopyWarning: \n",
            "A value is trying to be set on a copy of a slice from a DataFrame.\n",
            "Try using .loc[row_indexer,col_indexer] = value instead\n",
            "\n",
            "See the caveats in the documentation: https://pandas.pydata.org/pandas-docs/stable/user_guide/indexing.html#returning-a-view-versus-a-copy\n",
            "  \"\"\"Entry point for launching an IPython kernel.\n"
          ],
          "name": "stderr"
        }
      ]
    },
    {
      "cell_type": "code",
      "metadata": {
        "id": "ovesOkFJiaFP",
        "outputId": "daf0ac09-fec9-4831-cb9b-5379399ba665",
        "colab": {
          "base_uri": "https://localhost:8080/",
          "height": 204
        }
      },
      "source": [
        "assessment_SAM_reduced.head()"
      ],
      "execution_count": 17,
      "outputs": [
        {
          "output_type": "execute_result",
          "data": {
            "text/html": [
              "<div>\n",
              "<style scoped>\n",
              "    .dataframe tbody tr th:only-of-type {\n",
              "        vertical-align: middle;\n",
              "    }\n",
              "\n",
              "    .dataframe tbody tr th {\n",
              "        vertical-align: top;\n",
              "    }\n",
              "\n",
              "    .dataframe thead th {\n",
              "        text-align: right;\n",
              "    }\n",
              "</style>\n",
              "<table border=\"1\" class=\"dataframe\">\n",
              "  <thead>\n",
              "    <tr style=\"text-align: right;\">\n",
              "      <th></th>\n",
              "      <th>PID</th>\n",
              "      <th>AV_LAND</th>\n",
              "      <th>AV_BLDG</th>\n",
              "      <th>AV_TOTAL</th>\n",
              "      <th>X</th>\n",
              "      <th>Y</th>\n",
              "      <th>GEOHASH</th>\n",
              "    </tr>\n",
              "  </thead>\n",
              "  <tbody>\n",
              "    <tr>\n",
              "      <th>0</th>\n",
              "      <td>100272000</td>\n",
              "      <td>349800</td>\n",
              "      <td>355900</td>\n",
              "      <td>705700</td>\n",
              "      <td>-71.027291</td>\n",
              "      <td>42.380929</td>\n",
              "      <td>drt3pepwb1tx</td>\n",
              "    </tr>\n",
              "    <tr>\n",
              "      <th>1</th>\n",
              "      <td>100272000</td>\n",
              "      <td>349800</td>\n",
              "      <td>355900</td>\n",
              "      <td>705700</td>\n",
              "      <td>-71.027291</td>\n",
              "      <td>42.380929</td>\n",
              "      <td>drt3pepwb1tx</td>\n",
              "    </tr>\n",
              "    <tr>\n",
              "      <th>2</th>\n",
              "      <td>100272000</td>\n",
              "      <td>349800</td>\n",
              "      <td>355900</td>\n",
              "      <td>705700</td>\n",
              "      <td>-71.027291</td>\n",
              "      <td>42.380929</td>\n",
              "      <td>drt3pepwb1tx</td>\n",
              "    </tr>\n",
              "    <tr>\n",
              "      <th>3</th>\n",
              "      <td>100272000</td>\n",
              "      <td>349800</td>\n",
              "      <td>355900</td>\n",
              "      <td>705700</td>\n",
              "      <td>-71.027291</td>\n",
              "      <td>42.380929</td>\n",
              "      <td>drt3pepwb1tx</td>\n",
              "    </tr>\n",
              "    <tr>\n",
              "      <th>4</th>\n",
              "      <td>100274000</td>\n",
              "      <td>0</td>\n",
              "      <td>745300</td>\n",
              "      <td>745300</td>\n",
              "      <td>-71.027641</td>\n",
              "      <td>42.380959</td>\n",
              "      <td>drt3pepqbp29</td>\n",
              "    </tr>\n",
              "  </tbody>\n",
              "</table>\n",
              "</div>"
            ],
            "text/plain": [
              "         PID  AV_LAND  AV_BLDG  AV_TOTAL          X          Y       GEOHASH\n",
              "0  100272000   349800   355900    705700 -71.027291  42.380929  drt3pepwb1tx\n",
              "1  100272000   349800   355900    705700 -71.027291  42.380929  drt3pepwb1tx\n",
              "2  100272000   349800   355900    705700 -71.027291  42.380929  drt3pepwb1tx\n",
              "3  100272000   349800   355900    705700 -71.027291  42.380929  drt3pepwb1tx\n",
              "4  100274000        0   745300    745300 -71.027641  42.380959  drt3pepqbp29"
            ]
          },
          "metadata": {
            "tags": []
          },
          "execution_count": 17
        }
      ]
    },
    {
      "cell_type": "code",
      "metadata": {
        "id": "W07nfWHjim9x",
        "outputId": "dc5711a6-dea4-4be7-e08c-5ce8a4e507bf",
        "colab": {
          "base_uri": "https://localhost:8080/"
        }
      },
      "source": [
        "pgh.geohash_haversine_distance(assessment_SAM_reduced.iloc[0,6], assessment_SAM_reduced.iloc[4, 6])"
      ],
      "execution_count": 18,
      "outputs": [
        {
          "output_type": "execute_result",
          "data": {
            "text/plain": [
              "28.940991081356703"
            ]
          },
          "metadata": {
            "tags": []
          },
          "execution_count": 18
        }
      ]
    },
    {
      "cell_type": "code",
      "metadata": {
        "id": "GREzJwSHi3zr"
      },
      "source": [
        "from geopy import distance"
      ],
      "execution_count": 19,
      "outputs": []
    },
    {
      "cell_type": "code",
      "metadata": {
        "id": "EVUutPthjN6o",
        "outputId": "87863a87-f4ef-4ff5-8d2b-6aee99bcd346",
        "colab": {
          "base_uri": "https://localhost:8080/"
        }
      },
      "source": [
        "place1 = (assessment_SAM_reduced.iloc[0,5], assessment_SAM_reduced.iloc[0,4])\n",
        "place2 = (assessment_SAM_reduced.iloc[4,5], assessment_SAM_reduced.iloc[4,4])\n",
        "print(distance.distance(place1, place2).m)"
      ],
      "execution_count": 20,
      "outputs": [
        {
          "output_type": "stream",
          "text": [
            "29.016173010195022\n"
          ],
          "name": "stdout"
        }
      ]
    },
    {
      "cell_type": "code",
      "metadata": {
        "id": "WAA5xeUwk54t",
        "outputId": "272d7a75-094a-4423-b999-8807e2ac761f",
        "colab": {
          "base_uri": "https://localhost:8080/",
          "height": 35
        }
      },
      "source": [
        "origin = assessment_SAM_reduced[assessment_SAM_reduced['PID']==2200078000]['GEOHASH'].values[0]\n",
        "origin"
      ],
      "execution_count": 21,
      "outputs": [
        {
          "output_type": "execute_result",
          "data": {
            "application/vnd.google.colaboratory.intrinsic+json": {
              "type": "string"
            },
            "text/plain": [
              "'drt2vx2ydspb'"
            ]
          },
          "metadata": {
            "tags": []
          },
          "execution_count": 21
        }
      ]
    },
    {
      "cell_type": "code",
      "metadata": {
        "id": "TLYHW2nalx2A",
        "outputId": "5fcd2c1b-dc5f-4097-f682-ac111a398213",
        "colab": {
          "base_uri": "https://localhost:8080/",
          "height": 164
        }
      },
      "source": [
        "assessment_SAM_reduced[(test_dist<20) & (assessment_SAM_reduced['AV_TOTAL']>0)].mean()['AV_TOTAL']"
      ],
      "execution_count": 22,
      "outputs": [
        {
          "output_type": "error",
          "ename": "NameError",
          "evalue": "ignored",
          "traceback": [
            "\u001b[0;31m---------------------------------------------------------------------------\u001b[0m",
            "\u001b[0;31mNameError\u001b[0m                                 Traceback (most recent call last)",
            "\u001b[0;32m<ipython-input-22-54200624a4cc>\u001b[0m in \u001b[0;36m<module>\u001b[0;34m()\u001b[0m\n\u001b[0;32m----> 1\u001b[0;31m \u001b[0massessment_SAM_reduced\u001b[0m\u001b[0;34m[\u001b[0m\u001b[0;34m(\u001b[0m\u001b[0mtest_dist\u001b[0m\u001b[0;34m<\u001b[0m\u001b[0;36m20\u001b[0m\u001b[0;34m)\u001b[0m \u001b[0;34m&\u001b[0m \u001b[0;34m(\u001b[0m\u001b[0massessment_SAM_reduced\u001b[0m\u001b[0;34m[\u001b[0m\u001b[0;34m'AV_TOTAL'\u001b[0m\u001b[0;34m]\u001b[0m\u001b[0;34m>\u001b[0m\u001b[0;36m0\u001b[0m\u001b[0;34m)\u001b[0m\u001b[0;34m]\u001b[0m\u001b[0;34m.\u001b[0m\u001b[0mmean\u001b[0m\u001b[0;34m(\u001b[0m\u001b[0;34m)\u001b[0m\u001b[0;34m[\u001b[0m\u001b[0;34m'AV_TOTAL'\u001b[0m\u001b[0;34m]\u001b[0m\u001b[0;34m\u001b[0m\u001b[0;34m\u001b[0m\u001b[0m\n\u001b[0m",
            "\u001b[0;31mNameError\u001b[0m: name 'test_dist' is not defined"
          ]
        }
      ]
    },
    {
      "cell_type": "code",
      "metadata": {
        "id": "q5QqONYpqidf",
        "outputId": "f3897205-48d8-4558-da21-233b38228d61",
        "colab": {
          "base_uri": "https://localhost:8080/"
        }
      },
      "source": [
        "boston_crime_2020 = pd.read_csv(DATA_ROOT + 'boston_crime_2020.csv')\n",
        "boston_crime_2020.shape"
      ],
      "execution_count": 23,
      "outputs": [
        {
          "output_type": "execute_result",
          "data": {
            "text/plain": [
              "(50066, 30)"
            ]
          },
          "metadata": {
            "tags": []
          },
          "execution_count": 23
        }
      ]
    },
    {
      "cell_type": "code",
      "metadata": {
        "id": "e9hpTvNZxV6v",
        "outputId": "2cf3c3f1-8958-4ad2-e245-287ab6be776a",
        "colab": {
          "base_uri": "https://localhost:8080/",
          "height": 677
        }
      },
      "source": [
        "# boston_crime_2020.drop(columns=['Unnamed: 0'], inplace=True)\n",
        "boston_crime_2020"
      ],
      "execution_count": 25,
      "outputs": [
        {
          "output_type": "execute_result",
          "data": {
            "text/html": [
              "<div>\n",
              "<style scoped>\n",
              "    .dataframe tbody tr th:only-of-type {\n",
              "        vertical-align: middle;\n",
              "    }\n",
              "\n",
              "    .dataframe tbody tr th {\n",
              "        vertical-align: top;\n",
              "    }\n",
              "\n",
              "    .dataframe thead th {\n",
              "        text-align: right;\n",
              "    }\n",
              "</style>\n",
              "<table border=\"1\" class=\"dataframe\">\n",
              "  <thead>\n",
              "    <tr style=\"text-align: right;\">\n",
              "      <th></th>\n",
              "      <th>INCIDENT_NUMBER</th>\n",
              "      <th>OFFENSE_CODE</th>\n",
              "      <th>OFFENSE_DESCRIPTION</th>\n",
              "      <th>DISTRICT</th>\n",
              "      <th>REPORTING_AREA</th>\n",
              "      <th>SHOOTING</th>\n",
              "      <th>OCCURRED_ON_DATE</th>\n",
              "      <th>YEAR</th>\n",
              "      <th>MONTH</th>\n",
              "      <th>DAY_OF_WEEK</th>\n",
              "      <th>HOUR</th>\n",
              "      <th>UCR_PART</th>\n",
              "      <th>STREET</th>\n",
              "      <th>LATITUDE</th>\n",
              "      <th>LONGITUDE</th>\n",
              "      <th>LOCATION</th>\n",
              "      <th>COVID_POSITIVE_COUNT</th>\n",
              "      <th>COVID_TESTED_COUNT</th>\n",
              "      <th>COVID_POSITIVE_RATE</th>\n",
              "      <th>VIOLENT_CRIME</th>\n",
              "      <th>OFFENSE_TYPE</th>\n",
              "      <th>GEOHASH</th>\n",
              "      <th>WHITE</th>\n",
              "      <th>BLACK</th>\n",
              "      <th>HISPANIC</th>\n",
              "      <th>ASIAN</th>\n",
              "      <th>OTHER</th>\n",
              "      <th>16-19-EMPLOYMENT</th>\n",
              "      <th>20-34-EMPLOYMENT</th>\n",
              "      <th>MEDIAN_INCOME</th>\n",
              "    </tr>\n",
              "  </thead>\n",
              "  <tbody>\n",
              "    <tr>\n",
              "      <th>0</th>\n",
              "      <td>S97333701</td>\n",
              "      <td>3301</td>\n",
              "      <td>VERBAL DISPUTE</td>\n",
              "      <td>C6</td>\n",
              "      <td>915</td>\n",
              "      <td>0.0</td>\n",
              "      <td>2020-07-18 14:34:00</td>\n",
              "      <td>2020</td>\n",
              "      <td>7</td>\n",
              "      <td>Saturday</td>\n",
              "      <td>14</td>\n",
              "      <td>NaN</td>\n",
              "      <td>MARY BOYLE WAY</td>\n",
              "      <td>42.330813</td>\n",
              "      <td>-71.051368</td>\n",
              "      <td>(42.33081300, -71.05136800)</td>\n",
              "      <td>773.150</td>\n",
              "      <td>16450</td>\n",
              "      <td>0.047</td>\n",
              "      <td>0</td>\n",
              "      <td>Other</td>\n",
              "      <td>drt2z4jfz5kp</td>\n",
              "      <td>0.791930</td>\n",
              "      <td>0.045022</td>\n",
              "      <td>0.069712</td>\n",
              "      <td>0.074954</td>\n",
              "      <td>0.018382</td>\n",
              "      <td>0.389850</td>\n",
              "      <td>0.888016</td>\n",
              "      <td>121877.5550</td>\n",
              "    </tr>\n",
              "    <tr>\n",
              "      <th>1</th>\n",
              "      <td>202080441</td>\n",
              "      <td>3301</td>\n",
              "      <td>VERBAL DISPUTE</td>\n",
              "      <td>C6</td>\n",
              "      <td>231</td>\n",
              "      <td>0.0</td>\n",
              "      <td>2020-10-31 02:41:00</td>\n",
              "      <td>2020</td>\n",
              "      <td>10</td>\n",
              "      <td>Saturday</td>\n",
              "      <td>2</td>\n",
              "      <td>NaN</td>\n",
              "      <td>E SEVENTH ST</td>\n",
              "      <td>NaN</td>\n",
              "      <td>NaN</td>\n",
              "      <td>(0.00000000, 0.00000000)</td>\n",
              "      <td>773.150</td>\n",
              "      <td>16450</td>\n",
              "      <td>0.047</td>\n",
              "      <td>0</td>\n",
              "      <td>Other</td>\n",
              "      <td>000000000000</td>\n",
              "      <td>0.791930</td>\n",
              "      <td>0.045022</td>\n",
              "      <td>0.069712</td>\n",
              "      <td>0.074954</td>\n",
              "      <td>0.018382</td>\n",
              "      <td>0.389850</td>\n",
              "      <td>0.888016</td>\n",
              "      <td>121877.5550</td>\n",
              "    </tr>\n",
              "    <tr>\n",
              "      <th>2</th>\n",
              "      <td>202080246</td>\n",
              "      <td>3301</td>\n",
              "      <td>VERBAL DISPUTE</td>\n",
              "      <td>C6</td>\n",
              "      <td>914</td>\n",
              "      <td>0.0</td>\n",
              "      <td>2020-10-30 10:51:00</td>\n",
              "      <td>2020</td>\n",
              "      <td>10</td>\n",
              "      <td>Friday</td>\n",
              "      <td>10</td>\n",
              "      <td>NaN</td>\n",
              "      <td>GENERAL LAWRENCE J LOGAN WAY</td>\n",
              "      <td>NaN</td>\n",
              "      <td>NaN</td>\n",
              "      <td>(0.00000000, 0.00000000)</td>\n",
              "      <td>773.150</td>\n",
              "      <td>16450</td>\n",
              "      <td>0.047</td>\n",
              "      <td>0</td>\n",
              "      <td>Other</td>\n",
              "      <td>000000000000</td>\n",
              "      <td>0.791930</td>\n",
              "      <td>0.045022</td>\n",
              "      <td>0.069712</td>\n",
              "      <td>0.074954</td>\n",
              "      <td>0.018382</td>\n",
              "      <td>0.389850</td>\n",
              "      <td>0.888016</td>\n",
              "      <td>121877.5550</td>\n",
              "    </tr>\n",
              "    <tr>\n",
              "      <th>3</th>\n",
              "      <td>202080065</td>\n",
              "      <td>3301</td>\n",
              "      <td>VERBAL DISPUTE</td>\n",
              "      <td>C6</td>\n",
              "      <td>186</td>\n",
              "      <td>0.0</td>\n",
              "      <td>2020-10-29 16:30:00</td>\n",
              "      <td>2020</td>\n",
              "      <td>10</td>\n",
              "      <td>Thursday</td>\n",
              "      <td>16</td>\n",
              "      <td>NaN</td>\n",
              "      <td>BOSTON ST</td>\n",
              "      <td>42.327827</td>\n",
              "      <td>-71.058000</td>\n",
              "      <td>(42.32782700, -71.05800000)</td>\n",
              "      <td>773.150</td>\n",
              "      <td>16450</td>\n",
              "      <td>0.047</td>\n",
              "      <td>0</td>\n",
              "      <td>Other</td>\n",
              "      <td>drt2z191kwfg</td>\n",
              "      <td>0.791930</td>\n",
              "      <td>0.045022</td>\n",
              "      <td>0.069712</td>\n",
              "      <td>0.074954</td>\n",
              "      <td>0.018382</td>\n",
              "      <td>0.389850</td>\n",
              "      <td>0.888016</td>\n",
              "      <td>121877.5550</td>\n",
              "    </tr>\n",
              "    <tr>\n",
              "      <th>4</th>\n",
              "      <td>202079731</td>\n",
              "      <td>3301</td>\n",
              "      <td>VERBAL DISPUTE</td>\n",
              "      <td>C6</td>\n",
              "      <td>936</td>\n",
              "      <td>0.0</td>\n",
              "      <td>2020-10-28 13:52:00</td>\n",
              "      <td>2020</td>\n",
              "      <td>10</td>\n",
              "      <td>Wednesday</td>\n",
              "      <td>13</td>\n",
              "      <td>NaN</td>\n",
              "      <td>ORTON-MAROTTA WAY</td>\n",
              "      <td>42.337318</td>\n",
              "      <td>-71.053832</td>\n",
              "      <td>(42.33731800, -71.05383200)</td>\n",
              "      <td>773.150</td>\n",
              "      <td>16450</td>\n",
              "      <td>0.047</td>\n",
              "      <td>0</td>\n",
              "      <td>Other</td>\n",
              "      <td>drt2z5k0v8ng</td>\n",
              "      <td>0.791930</td>\n",
              "      <td>0.045022</td>\n",
              "      <td>0.069712</td>\n",
              "      <td>0.074954</td>\n",
              "      <td>0.018382</td>\n",
              "      <td>0.389850</td>\n",
              "      <td>0.888016</td>\n",
              "      <td>121877.5550</td>\n",
              "    </tr>\n",
              "    <tr>\n",
              "      <th>...</th>\n",
              "      <td>...</td>\n",
              "      <td>...</td>\n",
              "      <td>...</td>\n",
              "      <td>...</td>\n",
              "      <td>...</td>\n",
              "      <td>...</td>\n",
              "      <td>...</td>\n",
              "      <td>...</td>\n",
              "      <td>...</td>\n",
              "      <td>...</td>\n",
              "      <td>...</td>\n",
              "      <td>...</td>\n",
              "      <td>...</td>\n",
              "      <td>...</td>\n",
              "      <td>...</td>\n",
              "      <td>...</td>\n",
              "      <td>...</td>\n",
              "      <td>...</td>\n",
              "      <td>...</td>\n",
              "      <td>...</td>\n",
              "      <td>...</td>\n",
              "      <td>...</td>\n",
              "      <td>...</td>\n",
              "      <td>...</td>\n",
              "      <td>...</td>\n",
              "      <td>...</td>\n",
              "      <td>...</td>\n",
              "      <td>...</td>\n",
              "      <td>...</td>\n",
              "      <td>...</td>\n",
              "    </tr>\n",
              "    <tr>\n",
              "      <th>50061</th>\n",
              "      <td>202003101</td>\n",
              "      <td>1415</td>\n",
              "      <td>GRAFFITI</td>\n",
              "      <td>D4</td>\n",
              "      <td>165</td>\n",
              "      <td>0.0</td>\n",
              "      <td>2020-01-12 09:30:00</td>\n",
              "      <td>2020</td>\n",
              "      <td>1</td>\n",
              "      <td>Sunday</td>\n",
              "      <td>9</td>\n",
              "      <td>NaN</td>\n",
              "      <td>HARRISON AVE</td>\n",
              "      <td>42.343297</td>\n",
              "      <td>-71.064581</td>\n",
              "      <td>(42.34329700, -71.06458100)</td>\n",
              "      <td>1971.395</td>\n",
              "      <td>70570</td>\n",
              "      <td>0.098</td>\n",
              "      <td>0</td>\n",
              "      <td>Other</td>\n",
              "      <td>drt2yuk7e4xv</td>\n",
              "      <td>0.654461</td>\n",
              "      <td>0.062627</td>\n",
              "      <td>0.107735</td>\n",
              "      <td>0.144875</td>\n",
              "      <td>0.030302</td>\n",
              "      <td>0.417109</td>\n",
              "      <td>0.725266</td>\n",
              "      <td>65903.7975</td>\n",
              "    </tr>\n",
              "    <tr>\n",
              "      <th>50062</th>\n",
              "      <td>202036432</td>\n",
              "      <td>2642</td>\n",
              "      <td>TRUANCY / RUNAWAY</td>\n",
              "      <td>D4</td>\n",
              "      <td>273</td>\n",
              "      <td>0.0</td>\n",
              "      <td>2020-05-27 02:00:00</td>\n",
              "      <td>2020</td>\n",
              "      <td>5</td>\n",
              "      <td>Wednesday</td>\n",
              "      <td>2</td>\n",
              "      <td>NaN</td>\n",
              "      <td>CAMDEN ST</td>\n",
              "      <td>42.337441</td>\n",
              "      <td>-71.080576</td>\n",
              "      <td>(42.33744100, -71.08057600)</td>\n",
              "      <td>1971.395</td>\n",
              "      <td>70570</td>\n",
              "      <td>0.098</td>\n",
              "      <td>0</td>\n",
              "      <td>Other</td>\n",
              "      <td>drt2ye29qx10</td>\n",
              "      <td>0.654461</td>\n",
              "      <td>0.062627</td>\n",
              "      <td>0.107735</td>\n",
              "      <td>0.144875</td>\n",
              "      <td>0.030302</td>\n",
              "      <td>0.417109</td>\n",
              "      <td>0.725266</td>\n",
              "      <td>65903.7975</td>\n",
              "    </tr>\n",
              "    <tr>\n",
              "      <th>50063</th>\n",
              "      <td>202017085</td>\n",
              "      <td>2642</td>\n",
              "      <td>TRUANCY / RUNAWAY</td>\n",
              "      <td>D4</td>\n",
              "      <td>271</td>\n",
              "      <td>0.0</td>\n",
              "      <td>2020-03-02 06:27:00</td>\n",
              "      <td>2020</td>\n",
              "      <td>3</td>\n",
              "      <td>Monday</td>\n",
              "      <td>6</td>\n",
              "      <td>NaN</td>\n",
              "      <td>HARRISON AVE</td>\n",
              "      <td>42.334018</td>\n",
              "      <td>-71.076381</td>\n",
              "      <td>(42.33401800, -71.07638100)</td>\n",
              "      <td>1971.395</td>\n",
              "      <td>70570</td>\n",
              "      <td>0.098</td>\n",
              "      <td>0</td>\n",
              "      <td>Other</td>\n",
              "      <td>drt2ydev82cj</td>\n",
              "      <td>0.654461</td>\n",
              "      <td>0.062627</td>\n",
              "      <td>0.107735</td>\n",
              "      <td>0.144875</td>\n",
              "      <td>0.030302</td>\n",
              "      <td>0.417109</td>\n",
              "      <td>0.725266</td>\n",
              "      <td>65903.7975</td>\n",
              "    </tr>\n",
              "    <tr>\n",
              "      <th>50064</th>\n",
              "      <td>202056504</td>\n",
              "      <td>1603</td>\n",
              "      <td>PROSTITUTION - ASSISTING OR PROMOTING</td>\n",
              "      <td>D4</td>\n",
              "      <td></td>\n",
              "      <td>0.0</td>\n",
              "      <td>2020-08-07 19:24:00</td>\n",
              "      <td>2020</td>\n",
              "      <td>8</td>\n",
              "      <td>Friday</td>\n",
              "      <td>19</td>\n",
              "      <td>NaN</td>\n",
              "      <td>MASSACHUSETTS AVE</td>\n",
              "      <td>42.332855</td>\n",
              "      <td>-71.072624</td>\n",
              "      <td>(42.33285500, -71.07262400)</td>\n",
              "      <td>1971.395</td>\n",
              "      <td>70570</td>\n",
              "      <td>0.098</td>\n",
              "      <td>0</td>\n",
              "      <td>Prostitution</td>\n",
              "      <td>drt2ydqqzb4k</td>\n",
              "      <td>0.654461</td>\n",
              "      <td>0.062627</td>\n",
              "      <td>0.107735</td>\n",
              "      <td>0.144875</td>\n",
              "      <td>0.030302</td>\n",
              "      <td>0.417109</td>\n",
              "      <td>0.725266</td>\n",
              "      <td>65903.7975</td>\n",
              "    </tr>\n",
              "    <tr>\n",
              "      <th>50065</th>\n",
              "      <td>202009470</td>\n",
              "      <td>2622</td>\n",
              "      <td>KIDNAPPING/CUSTODIAL KIDNAPPING/ ABDUCTION</td>\n",
              "      <td>D4</td>\n",
              "      <td>273</td>\n",
              "      <td>0.0</td>\n",
              "      <td>2020-02-03 11:00:00</td>\n",
              "      <td>2020</td>\n",
              "      <td>2</td>\n",
              "      <td>Monday</td>\n",
              "      <td>11</td>\n",
              "      <td>NaN</td>\n",
              "      <td>TREMONT ST</td>\n",
              "      <td>42.338654</td>\n",
              "      <td>-71.081456</td>\n",
              "      <td>(42.33865400, -71.08145600)</td>\n",
              "      <td>1971.395</td>\n",
              "      <td>70570</td>\n",
              "      <td>0.098</td>\n",
              "      <td>1</td>\n",
              "      <td>Kidnapping</td>\n",
              "      <td>drt2ye80d10u</td>\n",
              "      <td>0.654461</td>\n",
              "      <td>0.062627</td>\n",
              "      <td>0.107735</td>\n",
              "      <td>0.144875</td>\n",
              "      <td>0.030302</td>\n",
              "      <td>0.417109</td>\n",
              "      <td>0.725266</td>\n",
              "      <td>65903.7975</td>\n",
              "    </tr>\n",
              "  </tbody>\n",
              "</table>\n",
              "<p>50066 rows × 30 columns</p>\n",
              "</div>"
            ],
            "text/plain": [
              "      INCIDENT_NUMBER  OFFENSE_CODE  ... 20-34-EMPLOYMENT MEDIAN_INCOME\n",
              "0           S97333701          3301  ...         0.888016   121877.5550\n",
              "1           202080441          3301  ...         0.888016   121877.5550\n",
              "2           202080246          3301  ...         0.888016   121877.5550\n",
              "3           202080065          3301  ...         0.888016   121877.5550\n",
              "4           202079731          3301  ...         0.888016   121877.5550\n",
              "...               ...           ...  ...              ...           ...\n",
              "50061       202003101          1415  ...         0.725266    65903.7975\n",
              "50062       202036432          2642  ...         0.725266    65903.7975\n",
              "50063       202017085          2642  ...         0.725266    65903.7975\n",
              "50064       202056504          1603  ...         0.725266    65903.7975\n",
              "50065       202009470          2622  ...         0.725266    65903.7975\n",
              "\n",
              "[50066 rows x 30 columns]"
            ]
          },
          "metadata": {
            "tags": []
          },
          "execution_count": 25
        }
      ]
    },
    {
      "cell_type": "code",
      "metadata": {
        "id": "Huzo1V6p0YC7",
        "outputId": "b12adbec-8839-46f5-9ba4-15948030e430",
        "colab": {
          "base_uri": "https://localhost:8080/"
        }
      },
      "source": [
        "boston_crime_2020_reduced = boston_crime_2020.dropna(axis=0, subset=['LATITUDE', 'LONGITUDE'])\n",
        "boston_crime_2020_reduced.shape"
      ],
      "execution_count": 26,
      "outputs": [
        {
          "output_type": "execute_result",
          "data": {
            "text/plain": [
              "(48750, 30)"
            ]
          },
          "metadata": {
            "tags": []
          },
          "execution_count": 26
        }
      ]
    },
    {
      "cell_type": "code",
      "metadata": {
        "id": "vo_kz8VhvPjU"
      },
      "source": [
        "# define function to apply across the GEOHASH of \n",
        "from collections import defaultdict\n",
        "\n",
        "# setting up home value dict (to 118 meter precision) with geohash\n",
        "home_value_dict = defaultdict(list)\n",
        "for idx, row in assessment_SAM_reduced.iterrows():\n",
        "    home_value_dict[row['GEOHASH'][:7]].append(row['AV_TOTAL'])\n",
        "\n",
        "\n"
      ],
      "execution_count": 42,
      "outputs": []
    },
    {
      "cell_type": "code",
      "metadata": {
        "id": "tmrjj5CTHkr_"
      },
      "source": [
        "# function for getting values from the dictionary from geohash\n",
        "from statistics import mean\n",
        "\n",
        "def get_prop_values(geohash, home_values):\n",
        "  try:\n",
        "    mean_property_value = mean(home_values[geohash[:7]])\n",
        "  except:\n",
        "    mean_property_value = 0\n",
        "\n",
        "  return mean_property_value"
      ],
      "execution_count": 49,
      "outputs": []
    },
    {
      "cell_type": "code",
      "metadata": {
        "id": "Zh8t2zqMwowC"
      },
      "source": [
        "# prop_values_test = get_prop_values(origin, home_value_dict)\n",
        "# this should create list of the property values near \n",
        "LOCAL_PROP_VALUES = [get_prop_values(row[\"GEOHASH\"], home_value_dict) for idx, row in boston_crime_2020_reduced.iterrows()]"
      ],
      "execution_count": 50,
      "outputs": []
    },
    {
      "cell_type": "code",
      "metadata": {
        "id": "pqjv89NUy-Ma",
        "outputId": "6d42adda-8545-43b7-c799-9179385e7e6f",
        "colab": {
          "base_uri": "https://localhost:8080/"
        }
      },
      "source": [
        "boston_crime_2020_reduced['LOCAL_PROP_VALUES'] = LOCAL_PROP_VALUES"
      ],
      "execution_count": 54,
      "outputs": [
        {
          "output_type": "stream",
          "text": [
            "/usr/local/lib/python3.6/dist-packages/ipykernel_launcher.py:1: SettingWithCopyWarning: \n",
            "A value is trying to be set on a copy of a slice from a DataFrame.\n",
            "Try using .loc[row_indexer,col_indexer] = value instead\n",
            "\n",
            "See the caveats in the documentation: https://pandas.pydata.org/pandas-docs/stable/user_guide/indexing.html#returning-a-view-versus-a-copy\n",
            "  \"\"\"Entry point for launching an IPython kernel.\n"
          ],
          "name": "stderr"
        }
      ]
    },
    {
      "cell_type": "code",
      "metadata": {
        "id": "dV_HNnvm6iw3",
        "outputId": "4044704e-215a-46e0-9089-16aad067b6f8",
        "colab": {
          "base_uri": "https://localhost:8080/",
          "height": 600
        }
      },
      "source": [
        "boston_crime_2020_reduced.tail(10)"
      ],
      "execution_count": 57,
      "outputs": [
        {
          "output_type": "execute_result",
          "data": {
            "text/html": [
              "<div>\n",
              "<style scoped>\n",
              "    .dataframe tbody tr th:only-of-type {\n",
              "        vertical-align: middle;\n",
              "    }\n",
              "\n",
              "    .dataframe tbody tr th {\n",
              "        vertical-align: top;\n",
              "    }\n",
              "\n",
              "    .dataframe thead th {\n",
              "        text-align: right;\n",
              "    }\n",
              "</style>\n",
              "<table border=\"1\" class=\"dataframe\">\n",
              "  <thead>\n",
              "    <tr style=\"text-align: right;\">\n",
              "      <th></th>\n",
              "      <th>INCIDENT_NUMBER</th>\n",
              "      <th>OFFENSE_CODE</th>\n",
              "      <th>OFFENSE_DESCRIPTION</th>\n",
              "      <th>DISTRICT</th>\n",
              "      <th>REPORTING_AREA</th>\n",
              "      <th>SHOOTING</th>\n",
              "      <th>OCCURRED_ON_DATE</th>\n",
              "      <th>YEAR</th>\n",
              "      <th>MONTH</th>\n",
              "      <th>DAY_OF_WEEK</th>\n",
              "      <th>HOUR</th>\n",
              "      <th>UCR_PART</th>\n",
              "      <th>STREET</th>\n",
              "      <th>LATITUDE</th>\n",
              "      <th>LONGITUDE</th>\n",
              "      <th>LOCATION</th>\n",
              "      <th>COVID_POSITIVE_COUNT</th>\n",
              "      <th>COVID_TESTED_COUNT</th>\n",
              "      <th>COVID_POSITIVE_RATE</th>\n",
              "      <th>VIOLENT_CRIME</th>\n",
              "      <th>OFFENSE_TYPE</th>\n",
              "      <th>GEOHASH</th>\n",
              "      <th>WHITE</th>\n",
              "      <th>BLACK</th>\n",
              "      <th>HISPANIC</th>\n",
              "      <th>ASIAN</th>\n",
              "      <th>OTHER</th>\n",
              "      <th>16-19-EMPLOYMENT</th>\n",
              "      <th>20-34-EMPLOYMENT</th>\n",
              "      <th>MEDIAN_INCOME</th>\n",
              "      <th>LOCAL_PROP_VALUES</th>\n",
              "    </tr>\n",
              "  </thead>\n",
              "  <tbody>\n",
              "    <tr>\n",
              "      <th>50056</th>\n",
              "      <td>202012584</td>\n",
              "      <td>1415</td>\n",
              "      <td>GRAFFITI</td>\n",
              "      <td>D4</td>\n",
              "      <td>157</td>\n",
              "      <td>0.0</td>\n",
              "      <td>2020-02-15 08:30:00</td>\n",
              "      <td>2020</td>\n",
              "      <td>2</td>\n",
              "      <td>Saturday</td>\n",
              "      <td>8</td>\n",
              "      <td>NaN</td>\n",
              "      <td>SHAWMUT AVE</td>\n",
              "      <td>42.339537</td>\n",
              "      <td>-71.074724</td>\n",
              "      <td>(42.33953700, -71.07472400)</td>\n",
              "      <td>1971.395</td>\n",
              "      <td>70570</td>\n",
              "      <td>0.098</td>\n",
              "      <td>0</td>\n",
              "      <td>Other</td>\n",
              "      <td>drt2yesvwvu8</td>\n",
              "      <td>0.654461</td>\n",
              "      <td>0.062627</td>\n",
              "      <td>0.107735</td>\n",
              "      <td>0.144875</td>\n",
              "      <td>0.030302</td>\n",
              "      <td>0.417109</td>\n",
              "      <td>0.725266</td>\n",
              "      <td>65903.7975</td>\n",
              "      <td>1.590019e+06</td>\n",
              "    </tr>\n",
              "    <tr>\n",
              "      <th>50057</th>\n",
              "      <td>202012578</td>\n",
              "      <td>1415</td>\n",
              "      <td>GRAFFITI</td>\n",
              "      <td>D4</td>\n",
              "      <td>167</td>\n",
              "      <td>0.0</td>\n",
              "      <td>2020-02-14 17:00:00</td>\n",
              "      <td>2020</td>\n",
              "      <td>2</td>\n",
              "      <td>Friday</td>\n",
              "      <td>17</td>\n",
              "      <td>NaN</td>\n",
              "      <td>HARRISON AVE</td>\n",
              "      <td>42.339541</td>\n",
              "      <td>-71.069408</td>\n",
              "      <td>(42.33954100, -71.06940800)</td>\n",
              "      <td>1971.395</td>\n",
              "      <td>70570</td>\n",
              "      <td>0.098</td>\n",
              "      <td>0</td>\n",
              "      <td>Other</td>\n",
              "      <td>drt2yg8vdy2r</td>\n",
              "      <td>0.654461</td>\n",
              "      <td>0.062627</td>\n",
              "      <td>0.107735</td>\n",
              "      <td>0.144875</td>\n",
              "      <td>0.030302</td>\n",
              "      <td>0.417109</td>\n",
              "      <td>0.725266</td>\n",
              "      <td>65903.7975</td>\n",
              "      <td>5.482419e+07</td>\n",
              "    </tr>\n",
              "    <tr>\n",
              "      <th>50058</th>\n",
              "      <td>202005522</td>\n",
              "      <td>1415</td>\n",
              "      <td>GRAFFITI</td>\n",
              "      <td>D4</td>\n",
              "      <td>167</td>\n",
              "      <td>0.0</td>\n",
              "      <td>2020-01-21 14:30:00</td>\n",
              "      <td>2020</td>\n",
              "      <td>1</td>\n",
              "      <td>Tuesday</td>\n",
              "      <td>14</td>\n",
              "      <td>NaN</td>\n",
              "      <td>HARRISON AVE</td>\n",
              "      <td>42.339541</td>\n",
              "      <td>-71.069408</td>\n",
              "      <td>(42.33954100, -71.06940800)</td>\n",
              "      <td>1971.395</td>\n",
              "      <td>70570</td>\n",
              "      <td>0.098</td>\n",
              "      <td>0</td>\n",
              "      <td>Other</td>\n",
              "      <td>drt2yg8vdy2r</td>\n",
              "      <td>0.654461</td>\n",
              "      <td>0.062627</td>\n",
              "      <td>0.107735</td>\n",
              "      <td>0.144875</td>\n",
              "      <td>0.030302</td>\n",
              "      <td>0.417109</td>\n",
              "      <td>0.725266</td>\n",
              "      <td>65903.7975</td>\n",
              "      <td>5.482419e+07</td>\n",
              "    </tr>\n",
              "    <tr>\n",
              "      <th>50059</th>\n",
              "      <td>202005164</td>\n",
              "      <td>1415</td>\n",
              "      <td>GRAFFITI</td>\n",
              "      <td>D4</td>\n",
              "      <td>620</td>\n",
              "      <td>0.0</td>\n",
              "      <td>2020-01-20 05:20:00</td>\n",
              "      <td>2020</td>\n",
              "      <td>1</td>\n",
              "      <td>Monday</td>\n",
              "      <td>5</td>\n",
              "      <td>NaN</td>\n",
              "      <td>MASSACHUSETTS AVE</td>\n",
              "      <td>42.344395</td>\n",
              "      <td>-71.086320</td>\n",
              "      <td>(42.34439500, -71.08632000)</td>\n",
              "      <td>1971.395</td>\n",
              "      <td>70570</td>\n",
              "      <td>0.098</td>\n",
              "      <td>0</td>\n",
              "      <td>Other</td>\n",
              "      <td>drt2yks9bxmg</td>\n",
              "      <td>0.654461</td>\n",
              "      <td>0.062627</td>\n",
              "      <td>0.107735</td>\n",
              "      <td>0.144875</td>\n",
              "      <td>0.030302</td>\n",
              "      <td>0.417109</td>\n",
              "      <td>0.725266</td>\n",
              "      <td>65903.7975</td>\n",
              "      <td>2.162086e+08</td>\n",
              "    </tr>\n",
              "    <tr>\n",
              "      <th>50060</th>\n",
              "      <td>202004532</td>\n",
              "      <td>1415</td>\n",
              "      <td>GRAFFITI</td>\n",
              "      <td>D4</td>\n",
              "      <td></td>\n",
              "      <td>0.0</td>\n",
              "      <td>2020-01-17 10:00:00</td>\n",
              "      <td>2020</td>\n",
              "      <td>1</td>\n",
              "      <td>Friday</td>\n",
              "      <td>10</td>\n",
              "      <td>NaN</td>\n",
              "      <td>TREMONT ST</td>\n",
              "      <td>42.345902</td>\n",
              "      <td>-71.069463</td>\n",
              "      <td>(42.34590200, -71.06946300)</td>\n",
              "      <td>1971.395</td>\n",
              "      <td>70570</td>\n",
              "      <td>0.098</td>\n",
              "      <td>0</td>\n",
              "      <td>Other</td>\n",
              "      <td>drt2yubfc2r2</td>\n",
              "      <td>0.654461</td>\n",
              "      <td>0.062627</td>\n",
              "      <td>0.107735</td>\n",
              "      <td>0.144875</td>\n",
              "      <td>0.030302</td>\n",
              "      <td>0.417109</td>\n",
              "      <td>0.725266</td>\n",
              "      <td>65903.7975</td>\n",
              "      <td>6.169746e+05</td>\n",
              "    </tr>\n",
              "    <tr>\n",
              "      <th>50061</th>\n",
              "      <td>202003101</td>\n",
              "      <td>1415</td>\n",
              "      <td>GRAFFITI</td>\n",
              "      <td>D4</td>\n",
              "      <td>165</td>\n",
              "      <td>0.0</td>\n",
              "      <td>2020-01-12 09:30:00</td>\n",
              "      <td>2020</td>\n",
              "      <td>1</td>\n",
              "      <td>Sunday</td>\n",
              "      <td>9</td>\n",
              "      <td>NaN</td>\n",
              "      <td>HARRISON AVE</td>\n",
              "      <td>42.343297</td>\n",
              "      <td>-71.064581</td>\n",
              "      <td>(42.34329700, -71.06458100)</td>\n",
              "      <td>1971.395</td>\n",
              "      <td>70570</td>\n",
              "      <td>0.098</td>\n",
              "      <td>0</td>\n",
              "      <td>Other</td>\n",
              "      <td>drt2yuk7e4xv</td>\n",
              "      <td>0.654461</td>\n",
              "      <td>0.062627</td>\n",
              "      <td>0.107735</td>\n",
              "      <td>0.144875</td>\n",
              "      <td>0.030302</td>\n",
              "      <td>0.417109</td>\n",
              "      <td>0.725266</td>\n",
              "      <td>65903.7975</td>\n",
              "      <td>4.155917e+06</td>\n",
              "    </tr>\n",
              "    <tr>\n",
              "      <th>50062</th>\n",
              "      <td>202036432</td>\n",
              "      <td>2642</td>\n",
              "      <td>TRUANCY / RUNAWAY</td>\n",
              "      <td>D4</td>\n",
              "      <td>273</td>\n",
              "      <td>0.0</td>\n",
              "      <td>2020-05-27 02:00:00</td>\n",
              "      <td>2020</td>\n",
              "      <td>5</td>\n",
              "      <td>Wednesday</td>\n",
              "      <td>2</td>\n",
              "      <td>NaN</td>\n",
              "      <td>CAMDEN ST</td>\n",
              "      <td>42.337441</td>\n",
              "      <td>-71.080576</td>\n",
              "      <td>(42.33744100, -71.08057600)</td>\n",
              "      <td>1971.395</td>\n",
              "      <td>70570</td>\n",
              "      <td>0.098</td>\n",
              "      <td>0</td>\n",
              "      <td>Other</td>\n",
              "      <td>drt2ye29qx10</td>\n",
              "      <td>0.654461</td>\n",
              "      <td>0.062627</td>\n",
              "      <td>0.107735</td>\n",
              "      <td>0.144875</td>\n",
              "      <td>0.030302</td>\n",
              "      <td>0.417109</td>\n",
              "      <td>0.725266</td>\n",
              "      <td>65903.7975</td>\n",
              "      <td>4.489371e+06</td>\n",
              "    </tr>\n",
              "    <tr>\n",
              "      <th>50063</th>\n",
              "      <td>202017085</td>\n",
              "      <td>2642</td>\n",
              "      <td>TRUANCY / RUNAWAY</td>\n",
              "      <td>D4</td>\n",
              "      <td>271</td>\n",
              "      <td>0.0</td>\n",
              "      <td>2020-03-02 06:27:00</td>\n",
              "      <td>2020</td>\n",
              "      <td>3</td>\n",
              "      <td>Monday</td>\n",
              "      <td>6</td>\n",
              "      <td>NaN</td>\n",
              "      <td>HARRISON AVE</td>\n",
              "      <td>42.334018</td>\n",
              "      <td>-71.076381</td>\n",
              "      <td>(42.33401800, -71.07638100)</td>\n",
              "      <td>1971.395</td>\n",
              "      <td>70570</td>\n",
              "      <td>0.098</td>\n",
              "      <td>0</td>\n",
              "      <td>Other</td>\n",
              "      <td>drt2ydev82cj</td>\n",
              "      <td>0.654461</td>\n",
              "      <td>0.062627</td>\n",
              "      <td>0.107735</td>\n",
              "      <td>0.144875</td>\n",
              "      <td>0.030302</td>\n",
              "      <td>0.417109</td>\n",
              "      <td>0.725266</td>\n",
              "      <td>65903.7975</td>\n",
              "      <td>1.196902e+06</td>\n",
              "    </tr>\n",
              "    <tr>\n",
              "      <th>50064</th>\n",
              "      <td>202056504</td>\n",
              "      <td>1603</td>\n",
              "      <td>PROSTITUTION - ASSISTING OR PROMOTING</td>\n",
              "      <td>D4</td>\n",
              "      <td></td>\n",
              "      <td>0.0</td>\n",
              "      <td>2020-08-07 19:24:00</td>\n",
              "      <td>2020</td>\n",
              "      <td>8</td>\n",
              "      <td>Friday</td>\n",
              "      <td>19</td>\n",
              "      <td>NaN</td>\n",
              "      <td>MASSACHUSETTS AVE</td>\n",
              "      <td>42.332855</td>\n",
              "      <td>-71.072624</td>\n",
              "      <td>(42.33285500, -71.07262400)</td>\n",
              "      <td>1971.395</td>\n",
              "      <td>70570</td>\n",
              "      <td>0.098</td>\n",
              "      <td>0</td>\n",
              "      <td>Prostitution</td>\n",
              "      <td>drt2ydqqzb4k</td>\n",
              "      <td>0.654461</td>\n",
              "      <td>0.062627</td>\n",
              "      <td>0.107735</td>\n",
              "      <td>0.144875</td>\n",
              "      <td>0.030302</td>\n",
              "      <td>0.417109</td>\n",
              "      <td>0.725266</td>\n",
              "      <td>65903.7975</td>\n",
              "      <td>5.152512e+07</td>\n",
              "    </tr>\n",
              "    <tr>\n",
              "      <th>50065</th>\n",
              "      <td>202009470</td>\n",
              "      <td>2622</td>\n",
              "      <td>KIDNAPPING/CUSTODIAL KIDNAPPING/ ABDUCTION</td>\n",
              "      <td>D4</td>\n",
              "      <td>273</td>\n",
              "      <td>0.0</td>\n",
              "      <td>2020-02-03 11:00:00</td>\n",
              "      <td>2020</td>\n",
              "      <td>2</td>\n",
              "      <td>Monday</td>\n",
              "      <td>11</td>\n",
              "      <td>NaN</td>\n",
              "      <td>TREMONT ST</td>\n",
              "      <td>42.338654</td>\n",
              "      <td>-71.081456</td>\n",
              "      <td>(42.33865400, -71.08145600)</td>\n",
              "      <td>1971.395</td>\n",
              "      <td>70570</td>\n",
              "      <td>0.098</td>\n",
              "      <td>1</td>\n",
              "      <td>Kidnapping</td>\n",
              "      <td>drt2ye80d10u</td>\n",
              "      <td>0.654461</td>\n",
              "      <td>0.062627</td>\n",
              "      <td>0.107735</td>\n",
              "      <td>0.144875</td>\n",
              "      <td>0.030302</td>\n",
              "      <td>0.417109</td>\n",
              "      <td>0.725266</td>\n",
              "      <td>65903.7975</td>\n",
              "      <td>8.074521e+05</td>\n",
              "    </tr>\n",
              "  </tbody>\n",
              "</table>\n",
              "</div>"
            ],
            "text/plain": [
              "      INCIDENT_NUMBER  OFFENSE_CODE  ... MEDIAN_INCOME LOCAL_PROP_VALUES\n",
              "50056       202012584          1415  ...    65903.7975      1.590019e+06\n",
              "50057       202012578          1415  ...    65903.7975      5.482419e+07\n",
              "50058       202005522          1415  ...    65903.7975      5.482419e+07\n",
              "50059       202005164          1415  ...    65903.7975      2.162086e+08\n",
              "50060       202004532          1415  ...    65903.7975      6.169746e+05\n",
              "50061       202003101          1415  ...    65903.7975      4.155917e+06\n",
              "50062       202036432          2642  ...    65903.7975      4.489371e+06\n",
              "50063       202017085          2642  ...    65903.7975      1.196902e+06\n",
              "50064       202056504          1603  ...    65903.7975      5.152512e+07\n",
              "50065       202009470          2622  ...    65903.7975      8.074521e+05\n",
              "\n",
              "[10 rows x 31 columns]"
            ]
          },
          "metadata": {
            "tags": []
          },
          "execution_count": 57
        }
      ]
    },
    {
      "cell_type": "code",
      "metadata": {
        "id": "eD6R6sm6ISPm"
      },
      "source": [
        ""
      ],
      "execution_count": null,
      "outputs": []
    }
  ]
}
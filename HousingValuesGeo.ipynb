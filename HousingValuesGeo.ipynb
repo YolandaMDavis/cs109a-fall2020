{
  "nbformat": 4,
  "nbformat_minor": 0,
  "metadata": {
    "colab": {
      "name": "HousingValuesGeo.ipynb",
      "provenance": [],
      "authorship_tag": "ABX9TyPc7B3boE3+qZpTXlsLEEbE",
      "include_colab_link": true
    },
    "kernelspec": {
      "name": "python3",
      "display_name": "Python 3"
    }
  },
  "cells": [
    {
      "cell_type": "markdown",
      "metadata": {
        "id": "view-in-github",
        "colab_type": "text"
      },
      "source": [
        "<a href=\"https://colab.research.google.com/github/YolandaMDavis/cs109a-fall2020/blob/socio-economic/HousingValuesGeo.ipynb\" target=\"_parent\"><img src=\"https://colab.research.google.com/assets/colab-badge.svg\" alt=\"Open In Colab\"/></a>"
      ]
    },
    {
      "cell_type": "code",
      "metadata": {
        "id": "2f5dgQTAcImD",
        "outputId": "7a15e715-e667-4006-f900-9dafc0703c6c",
        "colab": {
          "base_uri": "https://localhost:8080/"
        }
      },
      "source": [
        "from google.colab import drive\n",
        "drive.mount('/content/drive')"
      ],
      "execution_count": 1,
      "outputs": [
        {
          "output_type": "stream",
          "text": [
            "Mounted at /content/drive\n"
          ],
          "name": "stdout"
        }
      ]
    },
    {
      "cell_type": "code",
      "metadata": {
        "id": "0MRzS9X2cR3j",
        "outputId": "104a99af-468c-4dac-be05-fb90a0d8d571",
        "colab": {
          "base_uri": "https://localhost:8080/"
        }
      },
      "source": [
        "!pip install pygeohash"
      ],
      "execution_count": 2,
      "outputs": [
        {
          "output_type": "stream",
          "text": [
            "Collecting pygeohash\n",
            "  Downloading https://files.pythonhosted.org/packages/2c/33/c912fa4476cedcd3ed9cd25c44c163583b92d319860438e6b632f7f42d0c/pygeohash-1.2.0.tar.gz\n",
            "Building wheels for collected packages: pygeohash\n",
            "  Building wheel for pygeohash (setup.py) ... \u001b[?25l\u001b[?25hdone\n",
            "  Created wheel for pygeohash: filename=pygeohash-1.2.0-py2.py3-none-any.whl size=6162 sha256=18f533d8c1691d119a51a411797f78c953538be0155435955defaa20afd0c611\n",
            "  Stored in directory: /root/.cache/pip/wheels/3f/5f/14/989d83a271207dda28232746d63e737a2dbd88ea7f7a9db807\n",
            "Successfully built pygeohash\n",
            "Installing collected packages: pygeohash\n",
            "Successfully installed pygeohash-1.2.0\n"
          ],
          "name": "stdout"
        }
      ]
    },
    {
      "cell_type": "code",
      "metadata": {
        "id": "K2uFI210cUFa"
      },
      "source": [
        "%matplotlib inline\n",
        "import math\n",
        "import numpy as np\n",
        "import pandas as pd\n",
        "import seaborn as sns\n",
        "import matplotlib.pyplot as plt\n",
        "import pygeohash as pgh\n",
        "DATA_ROOT = '/content/drive/My Drive/Final-Project-for-CS109a/'"
      ],
      "execution_count": 3,
      "outputs": []
    },
    {
      "cell_type": "code",
      "metadata": {
        "id": "MeypBxPocaFq",
        "outputId": "061d4b5e-1dff-405a-b35a-90c8800e77de",
        "colab": {
          "base_uri": "https://localhost:8080/"
        }
      },
      "source": [
        "SAM_addresses = pd.read_csv(DATA_ROOT + 'Live_Street_Address_Management__SAM__Addresses.csv')\n",
        "assessment = pd.read_csv(DATA_ROOT + '2020-property-assessment.csv')"
      ],
      "execution_count": 4,
      "outputs": [
        {
          "output_type": "stream",
          "text": [
            "/usr/local/lib/python3.6/dist-packages/IPython/core/interactiveshell.py:2718: DtypeWarning: Columns (8,9,25) have mixed types.Specify dtype option on import or set low_memory=False.\n",
            "  interactivity=interactivity, compiler=compiler, result=result)\n",
            "/usr/local/lib/python3.6/dist-packages/IPython/core/interactiveshell.py:2718: DtypeWarning: Columns (6,15,27,28,29,34,35,36,37,38,39,40,41,42,44,45,46,47,48,58,59,64,65,66,67,68,69,70,72,73,74) have mixed types.Specify dtype option on import or set low_memory=False.\n",
            "  interactivity=interactivity, compiler=compiler, result=result)\n"
          ],
          "name": "stderr"
        }
      ]
    },
    {
      "cell_type": "code",
      "metadata": {
        "id": "jqboXO36fjwR",
        "outputId": "05000fa4-b006-4b76-944d-0edd9bb0a02a",
        "colab": {
          "base_uri": "https://localhost:8080/"
        }
      },
      "source": [
        "SAM_addresses.shape"
      ],
      "execution_count": 5,
      "outputs": [
        {
          "output_type": "execute_result",
          "data": {
            "text/plain": [
              "(399248, 27)"
            ]
          },
          "metadata": {
            "tags": []
          },
          "execution_count": 5
        }
      ]
    },
    {
      "cell_type": "code",
      "metadata": {
        "id": "UlTHZU2nfnSH",
        "outputId": "4d5a6cd8-c7c0-4c55-83bc-77bc5c2a8758",
        "colab": {
          "base_uri": "https://localhost:8080/"
        }
      },
      "source": [
        "assessment.shape"
      ],
      "execution_count": 6,
      "outputs": [
        {
          "output_type": "execute_result",
          "data": {
            "text/plain": [
              "(175052, 75)"
            ]
          },
          "metadata": {
            "tags": []
          },
          "execution_count": 6
        }
      ]
    },
    {
      "cell_type": "code",
      "metadata": {
        "id": "7gmRhJFMfyW_",
        "outputId": "1e4c67c1-88a0-4498-ae59-647e36e1164d",
        "colab": {
          "base_uri": "https://localhost:8080/",
          "height": 100
        }
      },
      "source": [
        "SAM_addresses[SAM_addresses['PARCEL']==2200078000]"
      ],
      "execution_count": 7,
      "outputs": [
        {
          "output_type": "execute_result",
          "data": {
            "text/html": [
              "<div>\n",
              "<style scoped>\n",
              "    .dataframe tbody tr th:only-of-type {\n",
              "        vertical-align: middle;\n",
              "    }\n",
              "\n",
              "    .dataframe tbody tr th {\n",
              "        vertical-align: top;\n",
              "    }\n",
              "\n",
              "    .dataframe thead th {\n",
              "        text-align: right;\n",
              "    }\n",
              "</style>\n",
              "<table border=\"1\" class=\"dataframe\">\n",
              "  <thead>\n",
              "    <tr style=\"text-align: right;\">\n",
              "      <th></th>\n",
              "      <th>X</th>\n",
              "      <th>Y</th>\n",
              "      <th>SAM_ADDRESS_ID</th>\n",
              "      <th>RELATIONSHIP_TYPE</th>\n",
              "      <th>BUILDING_ID</th>\n",
              "      <th>FULL_ADDRESS</th>\n",
              "      <th>STREET_NUMBER</th>\n",
              "      <th>IS_RANGE</th>\n",
              "      <th>RANGE_FROM</th>\n",
              "      <th>RANGE_TO</th>\n",
              "      <th>UNIT</th>\n",
              "      <th>FULL_STREET_NAME</th>\n",
              "      <th>STREET_ID</th>\n",
              "      <th>STREET_PREFIX</th>\n",
              "      <th>STREET_BODY</th>\n",
              "      <th>STREET_SUFFIX_ABBR</th>\n",
              "      <th>STREET_FULL_SUFFIX</th>\n",
              "      <th>STREET_SUFFIX_DIR</th>\n",
              "      <th>STREET_NUMBER_SORT</th>\n",
              "      <th>MAILING_NEIGHBORHOOD</th>\n",
              "      <th>ZIP_CODE</th>\n",
              "      <th>X_COORD</th>\n",
              "      <th>Y_COORD</th>\n",
              "      <th>SAM_STREET_ID</th>\n",
              "      <th>WARD</th>\n",
              "      <th>PRECINCT_WARD</th>\n",
              "      <th>PARCEL</th>\n",
              "    </tr>\n",
              "  </thead>\n",
              "  <tbody>\n",
              "    <tr>\n",
              "      <th>132036</th>\n",
              "      <td>-71.124341</td>\n",
              "      <td>42.360299</td>\n",
              "      <td>150718</td>\n",
              "      <td>1</td>\n",
              "      <td>143177</td>\n",
              "      <td>30 Windom St</td>\n",
              "      <td>30</td>\n",
              "      <td>0</td>\n",
              "      <td>NaN</td>\n",
              "      <td>NaN</td>\n",
              "      <td>NaN</td>\n",
              "      <td>Windom St</td>\n",
              "      <td>4535</td>\n",
              "      <td></td>\n",
              "      <td>Windom</td>\n",
              "      <td>St</td>\n",
              "      <td>Street</td>\n",
              "      <td></td>\n",
              "      <td>30.0</td>\n",
              "      <td>Allston</td>\n",
              "      <td>2134.0</td>\n",
              "      <td>757696.825869</td>\n",
              "      <td>2.956542e+06</td>\n",
              "      <td>4535</td>\n",
              "      <td>22</td>\n",
              "      <td>2201</td>\n",
              "      <td>2.200078e+09</td>\n",
              "    </tr>\n",
              "  </tbody>\n",
              "</table>\n",
              "</div>"
            ],
            "text/plain": [
              "                X          Y  SAM_ADDRESS_ID  ...  WARD  PRECINCT_WARD        PARCEL\n",
              "132036 -71.124341  42.360299          150718  ...    22           2201  2.200078e+09\n",
              "\n",
              "[1 rows x 27 columns]"
            ]
          },
          "metadata": {
            "tags": []
          },
          "execution_count": 7
        }
      ]
    },
    {
      "cell_type": "code",
      "metadata": {
        "id": "-OEsHs5xf-Nv",
        "outputId": "bbf7d6bc-4df2-4569-c37b-07345bde0c9c",
        "colab": {
          "base_uri": "https://localhost:8080/",
          "height": 134
        }
      },
      "source": [
        "assessment[assessment['PID']==2200078000]"
      ],
      "execution_count": 8,
      "outputs": [
        {
          "output_type": "execute_result",
          "data": {
            "text/html": [
              "<div>\n",
              "<style scoped>\n",
              "    .dataframe tbody tr th:only-of-type {\n",
              "        vertical-align: middle;\n",
              "    }\n",
              "\n",
              "    .dataframe tbody tr th {\n",
              "        vertical-align: top;\n",
              "    }\n",
              "\n",
              "    .dataframe thead th {\n",
              "        text-align: right;\n",
              "    }\n",
              "</style>\n",
              "<table border=\"1\" class=\"dataframe\">\n",
              "  <thead>\n",
              "    <tr style=\"text-align: right;\">\n",
              "      <th></th>\n",
              "      <th>PID</th>\n",
              "      <th>CM_ID</th>\n",
              "      <th>GIS_ID</th>\n",
              "      <th>ST_NUM</th>\n",
              "      <th>ST_NAME</th>\n",
              "      <th>ST_NAME_SUF</th>\n",
              "      <th>UNIT_NUM</th>\n",
              "      <th>ZIPCODE</th>\n",
              "      <th>PTYPE</th>\n",
              "      <th>LU</th>\n",
              "      <th>OWN_OCC</th>\n",
              "      <th>OWNER</th>\n",
              "      <th>MAIL_ADDRESSEE</th>\n",
              "      <th>MAIL_ADDRESS</th>\n",
              "      <th>MAIL CS</th>\n",
              "      <th>MAIL_ZIPCODE</th>\n",
              "      <th>AV_LAND</th>\n",
              "      <th>AV_BLDG</th>\n",
              "      <th>AV_TOTAL</th>\n",
              "      <th>GROSS_TAX</th>\n",
              "      <th>LAND_SF</th>\n",
              "      <th>YR_BUILT</th>\n",
              "      <th>YR_REMOD</th>\n",
              "      <th>GROSS_AREA</th>\n",
              "      <th>LIVING_AREA</th>\n",
              "      <th>NUM_FLOORS</th>\n",
              "      <th>STRUCTURE_CLASS</th>\n",
              "      <th>R_BLDG_STYL</th>\n",
              "      <th>R_ROOF_TYP</th>\n",
              "      <th>R_EXT_FIN</th>\n",
              "      <th>R_TOTAL_RMS</th>\n",
              "      <th>R_BDRMS</th>\n",
              "      <th>R_FULL_BTH</th>\n",
              "      <th>R_HALF_BTH</th>\n",
              "      <th>R_BTH_STYLE</th>\n",
              "      <th>R_BTH_STYLE2</th>\n",
              "      <th>R_BTH_STYLE3</th>\n",
              "      <th>R_KITCH</th>\n",
              "      <th>R_KITCH_STYLE</th>\n",
              "      <th>R_KITCH_STYLE2</th>\n",
              "      <th>R_KITCH_STYLE3</th>\n",
              "      <th>R_HEAT_TYP</th>\n",
              "      <th>R_AC</th>\n",
              "      <th>R_FPLACE</th>\n",
              "      <th>R_EXT_CND</th>\n",
              "      <th>R_OVRALL_CND</th>\n",
              "      <th>R_INT_CND</th>\n",
              "      <th>R_INT_FIN</th>\n",
              "      <th>R_VIEW</th>\n",
              "      <th>S_NUM_BLDG</th>\n",
              "      <th>S_BLDG_STYL</th>\n",
              "      <th>S_UNIT_RES</th>\n",
              "      <th>S_UNIT_COM</th>\n",
              "      <th>S_UNIT_RC</th>\n",
              "      <th>S_EXT_FIN</th>\n",
              "      <th>S_EXT_CND</th>\n",
              "      <th>U_BASE_FLOOR</th>\n",
              "      <th>U_NUM_PARK</th>\n",
              "      <th>U_CORNER</th>\n",
              "      <th>U_ORIENT</th>\n",
              "      <th>U_TOT_RMS</th>\n",
              "      <th>U_BDRMS</th>\n",
              "      <th>U_FULL_BTH</th>\n",
              "      <th>U_HALF_BTH</th>\n",
              "      <th>U_BTH_STYLE</th>\n",
              "      <th>U_BTH_STYLE2</th>\n",
              "      <th>U_BTH_STYLE3</th>\n",
              "      <th>U_KITCH_TYPE</th>\n",
              "      <th>U_KITCH_STYLE</th>\n",
              "      <th>U_HEAT_TYP</th>\n",
              "      <th>U_AC</th>\n",
              "      <th>U_FPLACE</th>\n",
              "      <th>U_INT_FIN</th>\n",
              "      <th>U_INT_CND</th>\n",
              "      <th>U_VIEW</th>\n",
              "    </tr>\n",
              "  </thead>\n",
              "  <tbody>\n",
              "    <tr>\n",
              "      <th>163062</th>\n",
              "      <td>2200078000</td>\n",
              "      <td>NaN</td>\n",
              "      <td>2200078000</td>\n",
              "      <td>30</td>\n",
              "      <td>WINDOM</td>\n",
              "      <td>ST</td>\n",
              "      <td>NaN</td>\n",
              "      <td>2134.0</td>\n",
              "      <td>101</td>\n",
              "      <td>R1</td>\n",
              "      <td>Y</td>\n",
              "      <td>ANDERSON PRISCILLA R</td>\n",
              "      <td>C/O PRISCILLA ANDERSON</td>\n",
              "      <td>30 WINDOM</td>\n",
              "      <td>ALLSTON MA</td>\n",
              "      <td>2134</td>\n",
              "      <td>189400</td>\n",
              "      <td>350700</td>\n",
              "      <td>540100</td>\n",
              "      <td>5703.45</td>\n",
              "      <td>3400</td>\n",
              "      <td>1900.0</td>\n",
              "      <td>2013.0</td>\n",
              "      <td>1940.0</td>\n",
              "      <td>1128.0</td>\n",
              "      <td>2.0</td>\n",
              "      <td>NaN</td>\n",
              "      <td>CL - Colonial</td>\n",
              "      <td>L - Gambrel</td>\n",
              "      <td>M - Vinyl</td>\n",
              "      <td>6.0</td>\n",
              "      <td>3.0</td>\n",
              "      <td>1.0</td>\n",
              "      <td>1.0</td>\n",
              "      <td>M - Modern</td>\n",
              "      <td>M - Modern</td>\n",
              "      <td>NaN</td>\n",
              "      <td>1F - 1 Full Eat In K</td>\n",
              "      <td>M - Modern</td>\n",
              "      <td>NaN</td>\n",
              "      <td>NaN</td>\n",
              "      <td>F - Forced Hot Air</td>\n",
              "      <td>N - None</td>\n",
              "      <td>0.0</td>\n",
              "      <td>A - Average</td>\n",
              "      <td>A - Average</td>\n",
              "      <td>G - Good</td>\n",
              "      <td>N - Normal</td>\n",
              "      <td>A - Average</td>\n",
              "      <td>NaN</td>\n",
              "      <td>NaN</td>\n",
              "      <td>NaN</td>\n",
              "      <td>NaN</td>\n",
              "      <td>NaN</td>\n",
              "      <td>NaN</td>\n",
              "      <td>NaN</td>\n",
              "      <td>NaN</td>\n",
              "      <td>NaN</td>\n",
              "      <td>NaN</td>\n",
              "      <td>NaN</td>\n",
              "      <td>NaN</td>\n",
              "      <td>NaN</td>\n",
              "      <td>NaN</td>\n",
              "      <td>NaN</td>\n",
              "      <td>NaN</td>\n",
              "      <td>NaN</td>\n",
              "      <td>NaN</td>\n",
              "      <td>NaN</td>\n",
              "      <td>NaN</td>\n",
              "      <td>NaN</td>\n",
              "      <td>NaN</td>\n",
              "      <td>NaN</td>\n",
              "      <td>NaN</td>\n",
              "      <td>NaN</td>\n",
              "      <td>NaN</td>\n",
              "    </tr>\n",
              "  </tbody>\n",
              "</table>\n",
              "</div>"
            ],
            "text/plain": [
              "               PID  CM_ID      GIS_ID  ... U_INT_FIN U_INT_CND U_VIEW\n",
              "163062  2200078000    NaN  2200078000  ...       NaN       NaN    NaN\n",
              "\n",
              "[1 rows x 75 columns]"
            ]
          },
          "metadata": {
            "tags": []
          },
          "execution_count": 8
        }
      ]
    },
    {
      "cell_type": "code",
      "metadata": {
        "id": "PridmZA7eTwH"
      },
      "source": [
        "assessment_SAM = pd.merge(assessment, SAM_addresses, left_on='PID',right_on=\"PARCEL\")"
      ],
      "execution_count": 9,
      "outputs": []
    },
    {
      "cell_type": "code",
      "metadata": {
        "id": "MEAXw2-Temd6",
        "outputId": "84f0232f-3adf-453d-cda2-f1a9e9c3d7b0",
        "colab": {
          "base_uri": "https://localhost:8080/"
        }
      },
      "source": [
        "assessment_SAM.shape"
      ],
      "execution_count": 10,
      "outputs": [
        {
          "output_type": "execute_result",
          "data": {
            "text/plain": [
              "(406162, 102)"
            ]
          },
          "metadata": {
            "tags": []
          },
          "execution_count": 10
        }
      ]
    },
    {
      "cell_type": "code",
      "metadata": {
        "id": "fdetGScZhCXo"
      },
      "source": [
        "assessment_SAM_reduced = assessment_SAM[['PID', 'AV_LAND', 'AV_BLDG', 'AV_TOTAL', 'X', 'Y']]"
      ],
      "execution_count": 11,
      "outputs": []
    },
    {
      "cell_type": "code",
      "metadata": {
        "id": "0YxX_J71h_Rg",
        "outputId": "0e5437f0-b88e-4c36-fc13-336e81f5d8aa",
        "colab": {
          "base_uri": "https://localhost:8080/"
        }
      },
      "source": [
        "assessment_SAM_reduced.shape"
      ],
      "execution_count": 12,
      "outputs": [
        {
          "output_type": "execute_result",
          "data": {
            "text/plain": [
              "(406162, 6)"
            ]
          },
          "metadata": {
            "tags": []
          },
          "execution_count": 12
        }
      ]
    },
    {
      "cell_type": "code",
      "metadata": {
        "id": "u6PdQxJ-iBYX",
        "outputId": "77f99d3b-6b79-479a-8ded-af7801aa4d13",
        "colab": {
          "base_uri": "https://localhost:8080/"
        }
      },
      "source": [
        "assessment_SAM_reduced[\"GEOHASH\"] = [pgh.encode(row[\"Y\"],row[\"X\"]) for idx, row in assessment_SAM_reduced.iterrows()]"
      ],
      "execution_count": 13,
      "outputs": [
        {
          "output_type": "stream",
          "text": [
            "/usr/local/lib/python3.6/dist-packages/ipykernel_launcher.py:1: SettingWithCopyWarning: \n",
            "A value is trying to be set on a copy of a slice from a DataFrame.\n",
            "Try using .loc[row_indexer,col_indexer] = value instead\n",
            "\n",
            "See the caveats in the documentation: https://pandas.pydata.org/pandas-docs/stable/user_guide/indexing.html#returning-a-view-versus-a-copy\n",
            "  \"\"\"Entry point for launching an IPython kernel.\n"
          ],
          "name": "stderr"
        }
      ]
    },
    {
      "cell_type": "code",
      "metadata": {
        "id": "ovesOkFJiaFP",
        "outputId": "e8c886d7-a865-4fea-d824-c67423cde05b",
        "colab": {
          "base_uri": "https://localhost:8080/",
          "height": 204
        }
      },
      "source": [
        "assessment_SAM_reduced.head()"
      ],
      "execution_count": 14,
      "outputs": [
        {
          "output_type": "execute_result",
          "data": {
            "text/html": [
              "<div>\n",
              "<style scoped>\n",
              "    .dataframe tbody tr th:only-of-type {\n",
              "        vertical-align: middle;\n",
              "    }\n",
              "\n",
              "    .dataframe tbody tr th {\n",
              "        vertical-align: top;\n",
              "    }\n",
              "\n",
              "    .dataframe thead th {\n",
              "        text-align: right;\n",
              "    }\n",
              "</style>\n",
              "<table border=\"1\" class=\"dataframe\">\n",
              "  <thead>\n",
              "    <tr style=\"text-align: right;\">\n",
              "      <th></th>\n",
              "      <th>PID</th>\n",
              "      <th>AV_LAND</th>\n",
              "      <th>AV_BLDG</th>\n",
              "      <th>AV_TOTAL</th>\n",
              "      <th>X</th>\n",
              "      <th>Y</th>\n",
              "      <th>GEOHASH</th>\n",
              "    </tr>\n",
              "  </thead>\n",
              "  <tbody>\n",
              "    <tr>\n",
              "      <th>0</th>\n",
              "      <td>100272000</td>\n",
              "      <td>349800</td>\n",
              "      <td>355900</td>\n",
              "      <td>705700</td>\n",
              "      <td>-71.027291</td>\n",
              "      <td>42.380929</td>\n",
              "      <td>drt3pepwb1tx</td>\n",
              "    </tr>\n",
              "    <tr>\n",
              "      <th>1</th>\n",
              "      <td>100272000</td>\n",
              "      <td>349800</td>\n",
              "      <td>355900</td>\n",
              "      <td>705700</td>\n",
              "      <td>-71.027291</td>\n",
              "      <td>42.380929</td>\n",
              "      <td>drt3pepwb1tx</td>\n",
              "    </tr>\n",
              "    <tr>\n",
              "      <th>2</th>\n",
              "      <td>100272000</td>\n",
              "      <td>349800</td>\n",
              "      <td>355900</td>\n",
              "      <td>705700</td>\n",
              "      <td>-71.027291</td>\n",
              "      <td>42.380929</td>\n",
              "      <td>drt3pepwb1tx</td>\n",
              "    </tr>\n",
              "    <tr>\n",
              "      <th>3</th>\n",
              "      <td>100272000</td>\n",
              "      <td>349800</td>\n",
              "      <td>355900</td>\n",
              "      <td>705700</td>\n",
              "      <td>-71.027291</td>\n",
              "      <td>42.380929</td>\n",
              "      <td>drt3pepwb1tx</td>\n",
              "    </tr>\n",
              "    <tr>\n",
              "      <th>4</th>\n",
              "      <td>100274000</td>\n",
              "      <td>0</td>\n",
              "      <td>745300</td>\n",
              "      <td>745300</td>\n",
              "      <td>-71.027641</td>\n",
              "      <td>42.380959</td>\n",
              "      <td>drt3pepqbp29</td>\n",
              "    </tr>\n",
              "  </tbody>\n",
              "</table>\n",
              "</div>"
            ],
            "text/plain": [
              "         PID  AV_LAND  AV_BLDG  AV_TOTAL          X          Y       GEOHASH\n",
              "0  100272000   349800   355900    705700 -71.027291  42.380929  drt3pepwb1tx\n",
              "1  100272000   349800   355900    705700 -71.027291  42.380929  drt3pepwb1tx\n",
              "2  100272000   349800   355900    705700 -71.027291  42.380929  drt3pepwb1tx\n",
              "3  100272000   349800   355900    705700 -71.027291  42.380929  drt3pepwb1tx\n",
              "4  100274000        0   745300    745300 -71.027641  42.380959  drt3pepqbp29"
            ]
          },
          "metadata": {
            "tags": []
          },
          "execution_count": 14
        }
      ]
    },
    {
      "cell_type": "code",
      "metadata": {
        "id": "W07nfWHjim9x",
        "outputId": "032dd836-e16c-4ebd-af8b-835e062b0e51",
        "colab": {
          "base_uri": "https://localhost:8080/"
        }
      },
      "source": [
        "pgh.geohash_haversine_distance(assessment_SAM_reduced.iloc[0,6], assessment_SAM_reduced.iloc[4, 6])"
      ],
      "execution_count": 15,
      "outputs": [
        {
          "output_type": "execute_result",
          "data": {
            "text/plain": [
              "28.940991081356703"
            ]
          },
          "metadata": {
            "tags": []
          },
          "execution_count": 15
        }
      ]
    },
    {
      "cell_type": "code",
      "metadata": {
        "id": "GREzJwSHi3zr"
      },
      "source": [
        "from geopy import distance"
      ],
      "execution_count": 16,
      "outputs": []
    },
    {
      "cell_type": "code",
      "metadata": {
        "id": "EVUutPthjN6o",
        "outputId": "0a7740d4-326d-4cd9-e8be-bf0d5065ee3b",
        "colab": {
          "base_uri": "https://localhost:8080/"
        }
      },
      "source": [
        "place1 = (assessment_SAM_reduced.iloc[0,5], assessment_SAM_reduced.iloc[0,4])\n",
        "place2 = (assessment_SAM_reduced.iloc[4,5], assessment_SAM_reduced.iloc[4,4])\n",
        "print(distance.distance(place1, place2).m)"
      ],
      "execution_count": 17,
      "outputs": [
        {
          "output_type": "stream",
          "text": [
            "29.016173010195022\n"
          ],
          "name": "stdout"
        }
      ]
    },
    {
      "cell_type": "code",
      "metadata": {
        "id": "WAA5xeUwk54t",
        "outputId": "619cf92c-2576-45ec-a1d5-14ba69d1a8ed",
        "colab": {
          "base_uri": "https://localhost:8080/",
          "height": 35
        }
      },
      "source": [
        "origin = assessment_SAM_reduced[assessment_SAM_reduced['PID']==2200078000]['GEOHASH'].values[0]\n",
        "origin"
      ],
      "execution_count": 18,
      "outputs": [
        {
          "output_type": "execute_result",
          "data": {
            "application/vnd.google.colaboratory.intrinsic+json": {
              "type": "string"
            },
            "text/plain": [
              "'drt2vx2ydspb'"
            ]
          },
          "metadata": {
            "tags": []
          },
          "execution_count": 18
        }
      ]
    },
    {
      "cell_type": "code",
      "metadata": {
        "id": "q5QqONYpqidf",
        "outputId": "ba9e98cb-8473-4d6b-bd78-5bd11d8e6af6",
        "colab": {
          "base_uri": "https://localhost:8080/"
        }
      },
      "source": [
        "boston_crime = pd.read_csv(DATA_ROOT + 'data_prelim/boston_crime_socio_eco.csv')\n",
        "boston_crime.shape"
      ],
      "execution_count": 19,
      "outputs": [
        {
          "output_type": "execute_result",
          "data": {
            "text/plain": [
              "(523518, 23)"
            ]
          },
          "metadata": {
            "tags": []
          },
          "execution_count": 19
        }
      ]
    },
    {
      "cell_type": "code",
      "metadata": {
        "id": "e9hpTvNZxV6v",
        "outputId": "68faab58-954b-4a34-ce59-754d05c2f899",
        "colab": {
          "base_uri": "https://localhost:8080/",
          "height": 343
        }
      },
      "source": [
        "# boston_crime_2020.drop(columns=['Unnamed: 0'], inplace=True)\n",
        "boston_crime.head()"
      ],
      "execution_count": 20,
      "outputs": [
        {
          "output_type": "execute_result",
          "data": {
            "text/html": [
              "<div>\n",
              "<style scoped>\n",
              "    .dataframe tbody tr th:only-of-type {\n",
              "        vertical-align: middle;\n",
              "    }\n",
              "\n",
              "    .dataframe tbody tr th {\n",
              "        vertical-align: top;\n",
              "    }\n",
              "\n",
              "    .dataframe thead th {\n",
              "        text-align: right;\n",
              "    }\n",
              "</style>\n",
              "<table border=\"1\" class=\"dataframe\">\n",
              "  <thead>\n",
              "    <tr style=\"text-align: right;\">\n",
              "      <th></th>\n",
              "      <th>INCIDENT_NUMBER</th>\n",
              "      <th>OFFENSE_CODE</th>\n",
              "      <th>OFFENSE_DESCRIPTION</th>\n",
              "      <th>DISTRICT</th>\n",
              "      <th>REPORTING_AREA</th>\n",
              "      <th>SHOOTING</th>\n",
              "      <th>OCCURRED_ON_DATE</th>\n",
              "      <th>YEAR</th>\n",
              "      <th>MONTH</th>\n",
              "      <th>DAY_OF_WEEK</th>\n",
              "      <th>HOUR</th>\n",
              "      <th>STREET</th>\n",
              "      <th>Lat</th>\n",
              "      <th>Long</th>\n",
              "      <th>Location</th>\n",
              "      <th>WHITE</th>\n",
              "      <th>BLACK</th>\n",
              "      <th>HISPANIC</th>\n",
              "      <th>ASIAN</th>\n",
              "      <th>OTHER</th>\n",
              "      <th>16-19-EMPLOYMENT</th>\n",
              "      <th>20-34-EMPLOYMENT</th>\n",
              "      <th>MEDIAN_INCOME</th>\n",
              "    </tr>\n",
              "  </thead>\n",
              "  <tbody>\n",
              "    <tr>\n",
              "      <th>0</th>\n",
              "      <td>S97333701</td>\n",
              "      <td>3301</td>\n",
              "      <td>VERBAL DISPUTE</td>\n",
              "      <td>C6</td>\n",
              "      <td>915</td>\n",
              "      <td>0</td>\n",
              "      <td>2020-07-18 14:34:00</td>\n",
              "      <td>2020</td>\n",
              "      <td>7</td>\n",
              "      <td>Saturday</td>\n",
              "      <td>14</td>\n",
              "      <td>MARY BOYLE WAY</td>\n",
              "      <td>42.330813</td>\n",
              "      <td>-71.051368</td>\n",
              "      <td>(42.33081300, -71.05136800)</td>\n",
              "      <td>0.79193</td>\n",
              "      <td>0.045022</td>\n",
              "      <td>0.069712</td>\n",
              "      <td>0.074954</td>\n",
              "      <td>0.018382</td>\n",
              "      <td>0.38985</td>\n",
              "      <td>0.888016</td>\n",
              "      <td>121877.555</td>\n",
              "    </tr>\n",
              "    <tr>\n",
              "      <th>1</th>\n",
              "      <td>I20210846</td>\n",
              "      <td>3201</td>\n",
              "      <td>PROPERTY - LOST/ MISSING</td>\n",
              "      <td>C6</td>\n",
              "      <td>206</td>\n",
              "      <td>0</td>\n",
              "      <td>2020-02-09 00:30:00</td>\n",
              "      <td>2020</td>\n",
              "      <td>2</td>\n",
              "      <td>Sunday</td>\n",
              "      <td>0</td>\n",
              "      <td>SEAPORT BLVD</td>\n",
              "      <td>42.352756</td>\n",
              "      <td>-71.047481</td>\n",
              "      <td>(42.35275600, -71.04748100)</td>\n",
              "      <td>0.79193</td>\n",
              "      <td>0.045022</td>\n",
              "      <td>0.069712</td>\n",
              "      <td>0.074954</td>\n",
              "      <td>0.018382</td>\n",
              "      <td>0.38985</td>\n",
              "      <td>0.888016</td>\n",
              "      <td>121877.555</td>\n",
              "    </tr>\n",
              "    <tr>\n",
              "      <th>2</th>\n",
              "      <td>I20207883</td>\n",
              "      <td>3115</td>\n",
              "      <td>INVESTIGATE PERSON</td>\n",
              "      <td>C6</td>\n",
              "      <td>914</td>\n",
              "      <td>0</td>\n",
              "      <td>2020-04-18 17:11:00</td>\n",
              "      <td>2020</td>\n",
              "      <td>4</td>\n",
              "      <td>Saturday</td>\n",
              "      <td>17</td>\n",
              "      <td>OLD COLONY AVE</td>\n",
              "      <td>42.325573</td>\n",
              "      <td>-71.052481</td>\n",
              "      <td>(42.32557300, -71.05248100)</td>\n",
              "      <td>0.79193</td>\n",
              "      <td>0.045022</td>\n",
              "      <td>0.069712</td>\n",
              "      <td>0.074954</td>\n",
              "      <td>0.018382</td>\n",
              "      <td>0.38985</td>\n",
              "      <td>0.888016</td>\n",
              "      <td>121877.555</td>\n",
              "    </tr>\n",
              "    <tr>\n",
              "      <th>3</th>\n",
              "      <td>I192078622</td>\n",
              "      <td>619</td>\n",
              "      <td>LARCENY ALL OTHERS</td>\n",
              "      <td>C6</td>\n",
              "      <td>201</td>\n",
              "      <td>NaN</td>\n",
              "      <td>2019-09-29 03:04:00</td>\n",
              "      <td>2019</td>\n",
              "      <td>9</td>\n",
              "      <td>Sunday</td>\n",
              "      <td>3</td>\n",
              "      <td>W BROADWAY</td>\n",
              "      <td>42.340070</td>\n",
              "      <td>-71.052794</td>\n",
              "      <td>(42.34006986, -71.05279420)</td>\n",
              "      <td>0.79193</td>\n",
              "      <td>0.045022</td>\n",
              "      <td>0.069712</td>\n",
              "      <td>0.074954</td>\n",
              "      <td>0.018382</td>\n",
              "      <td>0.38985</td>\n",
              "      <td>0.888016</td>\n",
              "      <td>121877.555</td>\n",
              "    </tr>\n",
              "    <tr>\n",
              "      <th>4</th>\n",
              "      <td>I192078606</td>\n",
              "      <td>3201</td>\n",
              "      <td>PROPERTY - LOST</td>\n",
              "      <td>C6</td>\n",
              "      <td>200</td>\n",
              "      <td>NaN</td>\n",
              "      <td>2019-09-29 02:21:00</td>\n",
              "      <td>2019</td>\n",
              "      <td>9</td>\n",
              "      <td>Sunday</td>\n",
              "      <td>2</td>\n",
              "      <td>W BROADWAY</td>\n",
              "      <td>42.341288</td>\n",
              "      <td>-71.054679</td>\n",
              "      <td>(42.34128751, -71.05467933)</td>\n",
              "      <td>0.79193</td>\n",
              "      <td>0.045022</td>\n",
              "      <td>0.069712</td>\n",
              "      <td>0.074954</td>\n",
              "      <td>0.018382</td>\n",
              "      <td>0.38985</td>\n",
              "      <td>0.888016</td>\n",
              "      <td>121877.555</td>\n",
              "    </tr>\n",
              "  </tbody>\n",
              "</table>\n",
              "</div>"
            ],
            "text/plain": [
              "  INCIDENT_NUMBER  OFFENSE_CODE  ... 20-34-EMPLOYMENT MEDIAN_INCOME\n",
              "0       S97333701          3301  ...         0.888016    121877.555\n",
              "1       I20210846          3201  ...         0.888016    121877.555\n",
              "2       I20207883          3115  ...         0.888016    121877.555\n",
              "3      I192078622           619  ...         0.888016    121877.555\n",
              "4      I192078606          3201  ...         0.888016    121877.555\n",
              "\n",
              "[5 rows x 23 columns]"
            ]
          },
          "metadata": {
            "tags": []
          },
          "execution_count": 20
        }
      ]
    },
    {
      "cell_type": "code",
      "metadata": {
        "id": "OruFpvXcGtn2"
      },
      "source": [
        "boston_crime[\"GEOHASH\"] = [pgh.encode(row[\"Lat\"],row[\"Long\"]) for idx, row in boston_crime.iterrows()]"
      ],
      "execution_count": 22,
      "outputs": []
    },
    {
      "cell_type": "code",
      "metadata": {
        "id": "Huzo1V6p0YC7",
        "outputId": "b26899cb-2f5e-4e59-d99e-12fc8bf33a94",
        "colab": {
          "base_uri": "https://localhost:8080/",
          "height": 343
        }
      },
      "source": [
        "# boston_crime_2020_reduced = boston_crime_2020.dropna(axis=0, subset=['LATITUDE', 'LONGITUDE'])\n",
        "# boston_crime_2020_reduced.shape\n",
        "boston_crime.head()"
      ],
      "execution_count": 23,
      "outputs": [
        {
          "output_type": "execute_result",
          "data": {
            "text/html": [
              "<div>\n",
              "<style scoped>\n",
              "    .dataframe tbody tr th:only-of-type {\n",
              "        vertical-align: middle;\n",
              "    }\n",
              "\n",
              "    .dataframe tbody tr th {\n",
              "        vertical-align: top;\n",
              "    }\n",
              "\n",
              "    .dataframe thead th {\n",
              "        text-align: right;\n",
              "    }\n",
              "</style>\n",
              "<table border=\"1\" class=\"dataframe\">\n",
              "  <thead>\n",
              "    <tr style=\"text-align: right;\">\n",
              "      <th></th>\n",
              "      <th>INCIDENT_NUMBER</th>\n",
              "      <th>OFFENSE_CODE</th>\n",
              "      <th>OFFENSE_DESCRIPTION</th>\n",
              "      <th>DISTRICT</th>\n",
              "      <th>REPORTING_AREA</th>\n",
              "      <th>SHOOTING</th>\n",
              "      <th>OCCURRED_ON_DATE</th>\n",
              "      <th>YEAR</th>\n",
              "      <th>MONTH</th>\n",
              "      <th>DAY_OF_WEEK</th>\n",
              "      <th>HOUR</th>\n",
              "      <th>STREET</th>\n",
              "      <th>Lat</th>\n",
              "      <th>Long</th>\n",
              "      <th>Location</th>\n",
              "      <th>WHITE</th>\n",
              "      <th>BLACK</th>\n",
              "      <th>HISPANIC</th>\n",
              "      <th>ASIAN</th>\n",
              "      <th>OTHER</th>\n",
              "      <th>16-19-EMPLOYMENT</th>\n",
              "      <th>20-34-EMPLOYMENT</th>\n",
              "      <th>MEDIAN_INCOME</th>\n",
              "      <th>GEOHASH</th>\n",
              "    </tr>\n",
              "  </thead>\n",
              "  <tbody>\n",
              "    <tr>\n",
              "      <th>0</th>\n",
              "      <td>S97333701</td>\n",
              "      <td>3301</td>\n",
              "      <td>VERBAL DISPUTE</td>\n",
              "      <td>C6</td>\n",
              "      <td>915</td>\n",
              "      <td>0</td>\n",
              "      <td>2020-07-18 14:34:00</td>\n",
              "      <td>2020</td>\n",
              "      <td>7</td>\n",
              "      <td>Saturday</td>\n",
              "      <td>14</td>\n",
              "      <td>MARY BOYLE WAY</td>\n",
              "      <td>42.330813</td>\n",
              "      <td>-71.051368</td>\n",
              "      <td>(42.33081300, -71.05136800)</td>\n",
              "      <td>0.79193</td>\n",
              "      <td>0.045022</td>\n",
              "      <td>0.069712</td>\n",
              "      <td>0.074954</td>\n",
              "      <td>0.018382</td>\n",
              "      <td>0.38985</td>\n",
              "      <td>0.888016</td>\n",
              "      <td>121877.555</td>\n",
              "      <td>drt2z4jfz5kp</td>\n",
              "    </tr>\n",
              "    <tr>\n",
              "      <th>1</th>\n",
              "      <td>I20210846</td>\n",
              "      <td>3201</td>\n",
              "      <td>PROPERTY - LOST/ MISSING</td>\n",
              "      <td>C6</td>\n",
              "      <td>206</td>\n",
              "      <td>0</td>\n",
              "      <td>2020-02-09 00:30:00</td>\n",
              "      <td>2020</td>\n",
              "      <td>2</td>\n",
              "      <td>Sunday</td>\n",
              "      <td>0</td>\n",
              "      <td>SEAPORT BLVD</td>\n",
              "      <td>42.352756</td>\n",
              "      <td>-71.047481</td>\n",
              "      <td>(42.35275600, -71.04748100)</td>\n",
              "      <td>0.79193</td>\n",
              "      <td>0.045022</td>\n",
              "      <td>0.069712</td>\n",
              "      <td>0.074954</td>\n",
              "      <td>0.018382</td>\n",
              "      <td>0.38985</td>\n",
              "      <td>0.888016</td>\n",
              "      <td>121877.555</td>\n",
              "      <td>drt2zq0f9tyq</td>\n",
              "    </tr>\n",
              "    <tr>\n",
              "      <th>2</th>\n",
              "      <td>I20207883</td>\n",
              "      <td>3115</td>\n",
              "      <td>INVESTIGATE PERSON</td>\n",
              "      <td>C6</td>\n",
              "      <td>914</td>\n",
              "      <td>0</td>\n",
              "      <td>2020-04-18 17:11:00</td>\n",
              "      <td>2020</td>\n",
              "      <td>4</td>\n",
              "      <td>Saturday</td>\n",
              "      <td>17</td>\n",
              "      <td>OLD COLONY AVE</td>\n",
              "      <td>42.325573</td>\n",
              "      <td>-71.052481</td>\n",
              "      <td>(42.32557300, -71.05248100)</td>\n",
              "      <td>0.79193</td>\n",
              "      <td>0.045022</td>\n",
              "      <td>0.069712</td>\n",
              "      <td>0.074954</td>\n",
              "      <td>0.018382</td>\n",
              "      <td>0.38985</td>\n",
              "      <td>0.888016</td>\n",
              "      <td>121877.555</td>\n",
              "      <td>drt2z1jhm4wj</td>\n",
              "    </tr>\n",
              "    <tr>\n",
              "      <th>3</th>\n",
              "      <td>I192078622</td>\n",
              "      <td>619</td>\n",
              "      <td>LARCENY ALL OTHERS</td>\n",
              "      <td>C6</td>\n",
              "      <td>201</td>\n",
              "      <td>NaN</td>\n",
              "      <td>2019-09-29 03:04:00</td>\n",
              "      <td>2019</td>\n",
              "      <td>9</td>\n",
              "      <td>Sunday</td>\n",
              "      <td>3</td>\n",
              "      <td>W BROADWAY</td>\n",
              "      <td>42.340070</td>\n",
              "      <td>-71.052794</td>\n",
              "      <td>(42.34006986, -71.05279420)</td>\n",
              "      <td>0.79193</td>\n",
              "      <td>0.045022</td>\n",
              "      <td>0.069712</td>\n",
              "      <td>0.074954</td>\n",
              "      <td>0.018382</td>\n",
              "      <td>0.38985</td>\n",
              "      <td>0.888016</td>\n",
              "      <td>121877.555</td>\n",
              "      <td>drt2z5ubvchd</td>\n",
              "    </tr>\n",
              "    <tr>\n",
              "      <th>4</th>\n",
              "      <td>I192078606</td>\n",
              "      <td>3201</td>\n",
              "      <td>PROPERTY - LOST</td>\n",
              "      <td>C6</td>\n",
              "      <td>200</td>\n",
              "      <td>NaN</td>\n",
              "      <td>2019-09-29 02:21:00</td>\n",
              "      <td>2019</td>\n",
              "      <td>9</td>\n",
              "      <td>Sunday</td>\n",
              "      <td>2</td>\n",
              "      <td>W BROADWAY</td>\n",
              "      <td>42.341288</td>\n",
              "      <td>-71.054679</td>\n",
              "      <td>(42.34128751, -71.05467933)</td>\n",
              "      <td>0.79193</td>\n",
              "      <td>0.045022</td>\n",
              "      <td>0.069712</td>\n",
              "      <td>0.074954</td>\n",
              "      <td>0.018382</td>\n",
              "      <td>0.38985</td>\n",
              "      <td>0.888016</td>\n",
              "      <td>121877.555</td>\n",
              "      <td>drt2z5gxcunf</td>\n",
              "    </tr>\n",
              "  </tbody>\n",
              "</table>\n",
              "</div>"
            ],
            "text/plain": [
              "  INCIDENT_NUMBER  OFFENSE_CODE  ... MEDIAN_INCOME       GEOHASH\n",
              "0       S97333701          3301  ...    121877.555  drt2z4jfz5kp\n",
              "1       I20210846          3201  ...    121877.555  drt2zq0f9tyq\n",
              "2       I20207883          3115  ...    121877.555  drt2z1jhm4wj\n",
              "3      I192078622           619  ...    121877.555  drt2z5ubvchd\n",
              "4      I192078606          3201  ...    121877.555  drt2z5gxcunf\n",
              "\n",
              "[5 rows x 24 columns]"
            ]
          },
          "metadata": {
            "tags": []
          },
          "execution_count": 23
        }
      ]
    },
    {
      "cell_type": "code",
      "metadata": {
        "id": "vo_kz8VhvPjU"
      },
      "source": [
        "# define function to apply across the GEOHASH of \n",
        "from collections import defaultdict\n",
        "\n",
        "# setting up home value dict (to 600 meter precision) with geohash. 100 meters was giving too many 0 values (almost 1% of rows)\n",
        "home_value_dict = defaultdict(list)\n",
        "for idx, row in assessment_SAM_reduced.iterrows():\n",
        "    home_value_dict[row['GEOHASH'][:6]].append(row['AV_TOTAL'])\n"
      ],
      "execution_count": 30,
      "outputs": []
    },
    {
      "cell_type": "code",
      "metadata": {
        "id": "tmrjj5CTHkr_"
      },
      "source": [
        "# function for getting values from the dictionary from geohash\n",
        "from statistics import mean\n",
        "\n",
        "def get_prop_values(geohash, home_values):\n",
        "  try:\n",
        "    mean_property_value = mean(home_values[geohash[:6]])\n",
        "  except:\n",
        "    mean_property_value = 0\n",
        "\n",
        "  return mean_property_value"
      ],
      "execution_count": 31,
      "outputs": []
    },
    {
      "cell_type": "code",
      "metadata": {
        "id": "Zh8t2zqMwowC"
      },
      "source": [
        "# prop_values_test = get_prop_values(origin, home_value_dict)\n",
        "# this should create list of the property values near \n",
        "LOCAL_PROP_VALUES = [get_prop_values(row[\"GEOHASH\"], home_value_dict) for idx, row in boston_crime.iterrows()]"
      ],
      "execution_count": 32,
      "outputs": []
    },
    {
      "cell_type": "code",
      "metadata": {
        "id": "pqjv89NUy-Ma"
      },
      "source": [
        "boston_crime['LOCAL_PROP_VALUES'] = LOCAL_PROP_VALUES"
      ],
      "execution_count": 33,
      "outputs": []
    },
    {
      "cell_type": "code",
      "metadata": {
        "id": "dV_HNnvm6iw3",
        "outputId": "ac159098-cd5d-4c59-891b-852addb95eca",
        "colab": {
          "base_uri": "https://localhost:8080/",
          "height": 668
        }
      },
      "source": [
        "boston_crime.tail(10)"
      ],
      "execution_count": 34,
      "outputs": [
        {
          "output_type": "execute_result",
          "data": {
            "text/html": [
              "<div>\n",
              "<style scoped>\n",
              "    .dataframe tbody tr th:only-of-type {\n",
              "        vertical-align: middle;\n",
              "    }\n",
              "\n",
              "    .dataframe tbody tr th {\n",
              "        vertical-align: top;\n",
              "    }\n",
              "\n",
              "    .dataframe thead th {\n",
              "        text-align: right;\n",
              "    }\n",
              "</style>\n",
              "<table border=\"1\" class=\"dataframe\">\n",
              "  <thead>\n",
              "    <tr style=\"text-align: right;\">\n",
              "      <th></th>\n",
              "      <th>INCIDENT_NUMBER</th>\n",
              "      <th>OFFENSE_CODE</th>\n",
              "      <th>OFFENSE_DESCRIPTION</th>\n",
              "      <th>DISTRICT</th>\n",
              "      <th>REPORTING_AREA</th>\n",
              "      <th>SHOOTING</th>\n",
              "      <th>OCCURRED_ON_DATE</th>\n",
              "      <th>YEAR</th>\n",
              "      <th>MONTH</th>\n",
              "      <th>DAY_OF_WEEK</th>\n",
              "      <th>HOUR</th>\n",
              "      <th>STREET</th>\n",
              "      <th>Lat</th>\n",
              "      <th>Long</th>\n",
              "      <th>Location</th>\n",
              "      <th>WHITE</th>\n",
              "      <th>BLACK</th>\n",
              "      <th>HISPANIC</th>\n",
              "      <th>ASIAN</th>\n",
              "      <th>OTHER</th>\n",
              "      <th>16-19-EMPLOYMENT</th>\n",
              "      <th>20-34-EMPLOYMENT</th>\n",
              "      <th>MEDIAN_INCOME</th>\n",
              "      <th>GEOHASH</th>\n",
              "      <th>LOCAL_PROP_VALUES</th>\n",
              "    </tr>\n",
              "  </thead>\n",
              "  <tbody>\n",
              "    <tr>\n",
              "      <th>523508</th>\n",
              "      <td>192078695</td>\n",
              "      <td>3114</td>\n",
              "      <td>INVESTIGATE PROPERTY</td>\n",
              "      <td>D4</td>\n",
              "      <td>624</td>\n",
              "      <td>0</td>\n",
              "      <td>2019-09-29 11:29:00</td>\n",
              "      <td>2019</td>\n",
              "      <td>9</td>\n",
              "      <td>Sunday</td>\n",
              "      <td>11</td>\n",
              "      <td>BOYLSTON ST</td>\n",
              "      <td>42.345447</td>\n",
              "      <td>-71.094598</td>\n",
              "      <td>(42.34544700, -71.09459800)</td>\n",
              "      <td>0.654461</td>\n",
              "      <td>0.062627</td>\n",
              "      <td>0.107735</td>\n",
              "      <td>0.144875</td>\n",
              "      <td>0.030302</td>\n",
              "      <td>0.417109</td>\n",
              "      <td>0.725266</td>\n",
              "      <td>65903.7975</td>\n",
              "      <td>drt2yhy2pg3q</td>\n",
              "      <td>1.635523e+07</td>\n",
              "    </tr>\n",
              "    <tr>\n",
              "      <th>523509</th>\n",
              "      <td>192078679</td>\n",
              "      <td>3115</td>\n",
              "      <td>INVESTIGATE PERSON</td>\n",
              "      <td>D4</td>\n",
              "      <td></td>\n",
              "      <td>0</td>\n",
              "      <td>2019-09-29 10:26:00</td>\n",
              "      <td>2019</td>\n",
              "      <td>9</td>\n",
              "      <td>Sunday</td>\n",
              "      <td>10</td>\n",
              "      <td>MONSIGNOR REYNOLDS WAY</td>\n",
              "      <td>42.340486</td>\n",
              "      <td>-71.069716</td>\n",
              "      <td>(42.34048600, -71.06971600)</td>\n",
              "      <td>0.654461</td>\n",
              "      <td>0.062627</td>\n",
              "      <td>0.107735</td>\n",
              "      <td>0.144875</td>\n",
              "      <td>0.030302</td>\n",
              "      <td>0.417109</td>\n",
              "      <td>0.725266</td>\n",
              "      <td>65903.7975</td>\n",
              "      <td>drt2ygbe5wdv</td>\n",
              "      <td>2.688223e+07</td>\n",
              "    </tr>\n",
              "    <tr>\n",
              "      <th>523510</th>\n",
              "      <td>192071899</td>\n",
              "      <td>3125</td>\n",
              "      <td>WARRANT ARREST - BOSTON WARRANT (MUST BE SUPPL...</td>\n",
              "      <td>D4</td>\n",
              "      <td></td>\n",
              "      <td>0</td>\n",
              "      <td>2019-10-12 15:00:00</td>\n",
              "      <td>2019</td>\n",
              "      <td>10</td>\n",
              "      <td>Saturday</td>\n",
              "      <td>15</td>\n",
              "      <td>NaN</td>\n",
              "      <td>42.335002</td>\n",
              "      <td>-71.075060</td>\n",
              "      <td>(42.33500200, -71.07506000)</td>\n",
              "      <td>0.654461</td>\n",
              "      <td>0.062627</td>\n",
              "      <td>0.107735</td>\n",
              "      <td>0.144875</td>\n",
              "      <td>0.030302</td>\n",
              "      <td>0.417109</td>\n",
              "      <td>0.725266</td>\n",
              "      <td>65903.7975</td>\n",
              "      <td>drt2yduer065</td>\n",
              "      <td>1.125403e+07</td>\n",
              "    </tr>\n",
              "    <tr>\n",
              "      <th>523511</th>\n",
              "      <td>192068048</td>\n",
              "      <td>801</td>\n",
              "      <td>ASSAULT - SIMPLE</td>\n",
              "      <td>D4</td>\n",
              "      <td>134</td>\n",
              "      <td>0</td>\n",
              "      <td>2019-10-04 11:30:00</td>\n",
              "      <td>2019</td>\n",
              "      <td>10</td>\n",
              "      <td>Friday</td>\n",
              "      <td>11</td>\n",
              "      <td>BOYLSTON ST</td>\n",
              "      <td>42.350378</td>\n",
              "      <td>-71.076261</td>\n",
              "      <td>(42.35037800, -71.07626100)</td>\n",
              "      <td>0.654461</td>\n",
              "      <td>0.062627</td>\n",
              "      <td>0.107735</td>\n",
              "      <td>0.144875</td>\n",
              "      <td>0.030302</td>\n",
              "      <td>0.417109</td>\n",
              "      <td>0.725266</td>\n",
              "      <td>65903.7975</td>\n",
              "      <td>drt2yteug4dt</td>\n",
              "      <td>3.907033e+07</td>\n",
              "    </tr>\n",
              "    <tr>\n",
              "      <th>523512</th>\n",
              "      <td>192059632</td>\n",
              "      <td>3125</td>\n",
              "      <td>WARRANT ARREST - BOSTON WARRANT (MUST BE SUPPL...</td>\n",
              "      <td>D4</td>\n",
              "      <td></td>\n",
              "      <td>0</td>\n",
              "      <td>2020-02-23 16:54:00</td>\n",
              "      <td>2020</td>\n",
              "      <td>2</td>\n",
              "      <td>Sunday</td>\n",
              "      <td>16</td>\n",
              "      <td>NaN</td>\n",
              "      <td>42.333496</td>\n",
              "      <td>-71.073388</td>\n",
              "      <td>(42.33349600, -71.07338800)</td>\n",
              "      <td>0.654461</td>\n",
              "      <td>0.062627</td>\n",
              "      <td>0.107735</td>\n",
              "      <td>0.144875</td>\n",
              "      <td>0.030302</td>\n",
              "      <td>0.417109</td>\n",
              "      <td>0.725266</td>\n",
              "      <td>65903.7975</td>\n",
              "      <td>drt2ydtfqp8u</td>\n",
              "      <td>1.125403e+07</td>\n",
              "    </tr>\n",
              "    <tr>\n",
              "      <th>523513</th>\n",
              "      <td>192040735</td>\n",
              "      <td>3125</td>\n",
              "      <td>WARRANT ARREST - BOSTON WARRANT (MUST BE SUPPL...</td>\n",
              "      <td>D4</td>\n",
              "      <td>150</td>\n",
              "      <td>0</td>\n",
              "      <td>2019-09-30 15:30:00</td>\n",
              "      <td>2019</td>\n",
              "      <td>9</td>\n",
              "      <td>Monday</td>\n",
              "      <td>15</td>\n",
              "      <td>APPLETON ST</td>\n",
              "      <td>42.345393</td>\n",
              "      <td>-71.073802</td>\n",
              "      <td>(42.34539300, -71.07380200)</td>\n",
              "      <td>0.654461</td>\n",
              "      <td>0.062627</td>\n",
              "      <td>0.107735</td>\n",
              "      <td>0.144875</td>\n",
              "      <td>0.030302</td>\n",
              "      <td>0.417109</td>\n",
              "      <td>0.725266</td>\n",
              "      <td>65903.7975</td>\n",
              "      <td>drt2ystxu3kh</td>\n",
              "      <td>5.518427e+06</td>\n",
              "    </tr>\n",
              "    <tr>\n",
              "      <th>523514</th>\n",
              "      <td>192022651</td>\n",
              "      <td>3126</td>\n",
              "      <td>WARRANT ARREST - OUTSIDE OF BOSTON WARRANT</td>\n",
              "      <td>D4</td>\n",
              "      <td></td>\n",
              "      <td>0</td>\n",
              "      <td>2019-10-15 09:11:00</td>\n",
              "      <td>2019</td>\n",
              "      <td>10</td>\n",
              "      <td>Tuesday</td>\n",
              "      <td>9</td>\n",
              "      <td>NaN</td>\n",
              "      <td>42.333496</td>\n",
              "      <td>-71.073388</td>\n",
              "      <td>(42.33349600, -71.07338800)</td>\n",
              "      <td>0.654461</td>\n",
              "      <td>0.062627</td>\n",
              "      <td>0.107735</td>\n",
              "      <td>0.144875</td>\n",
              "      <td>0.030302</td>\n",
              "      <td>0.417109</td>\n",
              "      <td>0.725266</td>\n",
              "      <td>65903.7975</td>\n",
              "      <td>drt2ydtfqp8u</td>\n",
              "      <td>1.125403e+07</td>\n",
              "    </tr>\n",
              "    <tr>\n",
              "      <th>523515</th>\n",
              "      <td>190536172</td>\n",
              "      <td>801</td>\n",
              "      <td>ASSAULT - SIMPLE</td>\n",
              "      <td>D4</td>\n",
              "      <td>152</td>\n",
              "      <td>0</td>\n",
              "      <td>2019-10-09 10:00:00</td>\n",
              "      <td>2019</td>\n",
              "      <td>10</td>\n",
              "      <td>Wednesday</td>\n",
              "      <td>10</td>\n",
              "      <td>WARREN AVE</td>\n",
              "      <td>42.344539</td>\n",
              "      <td>-71.073587</td>\n",
              "      <td>(42.34453900, -71.07358700)</td>\n",
              "      <td>0.654461</td>\n",
              "      <td>0.062627</td>\n",
              "      <td>0.107735</td>\n",
              "      <td>0.144875</td>\n",
              "      <td>0.030302</td>\n",
              "      <td>0.417109</td>\n",
              "      <td>0.725266</td>\n",
              "      <td>65903.7975</td>\n",
              "      <td>drt2ystfc6hq</td>\n",
              "      <td>5.518427e+06</td>\n",
              "    </tr>\n",
              "    <tr>\n",
              "      <th>523516</th>\n",
              "      <td>190258751</td>\n",
              "      <td>3125</td>\n",
              "      <td>WARRANT ARREST - BOSTON WARRANT (MUST BE SUPPL...</td>\n",
              "      <td>D4</td>\n",
              "      <td></td>\n",
              "      <td>0</td>\n",
              "      <td>2019-10-23 17:41:00</td>\n",
              "      <td>2019</td>\n",
              "      <td>10</td>\n",
              "      <td>Wednesday</td>\n",
              "      <td>17</td>\n",
              "      <td>NORTHAMPTON ST</td>\n",
              "      <td>42.333951</td>\n",
              "      <td>-71.075389</td>\n",
              "      <td>(42.33395100, -71.07538900)</td>\n",
              "      <td>0.654461</td>\n",
              "      <td>0.062627</td>\n",
              "      <td>0.107735</td>\n",
              "      <td>0.144875</td>\n",
              "      <td>0.030302</td>\n",
              "      <td>0.417109</td>\n",
              "      <td>0.725266</td>\n",
              "      <td>65903.7975</td>\n",
              "      <td>drt2ydsmpkkw</td>\n",
              "      <td>1.125403e+07</td>\n",
              "    </tr>\n",
              "    <tr>\n",
              "      <th>523517</th>\n",
              "      <td>120200242</td>\n",
              "      <td>3115</td>\n",
              "      <td>INVESTIGATE PERSON</td>\n",
              "      <td>D4</td>\n",
              "      <td>167</td>\n",
              "      <td>0</td>\n",
              "      <td>2020-01-05 00:00:00</td>\n",
              "      <td>2020</td>\n",
              "      <td>1</td>\n",
              "      <td>Sunday</td>\n",
              "      <td>0</td>\n",
              "      <td>HARRISON AVE</td>\n",
              "      <td>42.339541</td>\n",
              "      <td>-71.069408</td>\n",
              "      <td>(42.33954100, -71.06940800)</td>\n",
              "      <td>0.654461</td>\n",
              "      <td>0.062627</td>\n",
              "      <td>0.107735</td>\n",
              "      <td>0.144875</td>\n",
              "      <td>0.030302</td>\n",
              "      <td>0.417109</td>\n",
              "      <td>0.725266</td>\n",
              "      <td>65903.7975</td>\n",
              "      <td>drt2yg8vdy2r</td>\n",
              "      <td>2.688223e+07</td>\n",
              "    </tr>\n",
              "  </tbody>\n",
              "</table>\n",
              "</div>"
            ],
            "text/plain": [
              "       INCIDENT_NUMBER  OFFENSE_CODE  ...       GEOHASH LOCAL_PROP_VALUES\n",
              "523508       192078695          3114  ...  drt2yhy2pg3q      1.635523e+07\n",
              "523509       192078679          3115  ...  drt2ygbe5wdv      2.688223e+07\n",
              "523510       192071899          3125  ...  drt2yduer065      1.125403e+07\n",
              "523511       192068048           801  ...  drt2yteug4dt      3.907033e+07\n",
              "523512       192059632          3125  ...  drt2ydtfqp8u      1.125403e+07\n",
              "523513       192040735          3125  ...  drt2ystxu3kh      5.518427e+06\n",
              "523514       192022651          3126  ...  drt2ydtfqp8u      1.125403e+07\n",
              "523515       190536172           801  ...  drt2ystfc6hq      5.518427e+06\n",
              "523516       190258751          3125  ...  drt2ydsmpkkw      1.125403e+07\n",
              "523517       120200242          3115  ...  drt2yg8vdy2r      2.688223e+07\n",
              "\n",
              "[10 rows x 25 columns]"
            ]
          },
          "metadata": {
            "tags": []
          },
          "execution_count": 34
        }
      ]
    },
    {
      "cell_type": "code",
      "metadata": {
        "id": "eD6R6sm6ISPm",
        "outputId": "1d85a237-e296-45e2-c4c0-816cf92b39db",
        "colab": {
          "base_uri": "https://localhost:8080/"
        }
      },
      "source": [
        "boston_crime_reduced = boston_crime[boston_crime['Lat']!=0]\n",
        "boston_crime_reduced.dropna(subset=['Lat', 'Long'], inplace=True)"
      ],
      "execution_count": 45,
      "outputs": [
        {
          "output_type": "stream",
          "text": [
            "/usr/local/lib/python3.6/dist-packages/ipykernel_launcher.py:2: SettingWithCopyWarning: \n",
            "A value is trying to be set on a copy of a slice from a DataFrame\n",
            "\n",
            "See the caveats in the documentation: https://pandas.pydata.org/pandas-docs/stable/user_guide/indexing.html#returning-a-view-versus-a-copy\n",
            "  \n"
          ],
          "name": "stderr"
        }
      ]
    },
    {
      "cell_type": "code",
      "metadata": {
        "id": "26FkVS2CNMqp",
        "outputId": "1d7d02bd-8158-49fc-dd65-cfe98b98d1dd",
        "colab": {
          "base_uri": "https://localhost:8080/",
          "height": 643
        }
      },
      "source": [
        "boston_crime_reduced[boston_crime_reduced['LOCAL_PROP_VALUES']==0]"
      ],
      "execution_count": 46,
      "outputs": [
        {
          "output_type": "execute_result",
          "data": {
            "text/html": [
              "<div>\n",
              "<style scoped>\n",
              "    .dataframe tbody tr th:only-of-type {\n",
              "        vertical-align: middle;\n",
              "    }\n",
              "\n",
              "    .dataframe tbody tr th {\n",
              "        vertical-align: top;\n",
              "    }\n",
              "\n",
              "    .dataframe thead th {\n",
              "        text-align: right;\n",
              "    }\n",
              "</style>\n",
              "<table border=\"1\" class=\"dataframe\">\n",
              "  <thead>\n",
              "    <tr style=\"text-align: right;\">\n",
              "      <th></th>\n",
              "      <th>INCIDENT_NUMBER</th>\n",
              "      <th>OFFENSE_CODE</th>\n",
              "      <th>OFFENSE_DESCRIPTION</th>\n",
              "      <th>DISTRICT</th>\n",
              "      <th>REPORTING_AREA</th>\n",
              "      <th>SHOOTING</th>\n",
              "      <th>OCCURRED_ON_DATE</th>\n",
              "      <th>YEAR</th>\n",
              "      <th>MONTH</th>\n",
              "      <th>DAY_OF_WEEK</th>\n",
              "      <th>HOUR</th>\n",
              "      <th>STREET</th>\n",
              "      <th>Lat</th>\n",
              "      <th>Long</th>\n",
              "      <th>Location</th>\n",
              "      <th>WHITE</th>\n",
              "      <th>BLACK</th>\n",
              "      <th>HISPANIC</th>\n",
              "      <th>ASIAN</th>\n",
              "      <th>OTHER</th>\n",
              "      <th>16-19-EMPLOYMENT</th>\n",
              "      <th>20-34-EMPLOYMENT</th>\n",
              "      <th>MEDIAN_INCOME</th>\n",
              "      <th>GEOHASH</th>\n",
              "      <th>LOCAL_PROP_VALUES</th>\n",
              "    </tr>\n",
              "  </thead>\n",
              "  <tbody>\n",
              "    <tr>\n",
              "      <th>245</th>\n",
              "      <td>I192075099</td>\n",
              "      <td>3201</td>\n",
              "      <td>PROPERTY - LOST</td>\n",
              "      <td>C6</td>\n",
              "      <td>207</td>\n",
              "      <td>NaN</td>\n",
              "      <td>2019-09-18 13:46:00</td>\n",
              "      <td>2019</td>\n",
              "      <td>9</td>\n",
              "      <td>Wednesday</td>\n",
              "      <td>13</td>\n",
              "      <td>PIER 4 BLVD</td>\n",
              "      <td>-1.000000</td>\n",
              "      <td>-1.000000</td>\n",
              "      <td>(-1.00000000, -1.00000000)</td>\n",
              "      <td>0.791930</td>\n",
              "      <td>0.045022</td>\n",
              "      <td>0.069712</td>\n",
              "      <td>0.074954</td>\n",
              "      <td>0.018382</td>\n",
              "      <td>0.389850</td>\n",
              "      <td>0.888016</td>\n",
              "      <td>121877.5550</td>\n",
              "      <td>7zz631zyd63z</td>\n",
              "      <td>0.0</td>\n",
              "    </tr>\n",
              "    <tr>\n",
              "      <th>358</th>\n",
              "      <td>I192073218</td>\n",
              "      <td>3115</td>\n",
              "      <td>INVESTIGATE PERSON</td>\n",
              "      <td>C6</td>\n",
              "      <td>207</td>\n",
              "      <td>NaN</td>\n",
              "      <td>2019-09-12 13:03:00</td>\n",
              "      <td>2019</td>\n",
              "      <td>9</td>\n",
              "      <td>Thursday</td>\n",
              "      <td>13</td>\n",
              "      <td>PIER 4 BLVD</td>\n",
              "      <td>-1.000000</td>\n",
              "      <td>-1.000000</td>\n",
              "      <td>(-1.00000000, -1.00000000)</td>\n",
              "      <td>0.791930</td>\n",
              "      <td>0.045022</td>\n",
              "      <td>0.069712</td>\n",
              "      <td>0.074954</td>\n",
              "      <td>0.018382</td>\n",
              "      <td>0.389850</td>\n",
              "      <td>0.888016</td>\n",
              "      <td>121877.5550</td>\n",
              "      <td>7zz631zyd63z</td>\n",
              "      <td>0.0</td>\n",
              "    </tr>\n",
              "    <tr>\n",
              "      <th>1141</th>\n",
              "      <td>I192061036</td>\n",
              "      <td>3803</td>\n",
              "      <td>M/V ACCIDENT - PERSONAL INJURY</td>\n",
              "      <td>C6</td>\n",
              "      <td></td>\n",
              "      <td>NaN</td>\n",
              "      <td>2019-08-05 18:48:00</td>\n",
              "      <td>2019</td>\n",
              "      <td>8</td>\n",
              "      <td>Monday</td>\n",
              "      <td>18</td>\n",
              "      <td>NaN</td>\n",
              "      <td>-1.000000</td>\n",
              "      <td>-1.000000</td>\n",
              "      <td>(-1.00000000, -1.00000000)</td>\n",
              "      <td>0.791930</td>\n",
              "      <td>0.045022</td>\n",
              "      <td>0.069712</td>\n",
              "      <td>0.074954</td>\n",
              "      <td>0.018382</td>\n",
              "      <td>0.389850</td>\n",
              "      <td>0.888016</td>\n",
              "      <td>121877.5550</td>\n",
              "      <td>7zz631zyd63z</td>\n",
              "      <td>0.0</td>\n",
              "    </tr>\n",
              "    <tr>\n",
              "      <th>1511</th>\n",
              "      <td>I192055819</td>\n",
              "      <td>3831</td>\n",
              "      <td>M/V - LEAVING SCENE - PROPERTY DAMAGE</td>\n",
              "      <td>C6</td>\n",
              "      <td></td>\n",
              "      <td>NaN</td>\n",
              "      <td>2019-07-19 16:50:00</td>\n",
              "      <td>2019</td>\n",
              "      <td>7</td>\n",
              "      <td>Friday</td>\n",
              "      <td>16</td>\n",
              "      <td>SOUTHBAY</td>\n",
              "      <td>-1.000000</td>\n",
              "      <td>-1.000000</td>\n",
              "      <td>(-1.00000000, -1.00000000)</td>\n",
              "      <td>0.791930</td>\n",
              "      <td>0.045022</td>\n",
              "      <td>0.069712</td>\n",
              "      <td>0.074954</td>\n",
              "      <td>0.018382</td>\n",
              "      <td>0.389850</td>\n",
              "      <td>0.888016</td>\n",
              "      <td>121877.5550</td>\n",
              "      <td>7zz631zyd63z</td>\n",
              "      <td>0.0</td>\n",
              "    </tr>\n",
              "    <tr>\n",
              "      <th>2199</th>\n",
              "      <td>I192045328</td>\n",
              "      <td>3115</td>\n",
              "      <td>INVESTIGATE PERSON</td>\n",
              "      <td>C6</td>\n",
              "      <td>207</td>\n",
              "      <td>NaN</td>\n",
              "      <td>2019-06-15 08:00:00</td>\n",
              "      <td>2019</td>\n",
              "      <td>6</td>\n",
              "      <td>Saturday</td>\n",
              "      <td>8</td>\n",
              "      <td>PIER 4 BLVD</td>\n",
              "      <td>-1.000000</td>\n",
              "      <td>-1.000000</td>\n",
              "      <td>(-1.00000000, -1.00000000)</td>\n",
              "      <td>0.791930</td>\n",
              "      <td>0.045022</td>\n",
              "      <td>0.069712</td>\n",
              "      <td>0.074954</td>\n",
              "      <td>0.018382</td>\n",
              "      <td>0.389850</td>\n",
              "      <td>0.888016</td>\n",
              "      <td>121877.5550</td>\n",
              "      <td>7zz631zyd63z</td>\n",
              "      <td>0.0</td>\n",
              "    </tr>\n",
              "    <tr>\n",
              "      <th>...</th>\n",
              "      <td>...</td>\n",
              "      <td>...</td>\n",
              "      <td>...</td>\n",
              "      <td>...</td>\n",
              "      <td>...</td>\n",
              "      <td>...</td>\n",
              "      <td>...</td>\n",
              "      <td>...</td>\n",
              "      <td>...</td>\n",
              "      <td>...</td>\n",
              "      <td>...</td>\n",
              "      <td>...</td>\n",
              "      <td>...</td>\n",
              "      <td>...</td>\n",
              "      <td>...</td>\n",
              "      <td>...</td>\n",
              "      <td>...</td>\n",
              "      <td>...</td>\n",
              "      <td>...</td>\n",
              "      <td>...</td>\n",
              "      <td>...</td>\n",
              "      <td>...</td>\n",
              "      <td>...</td>\n",
              "      <td>...</td>\n",
              "      <td>...</td>\n",
              "    </tr>\n",
              "    <tr>\n",
              "      <th>453440</th>\n",
              "      <td>202053157</td>\n",
              "      <td>3116</td>\n",
              "      <td>HARBOR INCIDENT / VIOLATION</td>\n",
              "      <td>A7</td>\n",
              "      <td></td>\n",
              "      <td>0.0</td>\n",
              "      <td>2020-07-27 13:05:00</td>\n",
              "      <td>2020</td>\n",
              "      <td>7</td>\n",
              "      <td>Monday</td>\n",
              "      <td>13</td>\n",
              "      <td>DEER ISLAND RD</td>\n",
              "      <td>42.350244</td>\n",
              "      <td>-70.953726</td>\n",
              "      <td>(42.35024400, -70.95372600)</td>\n",
              "      <td>0.325667</td>\n",
              "      <td>0.025571</td>\n",
              "      <td>0.574151</td>\n",
              "      <td>0.038067</td>\n",
              "      <td>0.036545</td>\n",
              "      <td>0.308054</td>\n",
              "      <td>0.855628</td>\n",
              "      <td>52935.3600</td>\n",
              "      <td>drt8cmth43ej</td>\n",
              "      <td>0.0</td>\n",
              "    </tr>\n",
              "    <tr>\n",
              "      <th>454367</th>\n",
              "      <td>202032124</td>\n",
              "      <td>3116</td>\n",
              "      <td>HARBOR INCIDENT / VIOLATION</td>\n",
              "      <td>A7</td>\n",
              "      <td></td>\n",
              "      <td>0</td>\n",
              "      <td>2020-05-08 09:45:00</td>\n",
              "      <td>2020</td>\n",
              "      <td>5</td>\n",
              "      <td>Friday</td>\n",
              "      <td>9</td>\n",
              "      <td>DEER ISLAND RD</td>\n",
              "      <td>42.350244</td>\n",
              "      <td>-70.953726</td>\n",
              "      <td>(42.35024400, -70.95372600)</td>\n",
              "      <td>0.325667</td>\n",
              "      <td>0.025571</td>\n",
              "      <td>0.574151</td>\n",
              "      <td>0.038067</td>\n",
              "      <td>0.036545</td>\n",
              "      <td>0.308054</td>\n",
              "      <td>0.855628</td>\n",
              "      <td>52935.3600</td>\n",
              "      <td>drt8cmth43ej</td>\n",
              "      <td>0.0</td>\n",
              "    </tr>\n",
              "    <tr>\n",
              "      <th>458002</th>\n",
              "      <td>I192067942</td>\n",
              "      <td>727</td>\n",
              "      <td>AUTO THEFT - LEASED/RENTED VEHICLE</td>\n",
              "      <td>D4</td>\n",
              "      <td>109</td>\n",
              "      <td>NaN</td>\n",
              "      <td>2019-08-25 00:00:00</td>\n",
              "      <td>2019</td>\n",
              "      <td>8</td>\n",
              "      <td>Sunday</td>\n",
              "      <td>0</td>\n",
              "      <td>JERSEY</td>\n",
              "      <td>-1.000000</td>\n",
              "      <td>-1.000000</td>\n",
              "      <td>(-1.00000000, -1.00000000)</td>\n",
              "      <td>0.654461</td>\n",
              "      <td>0.062627</td>\n",
              "      <td>0.107735</td>\n",
              "      <td>0.144875</td>\n",
              "      <td>0.030302</td>\n",
              "      <td>0.417109</td>\n",
              "      <td>0.725266</td>\n",
              "      <td>65903.7975</td>\n",
              "      <td>7zz631zyd63z</td>\n",
              "      <td>0.0</td>\n",
              "    </tr>\n",
              "    <tr>\n",
              "      <th>471410</th>\n",
              "      <td>I182061252</td>\n",
              "      <td>802</td>\n",
              "      <td>ASSAULT SIMPLE - BATTERY</td>\n",
              "      <td>D4</td>\n",
              "      <td></td>\n",
              "      <td>NaN</td>\n",
              "      <td>2018-08-02 20:09:00</td>\n",
              "      <td>2018</td>\n",
              "      <td>8</td>\n",
              "      <td>Thursday</td>\n",
              "      <td>20</td>\n",
              "      <td>DITMUS</td>\n",
              "      <td>-1.000000</td>\n",
              "      <td>-1.000000</td>\n",
              "      <td>(-1.00000000, -1.00000000)</td>\n",
              "      <td>0.654461</td>\n",
              "      <td>0.062627</td>\n",
              "      <td>0.107735</td>\n",
              "      <td>0.144875</td>\n",
              "      <td>0.030302</td>\n",
              "      <td>0.417109</td>\n",
              "      <td>0.725266</td>\n",
              "      <td>65903.7975</td>\n",
              "      <td>7zz631zyd63z</td>\n",
              "      <td>0.0</td>\n",
              "    </tr>\n",
              "    <tr>\n",
              "      <th>497396</th>\n",
              "      <td>I162058847</td>\n",
              "      <td>1402</td>\n",
              "      <td>VANDALISM</td>\n",
              "      <td>D4</td>\n",
              "      <td>167</td>\n",
              "      <td>NaN</td>\n",
              "      <td>2016-07-23 09:00:00</td>\n",
              "      <td>2016</td>\n",
              "      <td>7</td>\n",
              "      <td>Saturday</td>\n",
              "      <td>9</td>\n",
              "      <td>CANTON ST</td>\n",
              "      <td>-1.000000</td>\n",
              "      <td>-1.000000</td>\n",
              "      <td>(-1.00000000, -1.00000000)</td>\n",
              "      <td>0.654461</td>\n",
              "      <td>0.062627</td>\n",
              "      <td>0.107735</td>\n",
              "      <td>0.144875</td>\n",
              "      <td>0.030302</td>\n",
              "      <td>0.417109</td>\n",
              "      <td>0.725266</td>\n",
              "      <td>65903.7975</td>\n",
              "      <td>7zz631zyd63z</td>\n",
              "      <td>0.0</td>\n",
              "    </tr>\n",
              "  </tbody>\n",
              "</table>\n",
              "<p>321 rows × 25 columns</p>\n",
              "</div>"
            ],
            "text/plain": [
              "       INCIDENT_NUMBER  OFFENSE_CODE  ...       GEOHASH LOCAL_PROP_VALUES\n",
              "245         I192075099          3201  ...  7zz631zyd63z               0.0\n",
              "358         I192073218          3115  ...  7zz631zyd63z               0.0\n",
              "1141        I192061036          3803  ...  7zz631zyd63z               0.0\n",
              "1511        I192055819          3831  ...  7zz631zyd63z               0.0\n",
              "2199        I192045328          3115  ...  7zz631zyd63z               0.0\n",
              "...                ...           ...  ...           ...               ...\n",
              "453440       202053157          3116  ...  drt8cmth43ej               0.0\n",
              "454367       202032124          3116  ...  drt8cmth43ej               0.0\n",
              "458002      I192067942           727  ...  7zz631zyd63z               0.0\n",
              "471410      I182061252           802  ...  7zz631zyd63z               0.0\n",
              "497396      I162058847          1402  ...  7zz631zyd63z               0.0\n",
              "\n",
              "[321 rows x 25 columns]"
            ]
          },
          "metadata": {
            "tags": []
          },
          "execution_count": 46
        }
      ]
    },
    {
      "cell_type": "code",
      "metadata": {
        "id": "eMBrKifVMhUk",
        "outputId": "ba9ffcbf-b3af-46f9-877a-911d92e294ef",
        "colab": {
          "base_uri": "https://localhost:8080/"
        }
      },
      "source": [
        "boston_crime_reduced['LOCAL_PROP_VALUES'].describe()"
      ],
      "execution_count": 47,
      "outputs": [
        {
          "output_type": "execute_result",
          "data": {
            "text/plain": [
              "count    4.941320e+05\n",
              "mean     1.098376e+07\n",
              "std      2.136595e+07\n",
              "min      0.000000e+00\n",
              "25%      9.348540e+05\n",
              "50%      2.949283e+06\n",
              "75%      1.125403e+07\n",
              "max      5.811994e+08\n",
              "Name: LOCAL_PROP_VALUES, dtype: float64"
            ]
          },
          "metadata": {
            "tags": []
          },
          "execution_count": 47
        }
      ]
    },
    {
      "cell_type": "code",
      "metadata": {
        "id": "XtoC2dTINiM0"
      },
      "source": [
        "# though I investigated the data by taking out NaN and 0, I'm writing all rows, even with NaNs, etc.\n",
        "boston_crime.to_csv(DATA_ROOT + 'data_prelim/boston_crime_james.csv', index=False)"
      ],
      "execution_count": 49,
      "outputs": []
    },
    {
      "cell_type": "code",
      "metadata": {
        "id": "F4QD8uusORdd"
      },
      "source": [
        ""
      ],
      "execution_count": null,
      "outputs": []
    }
  ]
}
{
  "nbformat": 4,
  "nbformat_minor": 0,
  "metadata": {
    "kernelspec": {
      "display_name": "Python 3",
      "language": "python",
      "name": "python3"
    },
    "language_info": {
      "codemirror_mode": {
        "name": "ipython",
        "version": 3
      },
      "file_extension": ".py",
      "mimetype": "text/x-python",
      "name": "python",
      "nbconvert_exporter": "python",
      "pygments_lexer": "ipython3",
      "version": "3.7.8"
    },
    "colab": {
      "name": "EconomicDataExporation.ipynb",
      "provenance": [],
      "include_colab_link": true
    }
  },
  "cells": [
    {
      "cell_type": "markdown",
      "metadata": {
        "id": "view-in-github",
        "colab_type": "text"
      },
      "source": [
        "<a href=\"https://colab.research.google.com/github/YolandaMDavis/cs109a-fall2020/blob/socio-economic/EconomicDataExporation.ipynb\" target=\"_parent\"><img src=\"https://colab.research.google.com/assets/colab-badge.svg\" alt=\"Open In Colab\"/></a>"
      ]
    },
    {
      "cell_type": "code",
      "metadata": {
        "id": "NOkfBNZunzPb"
      },
      "source": [
        "import pandas as pd\n",
        "import xlrd\n",
        "import seaborn as sns\n",
        "import matplotlib.pyplot as plt\n",
        "data_path = \"/content/drive/My Drive/Colab Notebooks/Final-Project-for-CS109a/\""
      ],
      "execution_count": 11,
      "outputs": []
    },
    {
      "cell_type": "code",
      "metadata": {
        "id": "DA2EmmDD858Q",
        "outputId": "d505d366-009f-4e4a-e8eb-4fef001d98dd",
        "colab": {
          "base_uri": "https://localhost:8080/",
          "height": 54
        }
      },
      "source": [
        "from google.colab import drive\n",
        "drive.mount('/content/drive')"
      ],
      "execution_count": 2,
      "outputs": [
        {
          "output_type": "stream",
          "text": [
            "Drive already mounted at /content/drive; to attempt to forcibly remount, call drive.mount(\"/content/drive\", force_remount=True).\n"
          ],
          "name": "stdout"
        }
      ]
    },
    {
      "cell_type": "code",
      "metadata": {
        "id": "Sr3Q7KeunzPg"
      },
      "source": [
        "data = pd.read_excel(data_path + 'boston_neighborhood_demographics_2013-2017.xlsx', sheet_name=\"HH Income\", skiprows=[0,1], header=0, skipfooter=3)"
      ],
      "execution_count": 7,
      "outputs": []
    },
    {
      "cell_type": "code",
      "metadata": {
        "id": "vVEnGMZmnzPj",
        "outputId": "4f5efd50-d8fd-4354-b258-e535dd794c8d",
        "colab": {
          "base_uri": "https://localhost:8080/",
          "height": 258
        }
      },
      "source": [
        "data.head()"
      ],
      "execution_count": 8,
      "outputs": [
        {
          "output_type": "execute_result",
          "data": {
            "text/html": [
              "<div>\n",
              "<style scoped>\n",
              "    .dataframe tbody tr th:only-of-type {\n",
              "        vertical-align: middle;\n",
              "    }\n",
              "\n",
              "    .dataframe tbody tr th {\n",
              "        vertical-align: top;\n",
              "    }\n",
              "\n",
              "    .dataframe thead th {\n",
              "        text-align: right;\n",
              "    }\n",
              "</style>\n",
              "<table border=\"1\" class=\"dataframe\">\n",
              "  <thead>\n",
              "    <tr style=\"text-align: right;\">\n",
              "      <th></th>\n",
              "      <th>Unnamed: 0</th>\n",
              "      <th>Median Income</th>\n",
              "      <th>Total Households</th>\n",
              "      <th>$14,999 and under</th>\n",
              "      <th>%</th>\n",
              "      <th>$15,000 to $24,999</th>\n",
              "      <th>%.1</th>\n",
              "      <th>$25,000 to $34,999</th>\n",
              "      <th>%.2</th>\n",
              "      <th>$35,000 to $49,999</th>\n",
              "      <th>%.3</th>\n",
              "      <th>$50,000 to $74,999</th>\n",
              "      <th>%.4</th>\n",
              "      <th>$75,000 to $99,999</th>\n",
              "      <th>%.5</th>\n",
              "      <th>$100,000 to $149,999</th>\n",
              "      <th>%.6</th>\n",
              "      <th>$150,000 +</th>\n",
              "      <th>%.7</th>\n",
              "    </tr>\n",
              "  </thead>\n",
              "  <tbody>\n",
              "    <tr>\n",
              "      <th>0</th>\n",
              "      <td>United States</td>\n",
              "      <td>57652.00</td>\n",
              "      <td>118825921</td>\n",
              "      <td>13710365</td>\n",
              "      <td>0.115382</td>\n",
              "      <td>11637905</td>\n",
              "      <td>0.097941</td>\n",
              "      <td>11330288</td>\n",
              "      <td>0.095352</td>\n",
              "      <td>15412493</td>\n",
              "      <td>0.129706</td>\n",
              "      <td>21000314</td>\n",
              "      <td>0.176732</td>\n",
              "      <td>14636046</td>\n",
              "      <td>0.123172</td>\n",
              "      <td>16701857</td>\n",
              "      <td>0.140557</td>\n",
              "      <td>14396653</td>\n",
              "      <td>0.121158</td>\n",
              "    </tr>\n",
              "    <tr>\n",
              "      <th>1</th>\n",
              "      <td>Massachusetts</td>\n",
              "      <td>74167.00</td>\n",
              "      <td>2585715</td>\n",
              "      <td>269677</td>\n",
              "      <td>0.104295</td>\n",
              "      <td>203309</td>\n",
              "      <td>0.078628</td>\n",
              "      <td>186707</td>\n",
              "      <td>0.072207</td>\n",
              "      <td>255677</td>\n",
              "      <td>0.098881</td>\n",
              "      <td>390219</td>\n",
              "      <td>0.150913</td>\n",
              "      <td>317494</td>\n",
              "      <td>0.122788</td>\n",
              "      <td>451683</td>\n",
              "      <td>0.174684</td>\n",
              "      <td>510949</td>\n",
              "      <td>0.197605</td>\n",
              "    </tr>\n",
              "    <tr>\n",
              "      <th>2</th>\n",
              "      <td>Boston</td>\n",
              "      <td>62021.00</td>\n",
              "      <td>263229</td>\n",
              "      <td>47236</td>\n",
              "      <td>0.179448</td>\n",
              "      <td>22654</td>\n",
              "      <td>0.086062</td>\n",
              "      <td>18413</td>\n",
              "      <td>0.069950</td>\n",
              "      <td>24161</td>\n",
              "      <td>0.091787</td>\n",
              "      <td>37621</td>\n",
              "      <td>0.142921</td>\n",
              "      <td>26157</td>\n",
              "      <td>0.099370</td>\n",
              "      <td>39811</td>\n",
              "      <td>0.151241</td>\n",
              "      <td>47176</td>\n",
              "      <td>0.179220</td>\n",
              "    </tr>\n",
              "    <tr>\n",
              "      <th>3</th>\n",
              "      <td>Allston</td>\n",
              "      <td>46982.76</td>\n",
              "      <td>6457</td>\n",
              "      <td>1453</td>\n",
              "      <td>0.225027</td>\n",
              "      <td>584</td>\n",
              "      <td>0.090444</td>\n",
              "      <td>603</td>\n",
              "      <td>0.093387</td>\n",
              "      <td>781</td>\n",
              "      <td>0.120954</td>\n",
              "      <td>1042</td>\n",
              "      <td>0.161375</td>\n",
              "      <td>544</td>\n",
              "      <td>0.084250</td>\n",
              "      <td>912</td>\n",
              "      <td>0.141242</td>\n",
              "      <td>538</td>\n",
              "      <td>0.083320</td>\n",
              "    </tr>\n",
              "    <tr>\n",
              "      <th>4</th>\n",
              "      <td>Back Bay</td>\n",
              "      <td>102070.55</td>\n",
              "      <td>9824</td>\n",
              "      <td>1402</td>\n",
              "      <td>0.142712</td>\n",
              "      <td>381</td>\n",
              "      <td>0.038783</td>\n",
              "      <td>350</td>\n",
              "      <td>0.035627</td>\n",
              "      <td>582</td>\n",
              "      <td>0.059243</td>\n",
              "      <td>1237</td>\n",
              "      <td>0.125916</td>\n",
              "      <td>879</td>\n",
              "      <td>0.089475</td>\n",
              "      <td>1586</td>\n",
              "      <td>0.161441</td>\n",
              "      <td>3407</td>\n",
              "      <td>0.346804</td>\n",
              "    </tr>\n",
              "  </tbody>\n",
              "</table>\n",
              "</div>"
            ],
            "text/plain": [
              "      Unnamed: 0  Median Income  ...  $150,000 +       %.7\n",
              "0  United States       57652.00  ...    14396653  0.121158\n",
              "1  Massachusetts       74167.00  ...      510949  0.197605\n",
              "2         Boston       62021.00  ...       47176  0.179220\n",
              "3        Allston       46982.76  ...         538  0.083320\n",
              "4       Back Bay      102070.55  ...        3407  0.346804\n",
              "\n",
              "[5 rows x 19 columns]"
            ]
          },
          "metadata": {
            "tags": []
          },
          "execution_count": 8
        }
      ]
    },
    {
      "cell_type": "code",
      "metadata": {
        "id": "RhygU5lmnzPm",
        "outputId": "cb6a15d3-5e59-4eb1-83eb-61b49ba44a31",
        "colab": {
          "base_uri": "https://localhost:8080/",
          "height": 326
        }
      },
      "source": [
        "data.tail()"
      ],
      "execution_count": 16,
      "outputs": [
        {
          "output_type": "execute_result",
          "data": {
            "text/html": [
              "<div>\n",
              "<style scoped>\n",
              "    .dataframe tbody tr th:only-of-type {\n",
              "        vertical-align: middle;\n",
              "    }\n",
              "\n",
              "    .dataframe tbody tr th {\n",
              "        vertical-align: top;\n",
              "    }\n",
              "\n",
              "    .dataframe thead th {\n",
              "        text-align: right;\n",
              "    }\n",
              "</style>\n",
              "<table border=\"1\" class=\"dataframe\">\n",
              "  <thead>\n",
              "    <tr style=\"text-align: right;\">\n",
              "      <th></th>\n",
              "      <th>Unnamed: 0</th>\n",
              "      <th>Median Income</th>\n",
              "      <th>Total Households</th>\n",
              "      <th>$14,999 and under</th>\n",
              "      <th>%</th>\n",
              "      <th>$15,000 to $24,999</th>\n",
              "      <th>%.1</th>\n",
              "      <th>$25,000 to $34,999</th>\n",
              "      <th>%.2</th>\n",
              "      <th>$35,000 to $49,999</th>\n",
              "      <th>%.3</th>\n",
              "      <th>$50,000 to $74,999</th>\n",
              "      <th>%.4</th>\n",
              "      <th>$75,000 to $99,999</th>\n",
              "      <th>%.5</th>\n",
              "      <th>$100,000 to $149,999</th>\n",
              "      <th>%.6</th>\n",
              "      <th>$150,000 +</th>\n",
              "      <th>%.7</th>\n",
              "    </tr>\n",
              "  </thead>\n",
              "  <tbody>\n",
              "    <tr>\n",
              "      <th>21</th>\n",
              "      <td>South Boston</td>\n",
              "      <td>93077.60</td>\n",
              "      <td>16628</td>\n",
              "      <td>2288</td>\n",
              "      <td>0.137599</td>\n",
              "      <td>1174</td>\n",
              "      <td>0.070604</td>\n",
              "      <td>857</td>\n",
              "      <td>0.051540</td>\n",
              "      <td>1020</td>\n",
              "      <td>0.061342</td>\n",
              "      <td>1745</td>\n",
              "      <td>0.104943</td>\n",
              "      <td>1701</td>\n",
              "      <td>0.102297</td>\n",
              "      <td>3249</td>\n",
              "      <td>0.195393</td>\n",
              "      <td>4594</td>\n",
              "      <td>0.276281</td>\n",
              "    </tr>\n",
              "    <tr>\n",
              "      <th>22</th>\n",
              "      <td>South Boston Waterfront</td>\n",
              "      <td>150677.51</td>\n",
              "      <td>1830</td>\n",
              "      <td>110</td>\n",
              "      <td>0.060109</td>\n",
              "      <td>60</td>\n",
              "      <td>0.032787</td>\n",
              "      <td>58</td>\n",
              "      <td>0.031694</td>\n",
              "      <td>66</td>\n",
              "      <td>0.036066</td>\n",
              "      <td>153</td>\n",
              "      <td>0.083607</td>\n",
              "      <td>192</td>\n",
              "      <td>0.104918</td>\n",
              "      <td>271</td>\n",
              "      <td>0.148087</td>\n",
              "      <td>920</td>\n",
              "      <td>0.502732</td>\n",
              "    </tr>\n",
              "    <tr>\n",
              "      <th>23</th>\n",
              "      <td>South End</td>\n",
              "      <td>86994.80</td>\n",
              "      <td>16193</td>\n",
              "      <td>2809</td>\n",
              "      <td>0.173470</td>\n",
              "      <td>1183</td>\n",
              "      <td>0.073056</td>\n",
              "      <td>887</td>\n",
              "      <td>0.054777</td>\n",
              "      <td>887</td>\n",
              "      <td>0.054777</td>\n",
              "      <td>1915</td>\n",
              "      <td>0.118261</td>\n",
              "      <td>866</td>\n",
              "      <td>0.053480</td>\n",
              "      <td>2115</td>\n",
              "      <td>0.130612</td>\n",
              "      <td>5531</td>\n",
              "      <td>0.341567</td>\n",
              "    </tr>\n",
              "    <tr>\n",
              "      <th>24</th>\n",
              "      <td>West End</td>\n",
              "      <td>96787.15</td>\n",
              "      <td>3134</td>\n",
              "      <td>489</td>\n",
              "      <td>0.156031</td>\n",
              "      <td>220</td>\n",
              "      <td>0.070198</td>\n",
              "      <td>191</td>\n",
              "      <td>0.060944</td>\n",
              "      <td>163</td>\n",
              "      <td>0.052010</td>\n",
              "      <td>287</td>\n",
              "      <td>0.091576</td>\n",
              "      <td>249</td>\n",
              "      <td>0.079451</td>\n",
              "      <td>500</td>\n",
              "      <td>0.159541</td>\n",
              "      <td>1035</td>\n",
              "      <td>0.330249</td>\n",
              "    </tr>\n",
              "    <tr>\n",
              "      <th>25</th>\n",
              "      <td>West Roxbury</td>\n",
              "      <td>80804.46</td>\n",
              "      <td>13757</td>\n",
              "      <td>1187</td>\n",
              "      <td>0.086283</td>\n",
              "      <td>1288</td>\n",
              "      <td>0.093625</td>\n",
              "      <td>788</td>\n",
              "      <td>0.057280</td>\n",
              "      <td>1202</td>\n",
              "      <td>0.087374</td>\n",
              "      <td>2065</td>\n",
              "      <td>0.150105</td>\n",
              "      <td>1501</td>\n",
              "      <td>0.109108</td>\n",
              "      <td>2452</td>\n",
              "      <td>0.178237</td>\n",
              "      <td>3274</td>\n",
              "      <td>0.237988</td>\n",
              "    </tr>\n",
              "  </tbody>\n",
              "</table>\n",
              "</div>"
            ],
            "text/plain": [
              "                 Unnamed: 0  Median Income  ...  $150,000 +       %.7\n",
              "21             South Boston       93077.60  ...        4594  0.276281\n",
              "22  South Boston Waterfront      150677.51  ...         920  0.502732\n",
              "23                South End       86994.80  ...        5531  0.341567\n",
              "24                 West End       96787.15  ...        1035  0.330249\n",
              "25             West Roxbury       80804.46  ...        3274  0.237988\n",
              "\n",
              "[5 rows x 19 columns]"
            ]
          },
          "metadata": {
            "tags": []
          },
          "execution_count": 16
        }
      ]
    },
    {
      "cell_type": "code",
      "metadata": {
        "id": "Wbc4JDxPnzPo",
        "outputId": "0b7a8729-ba8a-43ca-e8a4-be42e4aa3482",
        "colab": {
          "base_uri": "https://localhost:8080/",
          "height": 425
        }
      },
      "source": [
        "data.iloc[3:, 0]"
      ],
      "execution_count": 17,
      "outputs": [
        {
          "output_type": "execute_result",
          "data": {
            "text/plain": [
              "3                     Allston\n",
              "4                    Back Bay\n",
              "5                 Beacon Hill\n",
              "6                    Brighton\n",
              "7                 Charlestown\n",
              "8                  Dorchester\n",
              "9                    Downtown\n",
              "10                East Boston\n",
              "11                     Fenway\n",
              "12             Harbor Islands\n",
              "13                  Hyde Park\n",
              "14              Jamaica Plain\n",
              "15                   Longwood\n",
              "16                   Mattapan\n",
              "17               Mission Hill\n",
              "18                  North End\n",
              "19                 Roslindale\n",
              "20                    Roxbury\n",
              "21               South Boston\n",
              "22    South Boston Waterfront\n",
              "23                  South End\n",
              "24                   West End\n",
              "25               West Roxbury\n",
              "Name: Unnamed: 0, dtype: object"
            ]
          },
          "metadata": {
            "tags": []
          },
          "execution_count": 17
        }
      ]
    },
    {
      "cell_type": "code",
      "metadata": {
        "id": "hRv6LXWcnzPq"
      },
      "source": [
        "boston_areas = data.iloc[3:, 0]"
      ],
      "execution_count": 18,
      "outputs": []
    },
    {
      "cell_type": "code",
      "metadata": {
        "id": "-EgdMbJcnzPt"
      },
      "source": [
        "boston_areas = boston_areas.reset_index(drop=True)"
      ],
      "execution_count": 19,
      "outputs": []
    },
    {
      "cell_type": "code",
      "metadata": {
        "id": "n934zHBonzPw",
        "outputId": "abe8f231-da6b-4b50-c3b1-bf605807ce01",
        "colab": {
          "base_uri": "https://localhost:8080/",
          "height": 425
        }
      },
      "source": [
        "boston_areas"
      ],
      "execution_count": 20,
      "outputs": [
        {
          "output_type": "execute_result",
          "data": {
            "text/plain": [
              "0                     Allston\n",
              "1                    Back Bay\n",
              "2                 Beacon Hill\n",
              "3                    Brighton\n",
              "4                 Charlestown\n",
              "5                  Dorchester\n",
              "6                    Downtown\n",
              "7                 East Boston\n",
              "8                      Fenway\n",
              "9              Harbor Islands\n",
              "10                  Hyde Park\n",
              "11              Jamaica Plain\n",
              "12                   Longwood\n",
              "13                   Mattapan\n",
              "14               Mission Hill\n",
              "15                  North End\n",
              "16                 Roslindale\n",
              "17                    Roxbury\n",
              "18               South Boston\n",
              "19    South Boston Waterfront\n",
              "20                  South End\n",
              "21                   West End\n",
              "22               West Roxbury\n",
              "Name: Unnamed: 0, dtype: object"
            ]
          },
          "metadata": {
            "tags": []
          },
          "execution_count": 20
        }
      ]
    },
    {
      "cell_type": "code",
      "metadata": {
        "id": "JGDJZ_CLnzPy",
        "outputId": "9119754f-56dd-4f17-95b8-fac9fe215f9d",
        "colab": {
          "base_uri": "https://localhost:8080/",
          "height": 71
        }
      },
      "source": [
        "crime = pd.read_csv(data_path + 'tmpawx7s6l7.csv')"
      ],
      "execution_count": 13,
      "outputs": [
        {
          "output_type": "stream",
          "text": [
            "/usr/local/lib/python3.6/dist-packages/IPython/core/interactiveshell.py:2718: DtypeWarning: Columns (0,2,6,12) have mixed types.Specify dtype option on import or set low_memory=False.\n",
            "  interactivity=interactivity, compiler=compiler, result=result)\n"
          ],
          "name": "stderr"
        }
      ]
    },
    {
      "cell_type": "code",
      "metadata": {
        "id": "_GNpsP6TnzP0"
      },
      "source": [
        "districts = crime.DISTRICT.unique()"
      ],
      "execution_count": 14,
      "outputs": []
    },
    {
      "cell_type": "code",
      "metadata": {
        "id": "wE6zD1mKnzP3",
        "outputId": "6272f43f-f2d2-408d-9355-dccd34d52b05",
        "colab": {
          "base_uri": "https://localhost:8080/",
          "height": 51
        }
      },
      "source": [
        "districts"
      ],
      "execution_count": 21,
      "outputs": [
        {
          "output_type": "execute_result",
          "data": {
            "text/plain": [
              "array(['External', 'C6', 'E18', 'E13', 'C11', 'D14', 'B2', 'A15', 'E5',\n",
              "       'A1', 'B3', 'A7', 'D4', nan], dtype=object)"
            ]
          },
          "metadata": {
            "tags": []
          },
          "execution_count": 21
        }
      ]
    },
    {
      "cell_type": "code",
      "metadata": {
        "id": "7dESd8JgnzP5"
      },
      "source": [
        "districts = ['D14', 'D4', 'A1', 'D14', 'A15', 'C11', 'A1', 'A7', 'D4', 'NaN', 'E18', 'E13', 'D4', 'B3', 'B2', 'A1', 'E5', 'B2', 'C6', 'C6', 'D4', 'A1', 'E5']"
      ],
      "execution_count": 22,
      "outputs": []
    },
    {
      "cell_type": "code",
      "metadata": {
        "id": "bu3XQXNJnzP7"
      },
      "source": [
        "d = {'neighborhood': boston_areas, 'district': districts}"
      ],
      "execution_count": 23,
      "outputs": []
    },
    {
      "cell_type": "code",
      "metadata": {
        "id": "dHF8ChABnzP_"
      },
      "source": [
        "boston_locs = pd.DataFrame(data=d)"
      ],
      "execution_count": 24,
      "outputs": []
    },
    {
      "cell_type": "code",
      "metadata": {
        "id": "fLMJk1f1nzQB",
        "outputId": "55d63dfd-5bd7-4bed-e8e5-279972ef143e",
        "colab": {
          "base_uri": "https://localhost:8080/",
          "height": 762
        }
      },
      "source": [
        "boston_locs"
      ],
      "execution_count": 25,
      "outputs": [
        {
          "output_type": "execute_result",
          "data": {
            "text/html": [
              "<div>\n",
              "<style scoped>\n",
              "    .dataframe tbody tr th:only-of-type {\n",
              "        vertical-align: middle;\n",
              "    }\n",
              "\n",
              "    .dataframe tbody tr th {\n",
              "        vertical-align: top;\n",
              "    }\n",
              "\n",
              "    .dataframe thead th {\n",
              "        text-align: right;\n",
              "    }\n",
              "</style>\n",
              "<table border=\"1\" class=\"dataframe\">\n",
              "  <thead>\n",
              "    <tr style=\"text-align: right;\">\n",
              "      <th></th>\n",
              "      <th>neighborhood</th>\n",
              "      <th>district</th>\n",
              "    </tr>\n",
              "  </thead>\n",
              "  <tbody>\n",
              "    <tr>\n",
              "      <th>0</th>\n",
              "      <td>Allston</td>\n",
              "      <td>D14</td>\n",
              "    </tr>\n",
              "    <tr>\n",
              "      <th>1</th>\n",
              "      <td>Back Bay</td>\n",
              "      <td>D4</td>\n",
              "    </tr>\n",
              "    <tr>\n",
              "      <th>2</th>\n",
              "      <td>Beacon Hill</td>\n",
              "      <td>A1</td>\n",
              "    </tr>\n",
              "    <tr>\n",
              "      <th>3</th>\n",
              "      <td>Brighton</td>\n",
              "      <td>D14</td>\n",
              "    </tr>\n",
              "    <tr>\n",
              "      <th>4</th>\n",
              "      <td>Charlestown</td>\n",
              "      <td>A15</td>\n",
              "    </tr>\n",
              "    <tr>\n",
              "      <th>5</th>\n",
              "      <td>Dorchester</td>\n",
              "      <td>C11</td>\n",
              "    </tr>\n",
              "    <tr>\n",
              "      <th>6</th>\n",
              "      <td>Downtown</td>\n",
              "      <td>A1</td>\n",
              "    </tr>\n",
              "    <tr>\n",
              "      <th>7</th>\n",
              "      <td>East Boston</td>\n",
              "      <td>A7</td>\n",
              "    </tr>\n",
              "    <tr>\n",
              "      <th>8</th>\n",
              "      <td>Fenway</td>\n",
              "      <td>D4</td>\n",
              "    </tr>\n",
              "    <tr>\n",
              "      <th>9</th>\n",
              "      <td>Harbor Islands</td>\n",
              "      <td>NaN</td>\n",
              "    </tr>\n",
              "    <tr>\n",
              "      <th>10</th>\n",
              "      <td>Hyde Park</td>\n",
              "      <td>E18</td>\n",
              "    </tr>\n",
              "    <tr>\n",
              "      <th>11</th>\n",
              "      <td>Jamaica Plain</td>\n",
              "      <td>E13</td>\n",
              "    </tr>\n",
              "    <tr>\n",
              "      <th>12</th>\n",
              "      <td>Longwood</td>\n",
              "      <td>D4</td>\n",
              "    </tr>\n",
              "    <tr>\n",
              "      <th>13</th>\n",
              "      <td>Mattapan</td>\n",
              "      <td>B3</td>\n",
              "    </tr>\n",
              "    <tr>\n",
              "      <th>14</th>\n",
              "      <td>Mission Hill</td>\n",
              "      <td>B2</td>\n",
              "    </tr>\n",
              "    <tr>\n",
              "      <th>15</th>\n",
              "      <td>North End</td>\n",
              "      <td>A1</td>\n",
              "    </tr>\n",
              "    <tr>\n",
              "      <th>16</th>\n",
              "      <td>Roslindale</td>\n",
              "      <td>E5</td>\n",
              "    </tr>\n",
              "    <tr>\n",
              "      <th>17</th>\n",
              "      <td>Roxbury</td>\n",
              "      <td>B2</td>\n",
              "    </tr>\n",
              "    <tr>\n",
              "      <th>18</th>\n",
              "      <td>South Boston</td>\n",
              "      <td>C6</td>\n",
              "    </tr>\n",
              "    <tr>\n",
              "      <th>19</th>\n",
              "      <td>South Boston Waterfront</td>\n",
              "      <td>C6</td>\n",
              "    </tr>\n",
              "    <tr>\n",
              "      <th>20</th>\n",
              "      <td>South End</td>\n",
              "      <td>D4</td>\n",
              "    </tr>\n",
              "    <tr>\n",
              "      <th>21</th>\n",
              "      <td>West End</td>\n",
              "      <td>A1</td>\n",
              "    </tr>\n",
              "    <tr>\n",
              "      <th>22</th>\n",
              "      <td>West Roxbury</td>\n",
              "      <td>E5</td>\n",
              "    </tr>\n",
              "  </tbody>\n",
              "</table>\n",
              "</div>"
            ],
            "text/plain": [
              "               neighborhood district\n",
              "0                   Allston      D14\n",
              "1                  Back Bay       D4\n",
              "2               Beacon Hill       A1\n",
              "3                  Brighton      D14\n",
              "4               Charlestown      A15\n",
              "5                Dorchester      C11\n",
              "6                  Downtown       A1\n",
              "7               East Boston       A7\n",
              "8                    Fenway       D4\n",
              "9            Harbor Islands      NaN\n",
              "10                Hyde Park      E18\n",
              "11            Jamaica Plain      E13\n",
              "12                 Longwood       D4\n",
              "13                 Mattapan       B3\n",
              "14             Mission Hill       B2\n",
              "15                North End       A1\n",
              "16               Roslindale       E5\n",
              "17                  Roxbury       B2\n",
              "18             South Boston       C6\n",
              "19  South Boston Waterfront       C6\n",
              "20                South End       D4\n",
              "21                 West End       A1\n",
              "22             West Roxbury       E5"
            ]
          },
          "metadata": {
            "tags": []
          },
          "execution_count": 25
        }
      ]
    },
    {
      "cell_type": "code",
      "metadata": {
        "id": "eSIXvpoPnzQD"
      },
      "source": [
        "boston_locs.to_csv('Boston-Neighborhoods-to-Districts.csv')"
      ],
      "execution_count": null,
      "outputs": []
    },
    {
      "cell_type": "code",
      "metadata": {
        "id": "jbo3X867nzQF",
        "outputId": "793c8bed-4ee1-496b-f9d2-97357575e7eb",
        "colab": {
          "base_uri": "https://localhost:8080/",
          "height": 326
        }
      },
      "source": [
        "crime.head()"
      ],
      "execution_count": 26,
      "outputs": [
        {
          "output_type": "execute_result",
          "data": {
            "text/html": [
              "<div>\n",
              "<style scoped>\n",
              "    .dataframe tbody tr th:only-of-type {\n",
              "        vertical-align: middle;\n",
              "    }\n",
              "\n",
              "    .dataframe tbody tr th {\n",
              "        vertical-align: top;\n",
              "    }\n",
              "\n",
              "    .dataframe thead th {\n",
              "        text-align: right;\n",
              "    }\n",
              "</style>\n",
              "<table border=\"1\" class=\"dataframe\">\n",
              "  <thead>\n",
              "    <tr style=\"text-align: right;\">\n",
              "      <th></th>\n",
              "      <th>INCIDENT_NUMBER</th>\n",
              "      <th>OFFENSE_CODE</th>\n",
              "      <th>OFFENSE_CODE_GROUP</th>\n",
              "      <th>OFFENSE_DESCRIPTION</th>\n",
              "      <th>DISTRICT</th>\n",
              "      <th>REPORTING_AREA</th>\n",
              "      <th>SHOOTING</th>\n",
              "      <th>OCCURRED_ON_DATE</th>\n",
              "      <th>YEAR</th>\n",
              "      <th>MONTH</th>\n",
              "      <th>DAY_OF_WEEK</th>\n",
              "      <th>HOUR</th>\n",
              "      <th>UCR_PART</th>\n",
              "      <th>STREET</th>\n",
              "      <th>Lat</th>\n",
              "      <th>Long</th>\n",
              "      <th>Location</th>\n",
              "    </tr>\n",
              "  </thead>\n",
              "  <tbody>\n",
              "    <tr>\n",
              "      <th>0</th>\n",
              "      <td>TESTTEST2</td>\n",
              "      <td>423</td>\n",
              "      <td>NaN</td>\n",
              "      <td>ASSAULT - AGGRAVATED</td>\n",
              "      <td>External</td>\n",
              "      <td></td>\n",
              "      <td>0</td>\n",
              "      <td>2019-10-16 00:00:00</td>\n",
              "      <td>2019</td>\n",
              "      <td>10</td>\n",
              "      <td>Wednesday</td>\n",
              "      <td>0</td>\n",
              "      <td>NaN</td>\n",
              "      <td>RIVERVIEW DR</td>\n",
              "      <td>NaN</td>\n",
              "      <td>NaN</td>\n",
              "      <td>(0.00000000, 0.00000000)</td>\n",
              "    </tr>\n",
              "    <tr>\n",
              "      <th>1</th>\n",
              "      <td>S97333701</td>\n",
              "      <td>3301</td>\n",
              "      <td>NaN</td>\n",
              "      <td>VERBAL DISPUTE</td>\n",
              "      <td>C6</td>\n",
              "      <td>915</td>\n",
              "      <td>0</td>\n",
              "      <td>2020-07-18 14:34:00</td>\n",
              "      <td>2020</td>\n",
              "      <td>7</td>\n",
              "      <td>Saturday</td>\n",
              "      <td>14</td>\n",
              "      <td>NaN</td>\n",
              "      <td>MARY BOYLE WAY</td>\n",
              "      <td>42.330813</td>\n",
              "      <td>-71.051368</td>\n",
              "      <td>(42.33081300, -71.05136800)</td>\n",
              "    </tr>\n",
              "    <tr>\n",
              "      <th>2</th>\n",
              "      <td>S47513131</td>\n",
              "      <td>2647</td>\n",
              "      <td>NaN</td>\n",
              "      <td>THREATS TO DO BODILY HARM</td>\n",
              "      <td>E18</td>\n",
              "      <td>530</td>\n",
              "      <td>0</td>\n",
              "      <td>2020-06-24 10:15:00</td>\n",
              "      <td>2020</td>\n",
              "      <td>6</td>\n",
              "      <td>Wednesday</td>\n",
              "      <td>10</td>\n",
              "      <td>NaN</td>\n",
              "      <td>READVILLE ST</td>\n",
              "      <td>42.239491</td>\n",
              "      <td>-71.135954</td>\n",
              "      <td>(42.23949100, -71.13595400)</td>\n",
              "    </tr>\n",
              "    <tr>\n",
              "      <th>3</th>\n",
              "      <td>I92102201</td>\n",
              "      <td>3301</td>\n",
              "      <td>NaN</td>\n",
              "      <td>VERBAL DISPUTE</td>\n",
              "      <td>E13</td>\n",
              "      <td>583</td>\n",
              "      <td>0</td>\n",
              "      <td>2019-12-20 03:08:00</td>\n",
              "      <td>2019</td>\n",
              "      <td>12</td>\n",
              "      <td>Friday</td>\n",
              "      <td>3</td>\n",
              "      <td>NaN</td>\n",
              "      <td>DAY ST</td>\n",
              "      <td>42.325122</td>\n",
              "      <td>-71.107779</td>\n",
              "      <td>(42.32512200, -71.10777900)</td>\n",
              "    </tr>\n",
              "    <tr>\n",
              "      <th>4</th>\n",
              "      <td>I92097173</td>\n",
              "      <td>3115</td>\n",
              "      <td>NaN</td>\n",
              "      <td>INVESTIGATE PERSON</td>\n",
              "      <td>C11</td>\n",
              "      <td>355</td>\n",
              "      <td>0</td>\n",
              "      <td>2019-10-23 00:00:00</td>\n",
              "      <td>2019</td>\n",
              "      <td>10</td>\n",
              "      <td>Wednesday</td>\n",
              "      <td>0</td>\n",
              "      <td>NaN</td>\n",
              "      <td>GIBSON ST</td>\n",
              "      <td>42.297555</td>\n",
              "      <td>-71.059709</td>\n",
              "      <td>(42.29755500, -71.05970900)</td>\n",
              "    </tr>\n",
              "  </tbody>\n",
              "</table>\n",
              "</div>"
            ],
            "text/plain": [
              "  INCIDENT_NUMBER  OFFENSE_CODE  ...       Long                     Location\n",
              "0       TESTTEST2           423  ...        NaN     (0.00000000, 0.00000000)\n",
              "1       S97333701          3301  ... -71.051368  (42.33081300, -71.05136800)\n",
              "2       S47513131          2647  ... -71.135954  (42.23949100, -71.13595400)\n",
              "3       I92102201          3301  ... -71.107779  (42.32512200, -71.10777900)\n",
              "4       I92097173          3115  ... -71.059709  (42.29755500, -71.05970900)\n",
              "\n",
              "[5 rows x 17 columns]"
            ]
          },
          "metadata": {
            "tags": []
          },
          "execution_count": 26
        }
      ]
    },
    {
      "cell_type": "code",
      "metadata": {
        "id": "QMvGJXjVnzQH",
        "outputId": "20649ff6-7152-405f-c93c-4886cc876795",
        "colab": {
          "base_uri": "https://localhost:8080/",
          "height": 272
        }
      },
      "source": [
        "crime[['DISTRICT']].value_counts()"
      ],
      "execution_count": 27,
      "outputs": [
        {
          "output_type": "execute_result",
          "data": {
            "text/plain": [
              "DISTRICT\n",
              "B2          82674\n",
              "C11         70098\n",
              "D4          66182\n",
              "B3          60058\n",
              "A1          56461\n",
              "C6          37251\n",
              "D14         32980\n",
              "E18         29120\n",
              "E13         28695\n",
              "E5          22280\n",
              "A7          21292\n",
              "A15         10573\n",
              "External      107\n",
              "dtype: int64"
            ]
          },
          "metadata": {
            "tags": []
          },
          "execution_count": 27
        }
      ]
    },
    {
      "cell_type": "code",
      "metadata": {
        "id": "C_Fd-hwQnzQL",
        "outputId": "76da1b7c-b7dd-4279-c876-70acf06dee2f",
        "colab": {
          "base_uri": "https://localhost:8080/",
          "height": 677
        }
      },
      "source": [
        "plt.figure(figsize=(10,10))\n",
        "sns.countplot('DISTRICT', data=crime)\n",
        "sns.countplot(x='DISTRICT', hue=\"YEAR\", data=crime)"
      ],
      "execution_count": 29,
      "outputs": [
        {
          "output_type": "stream",
          "text": [
            "/usr/local/lib/python3.6/dist-packages/seaborn/_decorators.py:43: FutureWarning: Pass the following variable as a keyword arg: x. From version 0.12, the only valid positional argument will be `data`, and passing other arguments without an explicit keyword will result in an error or misinterpretation.\n",
            "  FutureWarning\n"
          ],
          "name": "stderr"
        },
        {
          "output_type": "execute_result",
          "data": {
            "text/plain": [
              "<matplotlib.axes._subplots.AxesSubplot at 0x7faf7cbc2198>"
            ]
          },
          "metadata": {
            "tags": []
          },
          "execution_count": 29
        },
        {
          "output_type": "display_data",
          "data": {
            "image/png": "[encoded data removed]",
            "text/plain": [
              "<Figure size 720x720 with 1 Axes>"
            ]
          },
          "metadata": {
            "tags": [],
            "needs_background": "light"
          }
        }
      ]
    },
    {
      "cell_type": "code",
      "metadata": {
        "id": "I3bfH_mfnzQP"
      },
      "source": [
        "august = crime.loc[crime['MONTH']==8]"
      ],
      "execution_count": 30,
      "outputs": []
    },
    {
      "cell_type": "code",
      "metadata": {
        "id": "QPNQMvwBnzQQ",
        "outputId": "2b68cb5a-4ad8-44fd-ce01-38233ddbdcdf",
        "colab": {
          "base_uri": "https://localhost:8080/",
          "height": 623
        }
      },
      "source": [
        "plt.figure(figsize=(10,10))\n",
        "sns.countplot(x='DISTRICT', hue='YEAR', data=august)"
      ],
      "execution_count": 31,
      "outputs": [
        {
          "output_type": "execute_result",
          "data": {
            "text/plain": [
              "<matplotlib.axes._subplots.AxesSubplot at 0x7fafa3eed080>"
            ]
          },
          "metadata": {
            "tags": []
          },
          "execution_count": 31
        },
        {
          "output_type": "display_data",
          "data": {
            "image/png": "[encoded data removed]",
            "text/plain": [
              "<Figure size 720x720 with 1 Axes>"
            ]
          },
          "metadata": {
            "tags": [],
            "needs_background": "light"
          }
        }
      ]
    },
    {
      "cell_type": "code",
      "metadata": {
        "id": "AQWBX8EdnzQS"
      },
      "source": [
        ""
      ],
      "execution_count": null,
      "outputs": []
    }
  ]
}